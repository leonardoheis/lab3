{
 "cells": [
  {
   "cell_type": "code",
   "execution_count": null,
   "id": "150aa3a9",
   "metadata": {},
   "outputs": [],
   "source": [
    "import pandas as pd\n",
    "import random\n",
    "import numpy as np\n",
    "\n",
    "# Cargar el dataset\n",
    "df = pd.read_csv('../data/ventas_feature1.csv', sep=',')"
   ]
  },
  {
   "cell_type": "code",
   "execution_count": null,
   "id": "2eee3a01",
   "metadata": {},
   "outputs": [],
   "source": [
    "SEED = 26461180\n",
    "random.seed(SEED)\n",
    "np.random.seed(SEED)\n",
    "\n",
    "# Convertir 'periodo' de fecha a entero tipo YYYYMM\n",
    "df[\"periodo\"] = pd.to_datetime(df[\"periodo\"])\n",
    "df[\"periodo\"] = df[\"periodo\"].dt.strftime(\"%Y%m\").astype(int)\n",
    "\n",
    "# Convierte todas las columnas object a category\n",
    "for col in df.select_dtypes(include='object').columns:\n",
    "    df[col] = df[col].astype('category')\n",
    "    \n",
    "df = df.sort_values(['product_id','periodo'])"
   ]
  },
  {
   "cell_type": "code",
   "execution_count": null,
   "id": "62624968",
   "metadata": {},
   "outputs": [],
   "source": [
    "df1 = df.copy()\n",
    "\n",
    "train_end = 201809\n",
    "val_end   = 201812\n",
    "\n",
    "\n",
    "\n",
    "X_train = df1.drop(columns=[\"tn\", \"descripcion\"], errors=\"ignore\")\n",
    "y_train = df[\"tn\"]\n",
    "\n",
    "\n",
    "\n",
    "# 2. Generar dataset de predicción para 202002\n",
    "# Tomamos los registros de 201912 como base y simulamos las features\n",
    "df_201912 = df[df[\"periodo\"] == 201912].copy()\n",
    "df_pred = df_201912.copy()\n",
    "df_pred[\"periodo\"] = 202002  # Simulamos el período futuro"
   ]
  }
 ],
 "metadata": {
  "language_info": {
   "name": "python"
  }
 },
 "nbformat": 4,
 "nbformat_minor": 5
}
