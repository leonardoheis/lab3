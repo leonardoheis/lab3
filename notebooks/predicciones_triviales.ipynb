{
 "cells": [
  {
   "cell_type": "code",
   "execution_count": null,
   "id": "6061035e",
   "metadata": {},
   "outputs": [],
   "source": [
    "import pandas as pd\n",
    "import matplotlib.pyplot as plt\n",
    "import matplotlib.dates as mdates\n",
    "import seaborn as sns\n",
    "\n",
    "sell_in = pd.read_csv('../data/sell-in.txt', sep='\\t')\n",
    "productos_a_predecir = pd.read_csv('../data/product_id_apredecir201912.txt', sep='\\t')"
   ]
  }
 ],
 "metadata": {
  "language_info": {
   "name": "python"
  }
 },
 "nbformat": 4,
 "nbformat_minor": 5
}
