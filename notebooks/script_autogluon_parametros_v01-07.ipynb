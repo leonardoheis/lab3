{
 "cells": [
  {
   "cell_type": "markdown",
   "id": "2ae3d4bc",
   "metadata": {},
   "source": [
    "AutoGluon - Predicción de ventas (tn) por producto para febrero 2020"
   ]
  },
  {
   "cell_type": "code",
   "execution_count": 1,
   "id": "8f52d34a",
   "metadata": {},
   "outputs": [],
   "source": [
    "# 📦 1. Importar librerías\n",
    "import pandas as pd"
   ]
  },
  {
   "cell_type": "code",
   "execution_count": 3,
   "id": "a67eb1bb",
   "metadata": {},
   "outputs": [
    {
     "name": "stderr",
     "output_type": "stream",
     "text": [
      "c:\\Users\\leona\\anaconda3\\envs\\py310lab3\\lib\\site-packages\\tqdm\\auto.py:21: TqdmWarning: IProgress not found. Please update jupyter and ipywidgets. See https://ipywidgets.readthedocs.io/en/stable/user_install.html\n",
      "  from .autonotebook import tqdm as notebook_tqdm\n"
     ]
    }
   ],
   "source": [
    "# 💬 Instalar AutoGluon si es necesario\n",
    "#%pip install autogluon.timeseries\n",
    "\n",
    "from autogluon.timeseries import TimeSeriesPredictor, TimeSeriesDataFrame"
   ]
  },
  {
   "cell_type": "code",
   "execution_count": 4,
   "id": "74387549",
   "metadata": {},
   "outputs": [],
   "source": [
    "# 📄 2. Cargar datasets\n",
    "df_sellin = pd.read_csv(\"../data/sell-in.txt\", sep=\"\\t\")\n",
    "df_productos = pd.read_csv(\"../data/tb_productos.txt\", sep=\"\\t\")"
   ]
  },
  {
   "cell_type": "code",
   "execution_count": 5,
   "id": "e14417ff",
   "metadata": {},
   "outputs": [],
   "source": [
    "# 📄 Leer lista de productos a predecir\n",
    "with open(\"../data/product_id_apredecir201912.txt\", \"r\") as f:\n",
    "    product_ids = [int(line.strip()) for line in f if line.strip().isdigit()]"
   ]
  },
  {
   "cell_type": "code",
   "execution_count": 6,
   "id": "b1527b4d",
   "metadata": {},
   "outputs": [],
   "source": [
    "# 🧹 3. Preprocesamiento\n",
    "# Convertir periodo a datetime\n",
    "df_sellin['timestamp'] = pd.to_datetime(df_sellin['periodo'], format='%Y%m')"
   ]
  },
  {
   "cell_type": "code",
   "execution_count": 7,
   "id": "1083376b",
   "metadata": {},
   "outputs": [],
   "source": [
    "# Filtrar hasta dic 2019 y productos requeridos\n",
    "df_filtered = df_sellin[\n",
    "    (df_sellin['timestamp'] <= '2019-12-01') &\n",
    "    (df_sellin['product_id'].isin(product_ids))\n",
    "]"
   ]
  },
  {
   "cell_type": "code",
   "execution_count": 8,
   "id": "bb3c4bac",
   "metadata": {},
   "outputs": [],
   "source": [
    "# Agregar tn por periodo, cliente y producto\n",
    "df_grouped = df_filtered.groupby(['timestamp', 'customer_id', 'product_id'], as_index=False)['tn'].sum()"
   ]
  },
  {
   "cell_type": "code",
   "execution_count": 9,
   "id": "3df0c480",
   "metadata": {},
   "outputs": [],
   "source": [
    "# Agregar tn total por periodo y producto\n",
    "df_monthly_product = df_grouped.groupby(['timestamp', 'product_id'], as_index=False)['tn'].sum()"
   ]
  },
  {
   "cell_type": "code",
   "execution_count": 10,
   "id": "065d2ca2",
   "metadata": {},
   "outputs": [],
   "source": [
    "# Agregar columna 'item_id' para AutoGluon\n",
    "df_monthly_product['item_id'] = df_monthly_product['product_id']"
   ]
  },
  {
   "cell_type": "code",
   "execution_count": 11,
   "id": "eb4e2dfb",
   "metadata": {},
   "outputs": [],
   "source": [
    "# ⏰ 4. Crear TimeSeriesDataFrame\n",
    "ts_data = TimeSeriesDataFrame.from_data_frame(\n",
    "    df_monthly_product,\n",
    "    id_column='item_id',\n",
    "    timestamp_column='timestamp'\n",
    ")"
   ]
  },
  {
   "cell_type": "code",
   "execution_count": 12,
   "id": "ddac4147",
   "metadata": {},
   "outputs": [],
   "source": [
    "# Completar valores faltantes\n",
    "ts_data = ts_data.fill_missing_values()"
   ]
  },
  {
   "cell_type": "code",
   "execution_count": 13,
   "id": "5b7cc7be",
   "metadata": {},
   "outputs": [
    {
     "name": "stderr",
     "output_type": "stream",
     "text": [
      "Beginning AutoGluon training... Time limit = 3600s\n",
      "AutoGluon will save models to 'c:\\Users\\leona\\source\\repos\\lab3\\notebooks\\AutogluonModels\\ag-20250703_012458'\n",
      "=================== System Info ===================\n",
      "AutoGluon Version:  1.3.1\n",
      "Python Version:     3.10.17\n",
      "Operating System:   Windows\n",
      "Platform Machine:   AMD64\n",
      "Platform Version:   10.0.26100\n",
      "CPU Count:          12\n",
      "GPU Count:          0\n",
      "Memory Avail:       7.65 GB / 31.71 GB (24.1%)\n",
      "Disk Space Avail:   181.70 GB / 952.62 GB (19.1%)\n",
      "===================================================\n",
      "\n",
      "Fitting with arguments:\n",
      "{'enable_ensemble': True,\n",
      " 'eval_metric': WQL,\n",
      " 'freq': 'MS',\n",
      " 'hyperparameters': 'default',\n",
      " 'known_covariates_names': [],\n",
      " 'num_val_windows': 2,\n",
      " 'prediction_length': 2,\n",
      " 'quantile_levels': [0.1, 0.2, 0.3, 0.4, 0.5, 0.6, 0.7, 0.8, 0.9],\n",
      " 'random_seed': 123,\n",
      " 'refit_every_n_windows': 1,\n",
      " 'refit_full': False,\n",
      " 'skip_model_selection': False,\n",
      " 'target': 'tn',\n",
      " 'time_limit': 3600,\n",
      " 'verbosity': 2}\n",
      "\n",
      "train_data with frequency 'IRREG' has been resampled to frequency 'MS'.\n",
      "Provided train_data has 22375 rows (NaN fraction=0.1%), 780 time series. Median time series length is 36 (min=4, max=36). \n",
      "\tRemoving 75 short time series from train_data. Only series with length >= 9 will be used for training.\n",
      "\tAfter filtering, train_data has 21916 rows (NaN fraction=0.1%), 705 time series. Median time series length is 36 (min=9, max=36). \n",
      "\n",
      "Provided data contains following columns:\n",
      "\ttarget: 'tn'\n",
      "\tpast_covariates:\n",
      "\t\tcategorical:        []\n",
      "\t\tcontinuous (float): ['product_id']\n",
      "\n",
      "To learn how to fix incorrectly inferred types, please see documentation for TimeSeriesPredictor.fit\n",
      "\n",
      "AutoGluon will gauge predictive performance using evaluation metric: 'WQL'\n",
      "\tThis metric's sign has been flipped to adhere to being higher_is_better. The metric score can be multiplied by -1 to get the metric value.\n",
      "===================================================\n",
      "\n",
      "Starting training. Start time is 2025-07-02 22:25:02\n",
      "Models that will be trained: ['SeasonalNaive', 'RecursiveTabular', 'DirectTabular', 'NPTS', 'DynamicOptimizedTheta', 'AutoETS', 'ChronosZeroShot[bolt_base]', 'ChronosFineTuned[bolt_small]', 'TemporalFusionTransformer', 'DeepAR', 'PatchTST', 'TiDE']\n",
      "Training timeseries model SeasonalNaive. Training for up to 276.5s of the 3594.3s of remaining time.\n",
      "\t-0.2298       = Validation score (-WQL)\n",
      "\t5.15    s     = Training runtime\n",
      "\t0.33    s     = Validation (prediction) runtime\n",
      "Training timeseries model RecursiveTabular. Training for up to 299.1s of the 3588.8s of remaining time.\n",
      "\tTime series in the dataset are too short for chosen differences [12]. Setting differences to [1].\n",
      "\tTime series in the dataset are too short for chosen differences [12]. Setting differences to [1].\n",
      "\t-0.2285       = Validation score (-WQL)\n",
      "\t2.44    s     = Training runtime\n",
      "\t0.06    s     = Validation (prediction) runtime\n",
      "Training timeseries model DirectTabular. Training for up to 326.0s of the 3586.3s of remaining time.\n",
      "\t-0.2436       = Validation score (-WQL)\n",
      "\t17.50   s     = Training runtime\n",
      "\t0.11    s     = Validation (prediction) runtime\n",
      "Training timeseries model NPTS. Training for up to 356.9s of the 3568.7s of remaining time.\n",
      "\t-0.2796       = Validation score (-WQL)\n",
      "\t0.57    s     = Training runtime\n",
      "\t0.47    s     = Validation (prediction) runtime\n",
      "Training timeseries model DynamicOptimizedTheta. Training for up to 396.4s of the 3567.7s of remaining time.\n",
      "\t-0.2039       = Validation score (-WQL)\n",
      "\t3.09    s     = Training runtime\n",
      "\t0.66    s     = Validation (prediction) runtime\n",
      "Training timeseries model AutoETS. Training for up to 445.5s of the 3563.9s of remaining time.\n",
      "\tWarning: AutoETS\\W0 failed for 45 time series (6.4%). Fallback model SeasonalNaive was used for these time series.\n",
      "\t-0.2010       = Validation score (-WQL)\n",
      "\t3.27    s     = Training runtime\n",
      "\t3.22    s     = Validation (prediction) runtime\n",
      "Training timeseries model ChronosZeroShot[bolt_base]. Training for up to 508.2s of the 3557.4s of remaining time.\n",
      "\t-0.1905       = Validation score (-WQL)\n",
      "\t140.19  s     = Training runtime\n",
      "\t3.96    s     = Validation (prediction) runtime\n",
      "Training timeseries model ChronosFineTuned[bolt_small]. Training for up to 568.9s of the 3413.2s of remaining time.\n",
      "\tSkipping covariate_regressor since the dataset contains no covariates or static features.\n",
      "c:\\Users\\leona\\anaconda3\\envs\\py310lab3\\lib\\site-packages\\huggingface_hub\\file_download.py:143: UserWarning: `huggingface_hub` cache-system uses symlinks by default to efficiently store duplicated files but your machine does not support them in C:\\Users\\leona\\.cache\\huggingface\\hub\\models--autogluon--chronos-bolt-small. Caching files will still work but in a degraded version that might require more space on your disk. This warning can be disabled by setting the `HF_HUB_DISABLE_SYMLINKS_WARNING` environment variable. For more details, see https://huggingface.co/docs/huggingface_hub/how-to-cache#limitations.\n",
      "To support symlinks on Windows, you either need to activate Developer Mode or to run Python as an administrator. In order to activate developer mode, see this article: https://docs.microsoft.com/en-us/windows/apps/get-started/enable-your-device-for-development\n",
      "  warnings.warn(message)\n",
      "\tFine-tuning on the CPU detected. We recommend using a GPU for faster fine-tuning of Chronos.\n",
      "\tSaving fine-tuned model to c:\\Users\\leona\\source\\repos\\lab3\\notebooks\\AutogluonModels\\ag-20250703_012458\\models\\ChronosFineTuned[bolt_small]\\W0\\fine-tuned-ckpt\n",
      "\tSkipping covariate_regressor since the dataset contains no covariates or static features.\n",
      "\tFine-tuning on the CPU detected. We recommend using a GPU for faster fine-tuning of Chronos.\n",
      "\tSaving fine-tuned model to c:\\Users\\leona\\source\\repos\\lab3\\notebooks\\AutogluonModels\\ag-20250703_012458\\models\\ChronosFineTuned[bolt_small]\\W1\\fine-tuned-ckpt\n",
      "\t-0.1789       = Validation score (-WQL)\n",
      "\t509.54  s     = Training runtime\n",
      "\t0.78    s     = Validation (prediction) runtime\n",
      "Training timeseries model TemporalFusionTransformer. Training for up to 580.6s of the 2902.9s of remaining time.\n",
      "\t-0.1843       = Validation score (-WQL)\n",
      "\t283.01  s     = Training runtime\n",
      "\t0.47    s     = Validation (prediction) runtime\n",
      "Training timeseries model DeepAR. Training for up to 673.1s of the 2619.4s of remaining time.\n",
      "\t-0.1860       = Validation score (-WQL)\n",
      "\t142.15  s     = Training runtime\n",
      "\t0.60    s     = Validation (prediction) runtime\n",
      "Training timeseries model PatchTST. Training for up to 938.3s of the 2476.6s of remaining time.\n",
      "\t-0.1863       = Validation score (-WQL)\n",
      "\t65.96   s     = Training runtime\n",
      "\t0.27    s     = Validation (prediction) runtime\n",
      "Training timeseries model TiDE. Training for up to 1810.4s of the 2410.4s of remaining time.\n",
      "\t-0.2289       = Validation score (-WQL)\n",
      "\t368.77  s     = Training runtime\n",
      "\t0.58    s     = Validation (prediction) runtime\n",
      "Fitting simple weighted ensemble.\n",
      "\tEnsemble weights: {'AutoETS': 0.15, 'ChronosFineTuned[bolt_small]': 0.27, 'DeepAR': 0.14, 'NPTS': 0.06, 'PatchTST': 0.07, 'SeasonalNaive': 0.06, 'TemporalFusionTransformer': 0.25}\n",
      "\t-0.1721       = Validation score (-WQL)\n",
      "\t2.19    s     = Training runtime\n",
      "\t6.14    s     = Validation (prediction) runtime\n",
      "Training complete. Models trained: ['SeasonalNaive', 'RecursiveTabular', 'DirectTabular', 'NPTS', 'DynamicOptimizedTheta', 'AutoETS', 'ChronosZeroShot[bolt_base]', 'ChronosFineTuned[bolt_small]', 'TemporalFusionTransformer', 'DeepAR', 'PatchTST', 'TiDE', 'WeightedEnsemble']\n",
      "Total runtime: 1556.77 s\n",
      "Best model: WeightedEnsemble\n",
      "Best model score: -0.1721\n"
     ]
    },
    {
     "data": {
      "text/plain": [
       "<autogluon.timeseries.predictor.TimeSeriesPredictor at 0x2d65e68e380>"
      ]
     },
     "execution_count": 13,
     "metadata": {},
     "output_type": "execute_result"
    }
   ],
   "source": [
    "# ⚙️ 5. Definir y entrenar predictor\n",
    "predictor = TimeSeriesPredictor(\n",
    "    prediction_length=2,\n",
    "    target='tn',\n",
    "    freq='MS'  # Frecuencia mensual (Month Start), \n",
    ")\n",
    "\n",
    "predictor.fit(ts_data, num_val_windows=2, time_limit=60*60)"
   ]
  },
  {
   "cell_type": "code",
   "execution_count": 14,
   "id": "2c27fefb",
   "metadata": {},
   "outputs": [
    {
     "name": "stderr",
     "output_type": "stream",
     "text": [
      "data with frequency 'IRREG' has been resampled to frequency 'MS'.\n",
      "Model not specified in predict, will default to the model with the best validation score: WeightedEnsemble\n",
      "\tWarning: AutoETS\\W1 failed for 46 time series (5.9%). Fallback model SeasonalNaive was used for these time series.\n"
     ]
    }
   ],
   "source": [
    "# 🔮 6. Generar predicción\n",
    "forecast = predictor.predict(ts_data)"
   ]
  },
  {
   "cell_type": "code",
   "execution_count": 18,
   "id": "48512b66",
   "metadata": {},
   "outputs": [
    {
     "name": "stderr",
     "output_type": "stream",
     "text": [
      "data with frequency 'IRREG' has been resampled to frequency 'MS'.\n",
      "Additional data provided, testing on additional data. Resulting leaderboard will be sorted according to test score (`score_test`).\n",
      "\tWarning: AutoETS\\W1 failed for 75 time series (9.6%). Fallback model SeasonalNaive was used for these time series.\n",
      "\tWarning: DynamicOptimizedTheta\\W1 failed for 46 time series (5.9%). Fallback model SeasonalNaive was used for these time series.\n"
     ]
    },
    {
     "data": {
      "application/vnd.microsoft.datawrangler.viewer.v0+json": {
       "columns": [
        {
         "name": "index",
         "rawType": "int64",
         "type": "integer"
        },
        {
         "name": "model",
         "rawType": "object",
         "type": "string"
        },
        {
         "name": "score_test",
         "rawType": "float64",
         "type": "float"
        },
        {
         "name": "score_val",
         "rawType": "float64",
         "type": "float"
        },
        {
         "name": "pred_time_test",
         "rawType": "float64",
         "type": "float"
        },
        {
         "name": "pred_time_val",
         "rawType": "float64",
         "type": "float"
        },
        {
         "name": "fit_time_marginal",
         "rawType": "float64",
         "type": "float"
        },
        {
         "name": "fit_order",
         "rawType": "int64",
         "type": "integer"
        }
       ],
       "ref": "ec2a8f6b-2b4e-4690-b544-61af13bba26a",
       "rows": [
        [
         "0",
         "WeightedEnsemble",
         "-0.18509905378388605",
         "-0.17209132688217904",
         "13.042072534561157",
         "6.136370420455933",
         "2.193378210067749",
         "13"
        ],
        [
         "1",
         "ChronosFineTuned[bolt_small]",
         "-0.18559337912188242",
         "-0.1789412031838168",
         "1.471146583557129",
         "0.7778949737548828",
         "509.5437915325165",
         "8"
        ],
        [
         "2",
         "TemporalFusionTransformer",
         "-0.19002822262597943",
         "-0.18427844382256076",
         "0.5333869457244873",
         "0.46613502502441406",
         "283.01076340675354",
         "9"
        ],
        [
         "3",
         "TiDE",
         "-0.19363647289416439",
         "-0.22885393743170893",
         "0.6834192276000977",
         "0.5834026336669922",
         "368.77288842201233",
         "12"
        ],
        [
         "4",
         "DeepAR",
         "-0.2063686716806388",
         "-0.18599342505668126",
         "0.8501889705657959",
         "0.6007289886474609",
         "142.15041589736938",
         "10"
        ],
        [
         "5",
         "PatchTST",
         "-0.20938609661463548",
         "-0.18634810764141196",
         "0.32404279708862305",
         "0.26694416999816895",
         "65.95646095275879",
         "11"
        ],
        [
         "6",
         "ChronosZeroShot[bolt_base]",
         "-0.21192155731071424",
         "-0.19045982937181333",
         "6.767751693725586",
         "3.9586453437805176",
         "140.19131684303284",
         "7"
        ],
        [
         "7",
         "AutoETS",
         "-0.21514713974188096",
         "-0.20104461773389326",
         "4.8651957511901855",
         "3.222627878189087",
         "3.2690422534942627",
         "6"
        ],
        [
         "8",
         "DynamicOptimizedTheta",
         "-0.22179811568318258",
         "-0.20386800175108621",
         "0.5810830593109131",
         "0.6649959087371826",
         "3.0873610973358154",
         "5"
        ],
        [
         "9",
         "DirectTabular",
         "-0.23160336600726736",
         "-0.24357602324975006",
         "0.21237444877624512",
         "0.10909414291381836",
         "17.501044273376465",
         "3"
        ],
        [
         "10",
         "RecursiveTabular",
         "-0.24292257599781636",
         "-0.22845016830327136",
         "0.11629176139831543",
         "0.05595088005065918",
         "2.439380168914795",
         "2"
        ],
        [
         "11",
         "SeasonalNaive",
         "-0.24760445137568554",
         "-0.22980693202912167",
         "4.44222092628479",
         "0.33170652389526367",
         "5.147684097290039",
         "1"
        ],
        [
         "12",
         "NPTS",
         "-0.29872853797496735",
         "-0.2795529437792871",
         "0.5470056533813477",
         "0.4703328609466553",
         "0.5659241676330566",
         "4"
        ]
       ],
       "shape": {
        "columns": 7,
        "rows": 13
       }
      },
      "text/html": [
       "<div>\n",
       "<style scoped>\n",
       "    .dataframe tbody tr th:only-of-type {\n",
       "        vertical-align: middle;\n",
       "    }\n",
       "\n",
       "    .dataframe tbody tr th {\n",
       "        vertical-align: top;\n",
       "    }\n",
       "\n",
       "    .dataframe thead th {\n",
       "        text-align: right;\n",
       "    }\n",
       "</style>\n",
       "<table border=\"1\" class=\"dataframe\">\n",
       "  <thead>\n",
       "    <tr style=\"text-align: right;\">\n",
       "      <th></th>\n",
       "      <th>model</th>\n",
       "      <th>score_test</th>\n",
       "      <th>score_val</th>\n",
       "      <th>pred_time_test</th>\n",
       "      <th>pred_time_val</th>\n",
       "      <th>fit_time_marginal</th>\n",
       "      <th>fit_order</th>\n",
       "    </tr>\n",
       "  </thead>\n",
       "  <tbody>\n",
       "    <tr>\n",
       "      <th>0</th>\n",
       "      <td>WeightedEnsemble</td>\n",
       "      <td>-0.185099</td>\n",
       "      <td>-0.172091</td>\n",
       "      <td>13.042073</td>\n",
       "      <td>6.136370</td>\n",
       "      <td>2.193378</td>\n",
       "      <td>13</td>\n",
       "    </tr>\n",
       "    <tr>\n",
       "      <th>1</th>\n",
       "      <td>ChronosFineTuned[bolt_small]</td>\n",
       "      <td>-0.185593</td>\n",
       "      <td>-0.178941</td>\n",
       "      <td>1.471147</td>\n",
       "      <td>0.777895</td>\n",
       "      <td>509.543792</td>\n",
       "      <td>8</td>\n",
       "    </tr>\n",
       "    <tr>\n",
       "      <th>2</th>\n",
       "      <td>TemporalFusionTransformer</td>\n",
       "      <td>-0.190028</td>\n",
       "      <td>-0.184278</td>\n",
       "      <td>0.533387</td>\n",
       "      <td>0.466135</td>\n",
       "      <td>283.010763</td>\n",
       "      <td>9</td>\n",
       "    </tr>\n",
       "    <tr>\n",
       "      <th>3</th>\n",
       "      <td>TiDE</td>\n",
       "      <td>-0.193636</td>\n",
       "      <td>-0.228854</td>\n",
       "      <td>0.683419</td>\n",
       "      <td>0.583403</td>\n",
       "      <td>368.772888</td>\n",
       "      <td>12</td>\n",
       "    </tr>\n",
       "    <tr>\n",
       "      <th>4</th>\n",
       "      <td>DeepAR</td>\n",
       "      <td>-0.206369</td>\n",
       "      <td>-0.185993</td>\n",
       "      <td>0.850189</td>\n",
       "      <td>0.600729</td>\n",
       "      <td>142.150416</td>\n",
       "      <td>10</td>\n",
       "    </tr>\n",
       "    <tr>\n",
       "      <th>5</th>\n",
       "      <td>PatchTST</td>\n",
       "      <td>-0.209386</td>\n",
       "      <td>-0.186348</td>\n",
       "      <td>0.324043</td>\n",
       "      <td>0.266944</td>\n",
       "      <td>65.956461</td>\n",
       "      <td>11</td>\n",
       "    </tr>\n",
       "    <tr>\n",
       "      <th>6</th>\n",
       "      <td>ChronosZeroShot[bolt_base]</td>\n",
       "      <td>-0.211922</td>\n",
       "      <td>-0.190460</td>\n",
       "      <td>6.767752</td>\n",
       "      <td>3.958645</td>\n",
       "      <td>140.191317</td>\n",
       "      <td>7</td>\n",
       "    </tr>\n",
       "    <tr>\n",
       "      <th>7</th>\n",
       "      <td>AutoETS</td>\n",
       "      <td>-0.215147</td>\n",
       "      <td>-0.201045</td>\n",
       "      <td>4.865196</td>\n",
       "      <td>3.222628</td>\n",
       "      <td>3.269042</td>\n",
       "      <td>6</td>\n",
       "    </tr>\n",
       "    <tr>\n",
       "      <th>8</th>\n",
       "      <td>DynamicOptimizedTheta</td>\n",
       "      <td>-0.221798</td>\n",
       "      <td>-0.203868</td>\n",
       "      <td>0.581083</td>\n",
       "      <td>0.664996</td>\n",
       "      <td>3.087361</td>\n",
       "      <td>5</td>\n",
       "    </tr>\n",
       "    <tr>\n",
       "      <th>9</th>\n",
       "      <td>DirectTabular</td>\n",
       "      <td>-0.231603</td>\n",
       "      <td>-0.243576</td>\n",
       "      <td>0.212374</td>\n",
       "      <td>0.109094</td>\n",
       "      <td>17.501044</td>\n",
       "      <td>3</td>\n",
       "    </tr>\n",
       "    <tr>\n",
       "      <th>10</th>\n",
       "      <td>RecursiveTabular</td>\n",
       "      <td>-0.242923</td>\n",
       "      <td>-0.228450</td>\n",
       "      <td>0.116292</td>\n",
       "      <td>0.055951</td>\n",
       "      <td>2.439380</td>\n",
       "      <td>2</td>\n",
       "    </tr>\n",
       "    <tr>\n",
       "      <th>11</th>\n",
       "      <td>SeasonalNaive</td>\n",
       "      <td>-0.247604</td>\n",
       "      <td>-0.229807</td>\n",
       "      <td>4.442221</td>\n",
       "      <td>0.331707</td>\n",
       "      <td>5.147684</td>\n",
       "      <td>1</td>\n",
       "    </tr>\n",
       "    <tr>\n",
       "      <th>12</th>\n",
       "      <td>NPTS</td>\n",
       "      <td>-0.298729</td>\n",
       "      <td>-0.279553</td>\n",
       "      <td>0.547006</td>\n",
       "      <td>0.470333</td>\n",
       "      <td>0.565924</td>\n",
       "      <td>4</td>\n",
       "    </tr>\n",
       "  </tbody>\n",
       "</table>\n",
       "</div>"
      ],
      "text/plain": [
       "                           model  score_test  score_val  pred_time_test  \\\n",
       "0               WeightedEnsemble   -0.185099  -0.172091       13.042073   \n",
       "1   ChronosFineTuned[bolt_small]   -0.185593  -0.178941        1.471147   \n",
       "2      TemporalFusionTransformer   -0.190028  -0.184278        0.533387   \n",
       "3                           TiDE   -0.193636  -0.228854        0.683419   \n",
       "4                         DeepAR   -0.206369  -0.185993        0.850189   \n",
       "5                       PatchTST   -0.209386  -0.186348        0.324043   \n",
       "6     ChronosZeroShot[bolt_base]   -0.211922  -0.190460        6.767752   \n",
       "7                        AutoETS   -0.215147  -0.201045        4.865196   \n",
       "8          DynamicOptimizedTheta   -0.221798  -0.203868        0.581083   \n",
       "9                  DirectTabular   -0.231603  -0.243576        0.212374   \n",
       "10              RecursiveTabular   -0.242923  -0.228450        0.116292   \n",
       "11                 SeasonalNaive   -0.247604  -0.229807        4.442221   \n",
       "12                          NPTS   -0.298729  -0.279553        0.547006   \n",
       "\n",
       "    pred_time_val  fit_time_marginal  fit_order  \n",
       "0        6.136370           2.193378         13  \n",
       "1        0.777895         509.543792          8  \n",
       "2        0.466135         283.010763          9  \n",
       "3        0.583403         368.772888         12  \n",
       "4        0.600729         142.150416         10  \n",
       "5        0.266944          65.956461         11  \n",
       "6        3.958645         140.191317          7  \n",
       "7        3.222628           3.269042          6  \n",
       "8        0.664996           3.087361          5  \n",
       "9        0.109094          17.501044          3  \n",
       "10       0.055951           2.439380          2  \n",
       "11       0.331707           5.147684          1  \n",
       "12       0.470333           0.565924          4  "
      ]
     },
     "execution_count": 18,
     "metadata": {},
     "output_type": "execute_result"
    }
   ],
   "source": [
    "predictor.leaderboard(ts_data)"
   ]
  },
  {
   "cell_type": "code",
   "execution_count": null,
   "id": "256be3fb",
   "metadata": {},
   "outputs": [
    {
     "name": "stderr",
     "output_type": "stream",
     "text": [
      "data with frequency 'IRREG' has been resampled to frequency 'MS'.\n"
     ]
    },
    {
     "data": {
      "image/png": "[encoded data removed]",
      "text/plain": [
       "<Figure size 2000x700 with 4 Axes>"
      ]
     },
     "metadata": {},
     "output_type": "display_data"
    }
   ],
   "source": [
    "predictor.plot(ts_data, forecast, quantile_levels=[0.1, 0.9], max_history_length=200, max_num_item_ids=4)"
   ]
  },
  {
   "cell_type": "code",
   "execution_count": 15,
   "id": "57205cb3",
   "metadata": {},
   "outputs": [
    {
     "name": "stdout",
     "output_type": "stream",
     "text": [
      "Index(['item_id', 'timestamp', 'mean'], dtype='object')\n"
     ]
    }
   ],
   "source": [
    "# Extraer predicción media y filtrar febrero 2020\n",
    "forecast_mean = forecast['mean'].reset_index()\n",
    "print(forecast_mean.columns)"
   ]
  },
  {
   "cell_type": "code",
   "execution_count": 16,
   "id": "d62a0982",
   "metadata": {},
   "outputs": [],
   "source": [
    "# Tomar solo item_id y la predicción 'mean'\n",
    "resultado = forecast['mean'].reset_index()[['item_id', 'mean']]\n",
    "resultado.columns = ['product_id', 'tn']\n",
    "\n",
    "# Filtrar solo febrero 2020\n",
    "resultado = forecast['mean'].reset_index()\n",
    "resultado = resultado[resultado['timestamp'] == '2020-02-01']\n",
    "\n",
    "# Renombrar columnas\n",
    "resultado = resultado[['item_id', 'mean']]\n",
    "resultado.columns = ['product_id', 'tn']\n"
   ]
  },
  {
   "cell_type": "code",
   "execution_count": null,
   "id": "81a9323c",
   "metadata": {},
   "outputs": [
    {
     "data": {
      "application/vnd.microsoft.datawrangler.viewer.v0+json": {
       "columns": [
        {
         "name": "index",
         "rawType": "int64",
         "type": "integer"
        },
        {
         "name": "product_id",
         "rawType": "int64",
         "type": "integer"
        },
        {
         "name": "tn",
         "rawType": "float64",
         "type": "float"
        }
       ],
       "ref": "2ccccc2f-f0b5-4f97-b957-d4682a61587b",
       "rows": [
        [
         "1",
         "20001",
         "1303.2268268333378"
        ],
        [
         "3",
         "20002",
         "1066.312475222609"
        ],
        [
         "5",
         "20003",
         "700.919698789755"
        ],
        [
         "7",
         "20004",
         "522.597608211318"
        ],
        [
         "9",
         "20005",
         "512.5278057408605"
        ]
       ],
       "shape": {
        "columns": 2,
        "rows": 5
       }
      },
      "text/html": [
       "<div>\n",
       "<style scoped>\n",
       "    .dataframe tbody tr th:only-of-type {\n",
       "        vertical-align: middle;\n",
       "    }\n",
       "\n",
       "    .dataframe tbody tr th {\n",
       "        vertical-align: top;\n",
       "    }\n",
       "\n",
       "    .dataframe thead th {\n",
       "        text-align: right;\n",
       "    }\n",
       "</style>\n",
       "<table border=\"1\" class=\"dataframe\">\n",
       "  <thead>\n",
       "    <tr style=\"text-align: right;\">\n",
       "      <th></th>\n",
       "      <th>product_id</th>\n",
       "      <th>tn</th>\n",
       "    </tr>\n",
       "  </thead>\n",
       "  <tbody>\n",
       "    <tr>\n",
       "      <th>1</th>\n",
       "      <td>20001</td>\n",
       "      <td>1303.226827</td>\n",
       "    </tr>\n",
       "    <tr>\n",
       "      <th>3</th>\n",
       "      <td>20002</td>\n",
       "      <td>1066.312475</td>\n",
       "    </tr>\n",
       "    <tr>\n",
       "      <th>5</th>\n",
       "      <td>20003</td>\n",
       "      <td>700.919699</td>\n",
       "    </tr>\n",
       "    <tr>\n",
       "      <th>7</th>\n",
       "      <td>20004</td>\n",
       "      <td>522.597608</td>\n",
       "    </tr>\n",
       "    <tr>\n",
       "      <th>9</th>\n",
       "      <td>20005</td>\n",
       "      <td>512.527806</td>\n",
       "    </tr>\n",
       "  </tbody>\n",
       "</table>\n",
       "</div>"
      ],
      "text/plain": [
       "   product_id           tn\n",
       "1       20001  1303.226827\n",
       "3       20002  1066.312475\n",
       "5       20003   700.919699\n",
       "7       20004   522.597608\n",
       "9       20005   512.527806"
      ]
     },
     "execution_count": 17,
     "metadata": {},
     "output_type": "execute_result"
    }
   ],
   "source": [
    "# 💾 7. Guardar archivo\n",
    "resultado.to_csv(\"../data/autogluon_202002_v1.csv\", index=False)\n",
    "resultado.head()"
   ]
  },
  {
   "cell_type": "code",
   "execution_count": null,
   "id": "c30373f4",
   "metadata": {},
   "outputs": [
    {
     "name": "stderr",
     "output_type": "stream",
     "text": [
      "Beginning AutoGluon training... Time limit = 3600s\n",
      "AutoGluon will save models to 'c:\\Users\\leona\\source\\repos\\lab3\\notebooks\\AutogluonModels\\ag-20250703_023005'\n",
      "=================== System Info ===================\n",
      "AutoGluon Version:  1.3.1\n",
      "Python Version:     3.10.17\n",
      "Operating System:   Windows\n",
      "Platform Machine:   AMD64\n",
      "Platform Version:   10.0.26100\n",
      "CPU Count:          12\n",
      "GPU Count:          0\n",
      "Memory Avail:       8.57 GB / 31.71 GB (27.0%)\n",
      "Disk Space Avail:   176.32 GB / 952.62 GB (18.5%)\n",
      "===================================================\n",
      "Setting presets to: best_quality\n",
      "\n",
      "Fitting with arguments:\n",
      "{'enable_ensemble': True,\n",
      " 'eval_metric': MASE,\n",
      " 'freq': 'MS',\n",
      " 'hyperparameters': {'DeepAR': {},\n",
      "                     'Theta': [{'decomposition_type': 'additive'},\n",
      "                               {'seasonal_period': 1}]},\n",
      " 'known_covariates_names': [],\n",
      " 'num_val_windows': 2,\n",
      " 'prediction_length': 2,\n",
      " 'quantile_levels': [0.1, 0.2, 0.3, 0.4, 0.5, 0.6, 0.7, 0.8, 0.9],\n",
      " 'random_seed': 123,\n",
      " 'refit_every_n_windows': 1,\n",
      " 'refit_full': False,\n",
      " 'skip_model_selection': False,\n",
      " 'target': 'tn',\n",
      " 'time_limit': 3600,\n",
      " 'verbosity': 2}\n",
      "\n",
      "train_data with frequency 'IRREG' has been resampled to frequency 'MS'.\n",
      "Provided train_data has 22375 rows (NaN fraction=0.1%), 780 time series. Median time series length is 36 (min=4, max=36). \n",
      "\tRemoving 75 short time series from train_data. Only series with length >= 9 will be used for training.\n",
      "\tAfter filtering, train_data has 21916 rows (NaN fraction=0.1%), 705 time series. Median time series length is 36 (min=9, max=36). \n",
      "\n",
      "Provided data contains following columns:\n",
      "\ttarget: 'tn'\n",
      "\tpast_covariates:\n",
      "\t\tcategorical:        []\n",
      "\t\tcontinuous (float): ['product_id']\n",
      "\n",
      "To learn how to fix incorrectly inferred types, please see documentation for TimeSeriesPredictor.fit\n",
      "\n",
      "AutoGluon will gauge predictive performance using evaluation metric: 'MASE'\n",
      "\tThis metric's sign has been flipped to adhere to being higher_is_better. The metric score can be multiplied by -1 to get the metric value.\n",
      "===================================================\n",
      "\n",
      "Starting training. Start time is 2025-07-02 23:30:07\n",
      "Models that will be trained: ['Theta', 'Theta_2', 'DeepAR']\n",
      "Training timeseries model Theta. Training for up to 999.3s of the 3597.9s of remaining time.\n",
      "\t-1.0773       = Validation score (-MASE)\n",
      "\t6.01    s     = Training runtime\n",
      "\t0.70    s     = Validation (prediction) runtime\n",
      "Training timeseries model Theta_2. Training for up to 1495.6s of the 3591.2s of remaining time.\n",
      "\t-1.0784       = Validation score (-MASE)\n",
      "\t0.56    s     = Training runtime\n",
      "\t0.51    s     = Validation (prediction) runtime\n",
      "Training timeseries model DeepAR. Training for up to 2990.1s of the 3590.1s of remaining time.\n",
      "\t-1.0533       = Validation score (-MASE)\n",
      "\t126.41  s     = Training runtime\n",
      "\t0.59    s     = Validation (prediction) runtime\n",
      "Fitting simple weighted ensemble.\n",
      "\tEnsemble weights: {'DeepAR': 0.64, 'Theta': 0.36}\n",
      "\t-0.9761       = Validation score (-MASE)\n",
      "\t0.29    s     = Training runtime\n",
      "\t1.29    s     = Validation (prediction) runtime\n",
      "Training complete. Models trained: ['Theta', 'Theta_2', 'DeepAR', 'WeightedEnsemble']\n",
      "Total runtime: 135.20 s\n",
      "Best model: WeightedEnsemble\n",
      "Best model score: -0.9761\n"
     ]
    },
    {
     "data": {
      "text/plain": [
       "<autogluon.timeseries.predictor.TimeSeriesPredictor at 0x2d621aa7fa0>"
      ]
     },
     "execution_count": 20,
     "metadata": {},
     "output_type": "execute_result"
    }
   ],
   "source": [
    "from autogluon.common import space\n",
    "\n",
    "# ⚙️ 5. Definir y entrenar predictor\n",
    "predictor = TimeSeriesPredictor(\n",
    "    prediction_length=2,\n",
    "    target='tn',\n",
    "    eval_metric=\"MASE\",\n",
    "    freq='MS'  # Frecuencia mensual (Month Start), \n",
    ")\n",
    "\n",
    "predictor.fit(\n",
    "    ts_data,\n",
    "    presets=\"best_quality\",    \n",
    "    hyperparameters={\n",
    "        \"DeepAR\": {\n",
    "            \"hidden_size\": space.Int(20, 100),\n",
    "            \"dropout_rate\": space.Categorical(0.1, 0.3),\n",
    "        },\n",
    "        \"Theta\": [\n",
    "            {\"decomposition_type\": \"additive\"},\n",
    "            {\"seasonal_period\": 1},\n",
    "        ],\n",
    "        \"Chronos\": [\n",
    "            {\n",
    "                \"model_path\": \"bolt_small\", \n",
    "                \"ag_args\": {\"name_suffix\": \"ZeroShot\"}\n",
    "            },\n",
    "            {\n",
    "                \"model_path\": \"bolt_small\", \n",
    "                \"fine_tune\": True, \n",
    "                \"ag_args\": {\"name_suffix\": \"FineTuned\"}\n",
    "            },\n",
    "            {\n",
    "                \"model_path\": \"bolt_small\",\n",
    "                \"covariate_regressor\": \"CAT\",\n",
    "                \"target_scaler\": \"standard\",\n",
    "                \"ag_args\": {\"name_suffix\": \"WithRegressor\"},\n",
    "            },            \n",
    "        ]        \n",
    "    },\n",
    "    enable_ensemble=True,\n",
    "    time_limit=3600\n",
    ")"
   ]
  },
  {
   "cell_type": "code",
   "execution_count": 21,
   "id": "f53438d9",
   "metadata": {},
   "outputs": [
    {
     "name": "stderr",
     "output_type": "stream",
     "text": [
      "data with frequency 'IRREG' has been resampled to frequency 'MS'.\n",
      "Model not specified in predict, will default to the model with the best validation score: WeightedEnsemble\n",
      "\tWarning: Theta\\W1 failed for 9 time series (1.2%). Fallback model SeasonalNaive was used for these time series.\n"
     ]
    }
   ],
   "source": [
    "forecast2 = predictor.predict(ts_data)"
   ]
  },
  {
   "cell_type": "code",
   "execution_count": 26,
   "id": "2d00fd26",
   "metadata": {},
   "outputs": [
    {
     "data": {
      "text/html": [
       "<div>\n",
       "<style scoped>\n",
       "    .dataframe tbody tr th:only-of-type {\n",
       "        vertical-align: middle;\n",
       "    }\n",
       "\n",
       "    .dataframe tbody tr th {\n",
       "        vertical-align: top;\n",
       "    }\n",
       "\n",
       "    .dataframe thead th {\n",
       "        text-align: right;\n",
       "    }\n",
       "</style>\n",
       "<table border=\"1\" class=\"dataframe\">\n",
       "  <thead>\n",
       "    <tr style=\"text-align: right;\">\n",
       "      <th></th>\n",
       "      <th></th>\n",
       "      <th>mean</th>\n",
       "      <th>0.1</th>\n",
       "      <th>0.2</th>\n",
       "      <th>0.3</th>\n",
       "      <th>0.4</th>\n",
       "      <th>0.5</th>\n",
       "      <th>0.6</th>\n",
       "      <th>0.7</th>\n",
       "      <th>0.8</th>\n",
       "      <th>0.9</th>\n",
       "    </tr>\n",
       "    <tr>\n",
       "      <th>item_id</th>\n",
       "      <th>timestamp</th>\n",
       "      <th></th>\n",
       "      <th></th>\n",
       "      <th></th>\n",
       "      <th></th>\n",
       "      <th></th>\n",
       "      <th></th>\n",
       "      <th></th>\n",
       "      <th></th>\n",
       "      <th></th>\n",
       "      <th></th>\n",
       "    </tr>\n",
       "  </thead>\n",
       "  <tbody>\n",
       "    <tr>\n",
       "      <th rowspan=\"2\" valign=\"top\">20001</th>\n",
       "      <th>2020-01-01</th>\n",
       "      <td>1347.863213</td>\n",
       "      <td>1021.785472</td>\n",
       "      <td>1147.674925</td>\n",
       "      <td>1209.981602</td>\n",
       "      <td>1276.360329</td>\n",
       "      <td>1347.863213</td>\n",
       "      <td>1411.289550</td>\n",
       "      <td>1475.049801</td>\n",
       "      <td>1569.045446</td>\n",
       "      <td>1677.688563</td>\n",
       "    </tr>\n",
       "    <tr>\n",
       "      <th>2020-02-01</th>\n",
       "      <td>1402.976851</td>\n",
       "      <td>1102.936151</td>\n",
       "      <td>1206.591152</td>\n",
       "      <td>1291.129653</td>\n",
       "      <td>1354.266687</td>\n",
       "      <td>1402.976851</td>\n",
       "      <td>1472.413004</td>\n",
       "      <td>1553.272405</td>\n",
       "      <td>1628.387750</td>\n",
       "      <td>1744.427691</td>\n",
       "    </tr>\n",
       "    <tr>\n",
       "      <th rowspan=\"2\" valign=\"top\">20002</th>\n",
       "      <th>2020-01-01</th>\n",
       "      <td>1155.045858</td>\n",
       "      <td>838.241336</td>\n",
       "      <td>950.292629</td>\n",
       "      <td>1016.401014</td>\n",
       "      <td>1092.601022</td>\n",
       "      <td>1155.045858</td>\n",
       "      <td>1213.807856</td>\n",
       "      <td>1276.885286</td>\n",
       "      <td>1354.270297</td>\n",
       "      <td>1462.592035</td>\n",
       "    </tr>\n",
       "    <tr>\n",
       "      <th>2020-02-01</th>\n",
       "      <td>1134.621410</td>\n",
       "      <td>872.204324</td>\n",
       "      <td>976.103826</td>\n",
       "      <td>1036.359135</td>\n",
       "      <td>1088.141099</td>\n",
       "      <td>1134.621410</td>\n",
       "      <td>1189.426372</td>\n",
       "      <td>1236.668214</td>\n",
       "      <td>1291.588464</td>\n",
       "      <td>1383.217083</td>\n",
       "    </tr>\n",
       "    <tr>\n",
       "      <th>20003</th>\n",
       "      <th>2020-01-01</th>\n",
       "      <td>782.555714</td>\n",
       "      <td>558.353048</td>\n",
       "      <td>627.441784</td>\n",
       "      <td>675.661001</td>\n",
       "      <td>735.473673</td>\n",
       "      <td>782.555714</td>\n",
       "      <td>832.601757</td>\n",
       "      <td>885.698130</td>\n",
       "      <td>945.567246</td>\n",
       "      <td>1067.669212</td>\n",
       "    </tr>\n",
       "    <tr>\n",
       "      <th>...</th>\n",
       "      <th>...</th>\n",
       "      <td>...</td>\n",
       "      <td>...</td>\n",
       "      <td>...</td>\n",
       "      <td>...</td>\n",
       "      <td>...</td>\n",
       "      <td>...</td>\n",
       "      <td>...</td>\n",
       "      <td>...</td>\n",
       "      <td>...</td>\n",
       "      <td>...</td>\n",
       "    </tr>\n",
       "    <tr>\n",
       "      <th>20995</th>\n",
       "      <th>2020-02-01</th>\n",
       "      <td>2.194541</td>\n",
       "      <td>0.388509</td>\n",
       "      <td>1.066127</td>\n",
       "      <td>1.474239</td>\n",
       "      <td>1.865576</td>\n",
       "      <td>2.194541</td>\n",
       "      <td>2.567090</td>\n",
       "      <td>2.907617</td>\n",
       "      <td>3.350733</td>\n",
       "      <td>4.219058</td>\n",
       "    </tr>\n",
       "    <tr>\n",
       "      <th rowspan=\"2\" valign=\"top\">21087</th>\n",
       "      <th>2020-01-01</th>\n",
       "      <td>0.776542</td>\n",
       "      <td>0.242059</td>\n",
       "      <td>0.443533</td>\n",
       "      <td>0.587355</td>\n",
       "      <td>0.697404</td>\n",
       "      <td>0.776542</td>\n",
       "      <td>0.890103</td>\n",
       "      <td>1.012694</td>\n",
       "      <td>1.135869</td>\n",
       "      <td>1.352220</td>\n",
       "    </tr>\n",
       "    <tr>\n",
       "      <th>2020-02-01</th>\n",
       "      <td>0.788834</td>\n",
       "      <td>0.154546</td>\n",
       "      <td>0.377598</td>\n",
       "      <td>0.532756</td>\n",
       "      <td>0.663390</td>\n",
       "      <td>0.788834</td>\n",
       "      <td>0.897450</td>\n",
       "      <td>1.030089</td>\n",
       "      <td>1.205715</td>\n",
       "      <td>1.442619</td>\n",
       "    </tr>\n",
       "    <tr>\n",
       "      <th rowspan=\"2\" valign=\"top\">21214</th>\n",
       "      <th>2020-01-01</th>\n",
       "      <td>0.215819</td>\n",
       "      <td>-0.137318</td>\n",
       "      <td>-0.013266</td>\n",
       "      <td>0.079333</td>\n",
       "      <td>0.148540</td>\n",
       "      <td>0.215819</td>\n",
       "      <td>0.287278</td>\n",
       "      <td>0.354092</td>\n",
       "      <td>0.434627</td>\n",
       "      <td>0.562562</td>\n",
       "    </tr>\n",
       "    <tr>\n",
       "      <th>2020-02-01</th>\n",
       "      <td>0.217886</td>\n",
       "      <td>-0.217182</td>\n",
       "      <td>-0.054002</td>\n",
       "      <td>0.049390</td>\n",
       "      <td>0.136654</td>\n",
       "      <td>0.217886</td>\n",
       "      <td>0.302018</td>\n",
       "      <td>0.390170</td>\n",
       "      <td>0.502169</td>\n",
       "      <td>0.655243</td>\n",
       "    </tr>\n",
       "  </tbody>\n",
       "</table>\n",
       "<p>1560 rows × 10 columns</p>\n",
       "</div>"
      ],
      "text/plain": [
       "                           mean          0.1          0.2          0.3  \\\n",
       "item_id timestamp                                                        \n",
       "20001   2020-01-01  1347.863213  1021.785472  1147.674925  1209.981602   \n",
       "        2020-02-01  1402.976851  1102.936151  1206.591152  1291.129653   \n",
       "20002   2020-01-01  1155.045858   838.241336   950.292629  1016.401014   \n",
       "        2020-02-01  1134.621410   872.204324   976.103826  1036.359135   \n",
       "20003   2020-01-01   782.555714   558.353048   627.441784   675.661001   \n",
       "...                         ...          ...          ...          ...   \n",
       "20995   2020-02-01     2.194541     0.388509     1.066127     1.474239   \n",
       "21087   2020-01-01     0.776542     0.242059     0.443533     0.587355   \n",
       "        2020-02-01     0.788834     0.154546     0.377598     0.532756   \n",
       "21214   2020-01-01     0.215819    -0.137318    -0.013266     0.079333   \n",
       "        2020-02-01     0.217886    -0.217182    -0.054002     0.049390   \n",
       "\n",
       "                            0.4          0.5          0.6          0.7  \\\n",
       "item_id timestamp                                                        \n",
       "20001   2020-01-01  1276.360329  1347.863213  1411.289550  1475.049801   \n",
       "        2020-02-01  1354.266687  1402.976851  1472.413004  1553.272405   \n",
       "20002   2020-01-01  1092.601022  1155.045858  1213.807856  1276.885286   \n",
       "        2020-02-01  1088.141099  1134.621410  1189.426372  1236.668214   \n",
       "20003   2020-01-01   735.473673   782.555714   832.601757   885.698130   \n",
       "...                         ...          ...          ...          ...   \n",
       "20995   2020-02-01     1.865576     2.194541     2.567090     2.907617   \n",
       "21087   2020-01-01     0.697404     0.776542     0.890103     1.012694   \n",
       "        2020-02-01     0.663390     0.788834     0.897450     1.030089   \n",
       "21214   2020-01-01     0.148540     0.215819     0.287278     0.354092   \n",
       "        2020-02-01     0.136654     0.217886     0.302018     0.390170   \n",
       "\n",
       "                            0.8          0.9  \n",
       "item_id timestamp                             \n",
       "20001   2020-01-01  1569.045446  1677.688563  \n",
       "        2020-02-01  1628.387750  1744.427691  \n",
       "20002   2020-01-01  1354.270297  1462.592035  \n",
       "        2020-02-01  1291.588464  1383.217083  \n",
       "20003   2020-01-01   945.567246  1067.669212  \n",
       "...                         ...          ...  \n",
       "20995   2020-02-01     3.350733     4.219058  \n",
       "21087   2020-01-01     1.135869     1.352220  \n",
       "        2020-02-01     1.205715     1.442619  \n",
       "21214   2020-01-01     0.434627     0.562562  \n",
       "        2020-02-01     0.502169     0.655243  \n",
       "\n",
       "[1560 rows x 10 columns]"
      ]
     },
     "execution_count": 26,
     "metadata": {},
     "output_type": "execute_result"
    }
   ],
   "source": [
    "forecast2"
   ]
  },
  {
   "cell_type": "code",
   "execution_count": 23,
   "id": "3c4aa3ad",
   "metadata": {},
   "outputs": [
    {
     "name": "stdout",
     "output_type": "stream",
     "text": [
      "Index(['item_id', 'timestamp', 'mean'], dtype='object')\n"
     ]
    }
   ],
   "source": [
    "forecast_mean2 = forecast2['mean'].reset_index()\n",
    "print(forecast_mean2.columns)"
   ]
  },
  {
   "cell_type": "code",
   "execution_count": 24,
   "id": "a5302f92",
   "metadata": {},
   "outputs": [],
   "source": [
    "# Tomar solo item_id y la predicción 'mean'\n",
    "resultado2 = forecast2['mean'].reset_index()[['item_id', 'mean']]\n",
    "resultado2.columns = ['product_id', 'tn']\n",
    "\n",
    "# Filtrar solo febrero 2020\n",
    "resultado2 = forecast2['mean'].reset_index()\n",
    "resultado2 = resultado2[resultado2['timestamp'] == '2020-02-01']\n",
    "\n",
    "# Renombrar columnas\n",
    "resultado2 = resultado2[['item_id', 'mean']]\n",
    "resultado2.columns = ['product_id', 'tn']"
   ]
  },
  {
   "cell_type": "code",
   "execution_count": 25,
   "id": "0307a4d5",
   "metadata": {},
   "outputs": [
    {
     "data": {
      "application/vnd.microsoft.datawrangler.viewer.v0+json": {
       "columns": [
        {
         "name": "index",
         "rawType": "int64",
         "type": "integer"
        },
        {
         "name": "product_id",
         "rawType": "int64",
         "type": "integer"
        },
        {
         "name": "tn",
         "rawType": "float64",
         "type": "float"
        }
       ],
       "ref": "5b6d98a3-3e60-49b1-93bf-66641dc83223",
       "rows": [
        [
         "1",
         "20001",
         "1402.9768512168625"
        ],
        [
         "3",
         "20002",
         "1134.6214098983937"
        ],
        [
         "5",
         "20003",
         "809.1820620418935"
        ],
        [
         "7",
         "20004",
         "616.419362957558"
        ],
        [
         "9",
         "20005",
         "658.9426108371006"
        ]
       ],
       "shape": {
        "columns": 2,
        "rows": 5
       }
      },
      "text/html": [
       "<div>\n",
       "<style scoped>\n",
       "    .dataframe tbody tr th:only-of-type {\n",
       "        vertical-align: middle;\n",
       "    }\n",
       "\n",
       "    .dataframe tbody tr th {\n",
       "        vertical-align: top;\n",
       "    }\n",
       "\n",
       "    .dataframe thead th {\n",
       "        text-align: right;\n",
       "    }\n",
       "</style>\n",
       "<table border=\"1\" class=\"dataframe\">\n",
       "  <thead>\n",
       "    <tr style=\"text-align: right;\">\n",
       "      <th></th>\n",
       "      <th>product_id</th>\n",
       "      <th>tn</th>\n",
       "    </tr>\n",
       "  </thead>\n",
       "  <tbody>\n",
       "    <tr>\n",
       "      <th>1</th>\n",
       "      <td>20001</td>\n",
       "      <td>1402.976851</td>\n",
       "    </tr>\n",
       "    <tr>\n",
       "      <th>3</th>\n",
       "      <td>20002</td>\n",
       "      <td>1134.621410</td>\n",
       "    </tr>\n",
       "    <tr>\n",
       "      <th>5</th>\n",
       "      <td>20003</td>\n",
       "      <td>809.182062</td>\n",
       "    </tr>\n",
       "    <tr>\n",
       "      <th>7</th>\n",
       "      <td>20004</td>\n",
       "      <td>616.419363</td>\n",
       "    </tr>\n",
       "    <tr>\n",
       "      <th>9</th>\n",
       "      <td>20005</td>\n",
       "      <td>658.942611</td>\n",
       "    </tr>\n",
       "  </tbody>\n",
       "</table>\n",
       "</div>"
      ],
      "text/plain": [
       "   product_id           tn\n",
       "1       20001  1402.976851\n",
       "3       20002  1134.621410\n",
       "5       20003   809.182062\n",
       "7       20004   616.419363\n",
       "9       20005   658.942611"
      ]
     },
     "execution_count": 25,
     "metadata": {},
     "output_type": "execute_result"
    }
   ],
   "source": [
    "resultado2.to_csv(\"../data/autogluon_202002_v2.csv\", index=False)\n",
    "resultado2.head()"
   ]
  }
 ],
 "metadata": {
  "kernelspec": {
   "display_name": "py310lab3",
   "language": "python",
   "name": "python3"
  },
  "language_info": {
   "codemirror_mode": {
    "name": "ipython",
    "version": 3
   },
   "file_extension": ".py",
   "mimetype": "text/x-python",
   "name": "python",
   "nbconvert_exporter": "python",
   "pygments_lexer": "ipython3",
   "version": "3.10.17"
  }
 },
 "nbformat": 4,
 "nbformat_minor": 5
}
