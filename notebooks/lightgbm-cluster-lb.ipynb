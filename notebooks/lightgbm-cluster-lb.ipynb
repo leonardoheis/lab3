{
 "cells": [
  {
   "cell_type": "code",
   "execution_count": 1,
   "id": "fbf74100",
   "metadata": {},
   "outputs": [
    {
     "name": "stderr",
     "output_type": "stream",
     "text": [
      "/opt/anaconda3/lib/python3.11/site-packages/dask/dataframe/_pyarrow_compat.py:23: UserWarning: You are using pyarrow version 11.0.0 which is known to be insecure. See https://www.cve.org/CVERecord?id=CVE-2023-47248 for further details. Please upgrade to pyarrow>=14.0.1 or install pyarrow-hotfix to patch your current version.\n",
      "  warnings.warn(\n"
     ]
    }
   ],
   "source": [
    "import pandas as pd\n",
    "import lightgbm as lgb\n",
    "from sklearn.model_selection import train_test_split\n",
    "import os\n"
   ]
  },
  {
   "cell_type": "code",
   "execution_count": 2,
   "id": "4231cbf4",
   "metadata": {},
   "outputs": [],
   "source": [
    "# Cargar dataset\n",
    "df = pd.read_csv('../data/ventas_featurev4_cluster.csv', sep=',')"
   ]
  },
  {
   "cell_type": "code",
   "execution_count": 3,
   "id": "629ccb64",
   "metadata": {},
   "outputs": [],
   "source": [
    "# 🕓 Convertir periodo a formato entero YYYYMM si está como string con fecha completa\n",
    "if df['periodo'].dtype == 'object' and '-' in df['periodo'].iloc[0]:\n",
    "    df['periodo'] = pd.to_datetime(df['periodo']).dt.strftime('%Y%m%d').astype(int)"
   ]
  },
  {
   "cell_type": "code",
   "execution_count": 4,
   "id": "f0f6a3ee",
   "metadata": {},
   "outputs": [],
   "source": [
    "# 🧼 Filtrar a datos históricos hasta 201912\n",
    "df_train = df[df['periodo'] <= 20191231].copy()"
   ]
  },
  {
   "cell_type": "code",
   "execution_count": 5,
   "id": "92e72659",
   "metadata": {},
   "outputs": [],
   "source": [
    "# 🧠 Definir variables\n",
    "TARGET = 'tn'\n",
    "EXCLUIR = ['tn', 'periodo', 'descripcion', 'prod_cust', 'cluster_predicho']  # No se usan como input\n",
    "FEATURES_CATEGORICAS = df.select_dtypes(['category', 'object']).columns.tolist()\n",
    "FEATURES_CATEGORICAS = [col for col in FEATURES_CATEGORICAS if col in df.columns and col not in EXCLUIR]"
   ]
  },
  {
   "cell_type": "code",
   "execution_count": 6,
   "id": "3598a894",
   "metadata": {},
   "outputs": [
    {
     "name": "stdout",
     "output_type": "stream",
     "text": [
      "['periodo', 'customer_id', 'product_id', 'plan_precios_cuidados', 'tn', 'cust_request_qty', 'cust_request_tn', 'cat1', 'cat2', 'cat3', 'brand', 'sku_size', 'descripcion', 'productos_estrella', 'mes', 'catastrofe', 'cliente_estrella', 'prod_cust', 'tn_lag_1', 'tn_lag_2', 'tn_lag_3', 'tn_lag_4', 'tn_lag_5', 'tn_lag_6', 'tn_lag_7', 'tn_lag_8', 'tn_lag_9', 'tn_lag_10', 'tn_lag_11', 'tn_lag_12', 'tn_lag_13', 'tn_lag_14', 'tn_lag_15', 'tn_lag_16', 'tn_lag_17', 'tn_lag_18', 'tn_lag_19', 'tn_lag_20', 'tn_lag_21', 'tn_lag_22', 'tn_lag_23', 'tn_lag_24', 'tn_lag_25', 'tn_lag_26', 'tn_lag_27', 'tn_lag_28', 'tn_lag_29', 'tn_lag_30', 'tn_lag_31', 'tn_lag_32', 'tn_lag_33', 'tn_lag_34', 'tn_lag_35', 'tn_lag_36', 'tn_mas_2', 'delta_tn_lag_1', 'delta_tn_lag_2', 'delta_tn_lag_3', 'delta_tn_lag_4', 'delta_tn_lag_5', 'delta_tn_lag_6', 'delta_tn_lag_7', 'delta_tn_lag_8', 'delta_tn_lag_9', 'delta_tn_lag_10', 'delta_tn_lag_11', 'delta_tn_lag_12', 'delta_tn_lag_13', 'delta_tn_lag_14', 'delta_tn_lag_15', 'delta_tn_lag_16', 'delta_tn_lag_17', 'delta_tn_lag_18', 'delta_tn_lag_19', 'delta_tn_lag_20', 'delta_tn_lag_21', 'delta_tn_lag_22', 'delta_tn_lag_23', 'delta_tn_lag_24', 'delta_tn_lag_25', 'delta_tn_lag_26', 'delta_tn_lag_27', 'delta_tn_lag_28', 'delta_tn_lag_29', 'delta_tn_lag_30', 'delta_tn_lag_31', 'delta_tn_lag_32', 'delta_tn_lag_33', 'delta_tn_lag_34', 'delta_tn_lag_35', 'ipc', 'var_mensual', 'var_anual', 'promedio_mens_dolar_venta', 'temp_media', 'temp_max_media', 'temp_min_media', 'tn_mean', 'tn_std', 'tn_max', 'tn_min', 'cat1_enc', 'brand_enc', 'cluster_predicho']\n"
     ]
    }
   ],
   "source": [
    "print(df_train.columns.tolist())\n"
   ]
  },
  {
   "cell_type": "code",
   "execution_count": 7,
   "id": "204421a0",
   "metadata": {},
   "outputs": [
    {
     "name": "stdout",
     "output_type": "stream",
     "text": [
      "cluster_predicho\n",
      "0    5057408\n",
      "4    3554049\n",
      "2    2961130\n",
      "5    2917318\n",
      "3    1934861\n",
      "1     310914\n",
      "Name: count, dtype: int64\n"
     ]
    }
   ],
   "source": [
    "print(df_train['cluster_predicho'].value_counts())\n"
   ]
  },
  {
   "cell_type": "code",
   "execution_count": 8,
   "id": "a3379008",
   "metadata": {},
   "outputs": [],
   "source": [
    "import optuna\n",
    "from sklearn.model_selection import train_test_split\n",
    "from sklearn.metrics import mean_squared_error"
   ]
  },
  {
   "cell_type": "code",
   "execution_count": 9,
   "id": "76490dc2",
   "metadata": {},
   "outputs": [
    {
     "name": "stdout",
     "output_type": "stream",
     "text": [
      "\n",
      "🔄 Entrenando modelo para cluster 0...\n"
     ]
    },
    {
     "name": "stderr",
     "output_type": "stream",
     "text": [
      "[I 2025-07-02 00:22:56,582] A new study created in memory with name: no-name-b1314418-aad7-4ae5-8b09-1fb8a36b5d69\n"
     ]
    },
    {
     "name": "stdout",
     "output_type": "stream",
     "text": [
      "Training until validation scores don't improve for 30 rounds\n",
      "Did not meet early stopping. Best iteration is:\n",
      "[1000]\tvalid's rmse: 0.0481972\n"
     ]
    },
    {
     "name": "stderr",
     "output_type": "stream",
     "text": [
      "/opt/anaconda3/lib/python3.11/site-packages/sklearn/metrics/_regression.py:483: FutureWarning: 'squared' is deprecated in version 1.4 and will be removed in 1.6. To calculate the root mean squared error, use the function'root_mean_squared_error'.\n",
      "  warnings.warn(\n",
      "[I 2025-07-02 00:27:14,491] Trial 0 finished with value: 0.048197153100087715 and parameters: {'learning_rate': 0.09095123023319422, 'max_depth': 16, 'num_leaves': 100, 'min_data_in_leaf': 108, 'subsample': 0.5335626045644526, 'colsample_bytree': 0.7930595913868994, 'feature_fraction': 0.7661995389917307, 'lambda_l1': 3.6082010142687926, 'lambda_l2': 3.9393525947442605}. Best is trial 0 with value: 0.048197153100087715.\n"
     ]
    },
    {
     "name": "stdout",
     "output_type": "stream",
     "text": [
      "Training until validation scores don't improve for 30 rounds\n",
      "Did not meet early stopping. Best iteration is:\n",
      "[1000]\tvalid's rmse: 0.046784\n"
     ]
    },
    {
     "name": "stderr",
     "output_type": "stream",
     "text": [
      "/opt/anaconda3/lib/python3.11/site-packages/sklearn/metrics/_regression.py:483: FutureWarning: 'squared' is deprecated in version 1.4 and will be removed in 1.6. To calculate the root mean squared error, use the function'root_mean_squared_error'.\n",
      "  warnings.warn(\n",
      "[I 2025-07-02 00:57:11,122] Trial 1 finished with value: 0.046784045837935724 and parameters: {'learning_rate': 0.1355605331713775, 'max_depth': 9, 'num_leaves': 42, 'min_data_in_leaf': 142, 'subsample': 0.5650434583457614, 'colsample_bytree': 0.6321687052469548, 'feature_fraction': 0.7350774988571053, 'lambda_l1': 3.0412689532296406, 'lambda_l2': 1.4257694914933587}. Best is trial 1 with value: 0.046784045837935724.\n"
     ]
    },
    {
     "name": "stdout",
     "output_type": "stream",
     "text": [
      "Training until validation scores don't improve for 30 rounds\n",
      "Did not meet early stopping. Best iteration is:\n",
      "[1000]\tvalid's rmse: 0.0519303\n"
     ]
    },
    {
     "name": "stderr",
     "output_type": "stream",
     "text": [
      "/opt/anaconda3/lib/python3.11/site-packages/sklearn/metrics/_regression.py:483: FutureWarning: 'squared' is deprecated in version 1.4 and will be removed in 1.6. To calculate the root mean squared error, use the function'root_mean_squared_error'.\n",
      "  warnings.warn(\n",
      "[I 2025-07-02 02:04:53,260] Trial 2 finished with value: 0.051930254039170884 and parameters: {'learning_rate': 0.06185211628657302, 'max_depth': 13, 'num_leaves': 141, 'min_data_in_leaf': 167, 'subsample': 0.6263180503672863, 'colsample_bytree': 0.9213606836490951, 'feature_fraction': 0.5650090665678819, 'lambda_l1': 0.7140511630670798, 'lambda_l2': 3.768363312321804}. Best is trial 1 with value: 0.046784045837935724.\n",
      "[LightGBM] [Fatal] Reducing `min_data_in_leaf` with `feature_pre_filter=true` may cause unexpected behaviour for features that were pre-filtered by the larger `min_data_in_leaf`.\n",
      "You need to set `feature_pre_filter=false` to dynamically change the `min_data_in_leaf`.\n",
      "[LightGBM] [Fatal] Reducing `min_data_in_leaf` with `feature_pre_filter=true` may cause unexpected behaviour for features that were pre-filtered by the larger `min_data_in_leaf`.\n",
      "You need to set `feature_pre_filter=false` to dynamically change the `min_data_in_leaf`.\n"
     ]
    },
    {
     "name": "stdout",
     "output_type": "stream",
     "text": [
      "Training until validation scores don't improve for 30 rounds\n",
      "Early stopping, best iteration is:\n",
      "[482]\tvalid's rmse: 0.0510159\n"
     ]
    },
    {
     "name": "stderr",
     "output_type": "stream",
     "text": [
      "/opt/anaconda3/lib/python3.11/site-packages/sklearn/metrics/_regression.py:483: FutureWarning: 'squared' is deprecated in version 1.4 and will be removed in 1.6. To calculate the root mean squared error, use the function'root_mean_squared_error'.\n",
      "  warnings.warn(\n",
      "[I 2025-07-02 02:21:46,476] Trial 3 finished with value: 0.05101589652855446 and parameters: {'learning_rate': 0.23329342653387522, 'max_depth': 11, 'num_leaves': 153, 'min_data_in_leaf': 20, 'subsample': 0.7920292926538861, 'colsample_bytree': 0.9075056695588692, 'feature_fraction': 0.9534288985493438, 'lambda_l1': 2.9704945767376776, 'lambda_l2': 3.4932870550831168}. Best is trial 1 with value: 0.046784045837935724.\n"
     ]
    },
    {
     "name": "stdout",
     "output_type": "stream",
     "text": [
      "Training until validation scores don't improve for 30 rounds\n",
      "Did not meet early stopping. Best iteration is:\n",
      "[1000]\tvalid's rmse: 0.0474262\n"
     ]
    },
    {
     "name": "stderr",
     "output_type": "stream",
     "text": [
      "/opt/anaconda3/lib/python3.11/site-packages/sklearn/metrics/_regression.py:483: FutureWarning: 'squared' is deprecated in version 1.4 and will be removed in 1.6. To calculate the root mean squared error, use the function'root_mean_squared_error'.\n",
      "  warnings.warn(\n",
      "[I 2025-07-02 02:42:49,989] Trial 4 finished with value: 0.04742621436529589 and parameters: {'learning_rate': 0.22074202572253102, 'max_depth': 9, 'num_leaves': 250, 'min_data_in_leaf': 195, 'subsample': 0.5822650503668487, 'colsample_bytree': 0.5875269183060323, 'feature_fraction': 0.9433650916957457, 'lambda_l1': 3.91493732580759, 'lambda_l2': 0.24132007984158432}. Best is trial 1 with value: 0.046784045837935724.\n"
     ]
    },
    {
     "name": "stdout",
     "output_type": "stream",
     "text": [
      "Training until validation scores don't improve for 30 rounds\n",
      "Did not meet early stopping. Best iteration is:\n",
      "[1000]\tvalid's rmse: 0.0468827\n"
     ]
    },
    {
     "name": "stderr",
     "output_type": "stream",
     "text": [
      "/opt/anaconda3/lib/python3.11/site-packages/sklearn/metrics/_regression.py:483: FutureWarning: 'squared' is deprecated in version 1.4 and will be removed in 1.6. To calculate the root mean squared error, use the function'root_mean_squared_error'.\n",
      "  warnings.warn(\n",
      "[I 2025-07-02 03:00:00,681] Trial 5 finished with value: 0.04688266709195706 and parameters: {'learning_rate': 0.18704144168007433, 'max_depth': 8, 'num_leaves': 226, 'min_data_in_leaf': 137, 'subsample': 0.9664402126987706, 'colsample_bytree': 0.6039308518314037, 'feature_fraction': 0.9586536852903009, 'lambda_l1': 3.5255887335769875, 'lambda_l2': 4.564239856238076}. Best is trial 1 with value: 0.046784045837935724.\n"
     ]
    },
    {
     "name": "stdout",
     "output_type": "stream",
     "text": [
      "Training until validation scores don't improve for 30 rounds\n",
      "Did not meet early stopping. Best iteration is:\n",
      "[999]\tvalid's rmse: 0.049064\n"
     ]
    },
    {
     "name": "stderr",
     "output_type": "stream",
     "text": [
      "/opt/anaconda3/lib/python3.11/site-packages/sklearn/metrics/_regression.py:483: FutureWarning: 'squared' is deprecated in version 1.4 and will be removed in 1.6. To calculate the root mean squared error, use the function'root_mean_squared_error'.\n",
      "  warnings.warn(\n",
      "[I 2025-07-02 03:31:49,285] Trial 6 finished with value: 0.04906400113005416 and parameters: {'learning_rate': 0.2863331039804257, 'max_depth': 8, 'num_leaves': 162, 'min_data_in_leaf': 182, 'subsample': 0.804662887942619, 'colsample_bytree': 0.9876429661988708, 'feature_fraction': 0.7852278804667966, 'lambda_l1': 2.849797128836769, 'lambda_l2': 1.3509368537499455}. Best is trial 1 with value: 0.046784045837935724.\n"
     ]
    },
    {
     "name": "stdout",
     "output_type": "stream",
     "text": [
      "Training until validation scores don't improve for 30 rounds\n",
      "Did not meet early stopping. Best iteration is:\n",
      "[1000]\tvalid's rmse: 0.0495666\n"
     ]
    },
    {
     "name": "stderr",
     "output_type": "stream",
     "text": [
      "/opt/anaconda3/lib/python3.11/site-packages/sklearn/metrics/_regression.py:483: FutureWarning: 'squared' is deprecated in version 1.4 and will be removed in 1.6. To calculate the root mean squared error, use the function'root_mean_squared_error'.\n",
      "  warnings.warn(\n",
      "[I 2025-07-02 03:51:00,239] Trial 7 finished with value: 0.0495665973926836 and parameters: {'learning_rate': 0.06862138463166385, 'max_depth': 9, 'num_leaves': 115, 'min_data_in_leaf': 156, 'subsample': 0.7389489962997777, 'colsample_bytree': 0.9950613652037449, 'feature_fraction': 0.708250404825627, 'lambda_l1': 4.200625917779761, 'lambda_l2': 2.4087126138328765}. Best is trial 1 with value: 0.046784045837935724.\n"
     ]
    },
    {
     "name": "stdout",
     "output_type": "stream",
     "text": [
      "Training until validation scores don't improve for 30 rounds\n",
      "Did not meet early stopping. Best iteration is:\n",
      "[1000]\tvalid's rmse: 0.0459559\n"
     ]
    },
    {
     "name": "stderr",
     "output_type": "stream",
     "text": [
      "/opt/anaconda3/lib/python3.11/site-packages/sklearn/metrics/_regression.py:483: FutureWarning: 'squared' is deprecated in version 1.4 and will be removed in 1.6. To calculate the root mean squared error, use the function'root_mean_squared_error'.\n",
      "  warnings.warn(\n",
      "[I 2025-07-02 04:10:12,887] Trial 8 finished with value: 0.04595590616953375 and parameters: {'learning_rate': 0.1400148141223198, 'max_depth': 13, 'num_leaves': 215, 'min_data_in_leaf': 125, 'subsample': 0.7977813307223678, 'colsample_bytree': 0.6220588858310832, 'feature_fraction': 0.8699865227272925, 'lambda_l1': 2.925950964916087, 'lambda_l2': 0.6540654481257235}. Best is trial 8 with value: 0.04595590616953375.\n"
     ]
    },
    {
     "name": "stdout",
     "output_type": "stream",
     "text": [
      "Training until validation scores don't improve for 30 rounds\n",
      "Did not meet early stopping. Best iteration is:\n",
      "[999]\tvalid's rmse: 0.0469135\n"
     ]
    },
    {
     "name": "stderr",
     "output_type": "stream",
     "text": [
      "/opt/anaconda3/lib/python3.11/site-packages/sklearn/metrics/_regression.py:483: FutureWarning: 'squared' is deprecated in version 1.4 and will be removed in 1.6. To calculate the root mean squared error, use the function'root_mean_squared_error'.\n",
      "  warnings.warn(\n",
      "[I 2025-07-02 04:13:29,181] Trial 9 finished with value: 0.04691349414644566 and parameters: {'learning_rate': 0.13739607053839722, 'max_depth': 12, 'num_leaves': 196, 'min_data_in_leaf': 90, 'subsample': 0.6433293204438049, 'colsample_bytree': 0.8710769919311265, 'feature_fraction': 0.8121709466298188, 'lambda_l1': 1.3856432315921552, 'lambda_l2': 4.8292335316709245}. Best is trial 8 with value: 0.04595590616953375.\n"
     ]
    },
    {
     "name": "stdout",
     "output_type": "stream",
     "text": [
      "Training until validation scores don't improve for 30 rounds\n",
      "Did not meet early stopping. Best iteration is:\n",
      "[1000]\tvalid's rmse: 0.051465\n"
     ]
    },
    {
     "name": "stderr",
     "output_type": "stream",
     "text": [
      "/opt/anaconda3/lib/python3.11/site-packages/sklearn/metrics/_regression.py:483: FutureWarning: 'squared' is deprecated in version 1.4 and will be removed in 1.6. To calculate the root mean squared error, use the function'root_mean_squared_error'.\n",
      "  warnings.warn(\n",
      "[I 2025-07-02 04:18:33,050] Trial 10 finished with value: 0.05146495150522423 and parameters: {'learning_rate': 0.02365315920200066, 'max_depth': 15, 'num_leaves': 202, 'min_data_in_leaf': 71, 'subsample': 0.9235650546437504, 'colsample_bytree': 0.5020917440829196, 'feature_fraction': 0.5003315844293514, 'lambda_l1': 4.953819053043545, 'lambda_l2': 0.27103219011825985}. Best is trial 8 with value: 0.04595590616953375.\n"
     ]
    },
    {
     "name": "stdout",
     "output_type": "stream",
     "text": [
      "Training until validation scores don't improve for 30 rounds\n",
      "Did not meet early stopping. Best iteration is:\n",
      "[1000]\tvalid's rmse: 0.0477603\n"
     ]
    },
    {
     "name": "stderr",
     "output_type": "stream",
     "text": [
      "/opt/anaconda3/lib/python3.11/site-packages/sklearn/metrics/_regression.py:483: FutureWarning: 'squared' is deprecated in version 1.4 and will be removed in 1.6. To calculate the root mean squared error, use the function'root_mean_squared_error'.\n",
      "  warnings.warn(\n",
      "[I 2025-07-02 04:19:59,618] Trial 11 finished with value: 0.047760343929777196 and parameters: {'learning_rate': 0.13849781415888035, 'max_depth': 11, 'num_leaves': 31, 'min_data_in_leaf': 130, 'subsample': 0.8697740179909246, 'colsample_bytree': 0.6783583460130105, 'feature_fraction': 0.6691846731778748, 'lambda_l1': 2.0003099109254183, 'lambda_l2': 1.4427028058273734}. Best is trial 8 with value: 0.04595590616953375.\n"
     ]
    },
    {
     "name": "stdout",
     "output_type": "stream",
     "text": [
      "Training until validation scores don't improve for 30 rounds\n",
      "Did not meet early stopping. Best iteration is:\n",
      "[1000]\tvalid's rmse: 0.0450652\n"
     ]
    },
    {
     "name": "stderr",
     "output_type": "stream",
     "text": [
      "/opt/anaconda3/lib/python3.11/site-packages/sklearn/metrics/_regression.py:483: FutureWarning: 'squared' is deprecated in version 1.4 and will be removed in 1.6. To calculate the root mean squared error, use the function'root_mean_squared_error'.\n",
      "  warnings.warn(\n",
      "[I 2025-07-02 04:21:09,561] Trial 12 finished with value: 0.04506516115580754 and parameters: {'learning_rate': 0.1190112709707039, 'max_depth': 6, 'num_leaves': 23, 'min_data_in_leaf': 67, 'subsample': 0.7181206469411807, 'colsample_bytree': 0.6984845491811192, 'feature_fraction': 0.8291137163127703, 'lambda_l1': 2.290337226550419, 'lambda_l2': 1.293233942994634}. Best is trial 12 with value: 0.04506516115580754.\n"
     ]
    },
    {
     "name": "stdout",
     "output_type": "stream",
     "text": [
      "Training until validation scores don't improve for 30 rounds\n",
      "Early stopping, best iteration is:\n",
      "[863]\tvalid's rmse: 0.0441471\n"
     ]
    },
    {
     "name": "stderr",
     "output_type": "stream",
     "text": [
      "/opt/anaconda3/lib/python3.11/site-packages/sklearn/metrics/_regression.py:483: FutureWarning: 'squared' is deprecated in version 1.4 and will be removed in 1.6. To calculate the root mean squared error, use the function'root_mean_squared_error'.\n",
      "  warnings.warn(\n",
      "[I 2025-07-02 04:22:38,901] Trial 13 finished with value: 0.044147051277323594 and parameters: {'learning_rate': 0.1756896129444152, 'max_depth': 6, 'num_leaves': 83, 'min_data_in_leaf': 61, 'subsample': 0.7029783201777391, 'colsample_bytree': 0.7691634771662518, 'feature_fraction': 0.8671400606059259, 'lambda_l1': 1.9851679877681432, 'lambda_l2': 0.8903599672608218}. Best is trial 13 with value: 0.044147051277323594.\n"
     ]
    },
    {
     "name": "stdout",
     "output_type": "stream",
     "text": [
      "Training until validation scores don't improve for 30 rounds\n",
      "Early stopping, best iteration is:\n",
      "[567]\tvalid's rmse: 0.0451723\n"
     ]
    },
    {
     "name": "stderr",
     "output_type": "stream",
     "text": [
      "/opt/anaconda3/lib/python3.11/site-packages/sklearn/metrics/_regression.py:483: FutureWarning: 'squared' is deprecated in version 1.4 and will be removed in 1.6. To calculate the root mean squared error, use the function'root_mean_squared_error'.\n",
      "  warnings.warn(\n",
      "[I 2025-07-02 04:23:38,583] Trial 14 finished with value: 0.045172319764076985 and parameters: {'learning_rate': 0.19718125100651823, 'max_depth': 6, 'num_leaves': 69, 'min_data_in_leaf': 49, 'subsample': 0.7006191504556805, 'colsample_bytree': 0.768873970429067, 'feature_fraction': 0.8752296255619231, 'lambda_l1': 1.9363436719718563, 'lambda_l2': 2.3167773016996622}. Best is trial 13 with value: 0.044147051277323594.\n"
     ]
    },
    {
     "name": "stdout",
     "output_type": "stream",
     "text": [
      "Training until validation scores don't improve for 30 rounds\n",
      "Did not meet early stopping. Best iteration is:\n",
      "[997]\tvalid's rmse: 0.0447136\n"
     ]
    },
    {
     "name": "stderr",
     "output_type": "stream",
     "text": [
      "/opt/anaconda3/lib/python3.11/site-packages/sklearn/metrics/_regression.py:483: FutureWarning: 'squared' is deprecated in version 1.4 and will be removed in 1.6. To calculate the root mean squared error, use the function'root_mean_squared_error'.\n",
      "  warnings.warn(\n",
      "[I 2025-07-02 04:25:12,343] Trial 15 finished with value: 0.044713629652912555 and parameters: {'learning_rate': 0.10082614014866693, 'max_depth': 6, 'num_leaves': 71, 'min_data_in_leaf': 56, 'subsample': 0.6674042529669231, 'colsample_bytree': 0.6985796480431554, 'feature_fraction': 0.8715902690208248, 'lambda_l1': 0.15359373169864887, 'lambda_l2': 0.9479799472459831}. Best is trial 13 with value: 0.044147051277323594.\n"
     ]
    },
    {
     "name": "stdout",
     "output_type": "stream",
     "text": [
      "Training until validation scores don't improve for 30 rounds\n",
      "Early stopping, best iteration is:\n",
      "[286]\tvalid's rmse: 0.0459984\n"
     ]
    },
    {
     "name": "stderr",
     "output_type": "stream",
     "text": [
      "/opt/anaconda3/lib/python3.11/site-packages/sklearn/metrics/_regression.py:483: FutureWarning: 'squared' is deprecated in version 1.4 and will be removed in 1.6. To calculate the root mean squared error, use the function'root_mean_squared_error'.\n",
      "  warnings.warn(\n",
      "[I 2025-07-02 04:25:51,521] Trial 16 finished with value: 0.04599839110675541 and parameters: {'learning_rate': 0.26891611742937027, 'max_depth': 7, 'num_leaves': 77, 'min_data_in_leaf': 21, 'subsample': 0.6588148757689137, 'colsample_bytree': 0.8336635127715142, 'feature_fraction': 0.8983464031687404, 'lambda_l1': 0.300863239174066, 'lambda_l2': 1.9563342153601115}. Best is trial 13 with value: 0.044147051277323594.\n"
     ]
    },
    {
     "name": "stdout",
     "output_type": "stream",
     "text": [
      "Training until validation scores don't improve for 30 rounds\n",
      "Early stopping, best iteration is:\n",
      "[655]\tvalid's rmse: 0.0459347\n"
     ]
    },
    {
     "name": "stderr",
     "output_type": "stream",
     "text": [
      "/opt/anaconda3/lib/python3.11/site-packages/sklearn/metrics/_regression.py:483: FutureWarning: 'squared' is deprecated in version 1.4 and will be removed in 1.6. To calculate the root mean squared error, use the function'root_mean_squared_error'.\n",
      "  warnings.warn(\n",
      "[I 2025-07-02 04:27:26,263] Trial 17 finished with value: 0.045934687904740056 and parameters: {'learning_rate': 0.17778632529158764, 'max_depth': 6, 'num_leaves': 64, 'min_data_in_leaf': 48, 'subsample': 0.6780374134921953, 'colsample_bytree': 0.6984386371072688, 'feature_fraction': 0.6251822536569688, 'lambda_l1': 1.2417335505906841, 'lambda_l2': 3.0095425162899074}. Best is trial 13 with value: 0.044147051277323594.\n"
     ]
    },
    {
     "name": "stdout",
     "output_type": "stream",
     "text": [
      "Training until validation scores don't improve for 30 rounds\n",
      "Did not meet early stopping. Best iteration is:\n",
      "[1000]\tvalid's rmse: 0.0561875\n"
     ]
    },
    {
     "name": "stderr",
     "output_type": "stream",
     "text": [
      "/opt/anaconda3/lib/python3.11/site-packages/sklearn/metrics/_regression.py:483: FutureWarning: 'squared' is deprecated in version 1.4 and will be removed in 1.6. To calculate the root mean squared error, use the function'root_mean_squared_error'.\n",
      "  warnings.warn(\n",
      "[I 2025-07-02 04:29:21,928] Trial 18 finished with value: 0.056187510085236675 and parameters: {'learning_rate': 0.0154653662241903, 'max_depth': 7, 'num_leaves': 108, 'min_data_in_leaf': 93, 'subsample': 0.5099242606592345, 'colsample_bytree': 0.7398160058303255, 'feature_fraction': 0.9996275432352286, 'lambda_l1': 0.08025683592839215, 'lambda_l2': 0.6420857591850295}. Best is trial 13 with value: 0.044147051277323594.\n"
     ]
    },
    {
     "name": "stdout",
     "output_type": "stream",
     "text": [
      "Training until validation scores don't improve for 30 rounds\n",
      "Did not meet early stopping. Best iteration is:\n",
      "[998]\tvalid's rmse: 0.0472011\n"
     ]
    },
    {
     "name": "stderr",
     "output_type": "stream",
     "text": [
      "/opt/anaconda3/lib/python3.11/site-packages/sklearn/metrics/_regression.py:483: FutureWarning: 'squared' is deprecated in version 1.4 and will be removed in 1.6. To calculate the root mean squared error, use the function'root_mean_squared_error'.\n",
      "  warnings.warn(\n",
      "[I 2025-07-02 04:31:48,984] Trial 19 finished with value: 0.04720105481720091 and parameters: {'learning_rate': 0.10176714499201733, 'max_depth': 10, 'num_leaves': 88, 'min_data_in_leaf': 54, 'subsample': 0.6020382047851333, 'colsample_bytree': 0.7950850318160386, 'feature_fraction': 0.8469354396071741, 'lambda_l1': 1.0602121934871482, 'lambda_l2': 0.8599760068395794}. Best is trial 13 with value: 0.044147051277323594.\n"
     ]
    },
    {
     "name": "stdout",
     "output_type": "stream",
     "text": [
      "Training until validation scores don't improve for 30 rounds\n",
      "Did not meet early stopping. Best iteration is:\n",
      "[995]\tvalid's rmse: 0.0455329\n"
     ]
    },
    {
     "name": "stderr",
     "output_type": "stream",
     "text": [
      "/opt/anaconda3/lib/python3.11/site-packages/sklearn/metrics/_regression.py:483: FutureWarning: 'squared' is deprecated in version 1.4 and will be removed in 1.6. To calculate the root mean squared error, use the function'root_mean_squared_error'.\n",
      "  warnings.warn(\n",
      "[I 2025-07-02 05:05:01,179] Trial 20 finished with value: 0.04553289196006343 and parameters: {'learning_rate': 0.1674874078572674, 'max_depth': 7, 'num_leaves': 47, 'min_data_in_leaf': 84, 'subsample': 0.850338459725039, 'colsample_bytree': 0.7203121123588013, 'feature_fraction': 0.9129046245997006, 'lambda_l1': 1.6117133087004871, 'lambda_l2': 1.928499827617077}. Best is trial 13 with value: 0.044147051277323594.\n"
     ]
    },
    {
     "name": "stdout",
     "output_type": "stream",
     "text": [
      "Training until validation scores don't improve for 30 rounds\n",
      "Early stopping, best iteration is:\n",
      "[602]\tvalid's rmse: 0.0437459\n"
     ]
    },
    {
     "name": "stderr",
     "output_type": "stream",
     "text": [
      "/opt/anaconda3/lib/python3.11/site-packages/sklearn/metrics/_regression.py:483: FutureWarning: 'squared' is deprecated in version 1.4 and will be removed in 1.6. To calculate the root mean squared error, use the function'root_mean_squared_error'.\n",
      "  warnings.warn(\n",
      "[I 2025-07-02 05:05:37,368] Trial 21 finished with value: 0.0437458586657383 and parameters: {'learning_rate': 0.11263789769359663, 'max_depth': 6, 'num_leaves': 23, 'min_data_in_leaf': 36, 'subsample': 0.7235581612822577, 'colsample_bytree': 0.6751600604196939, 'feature_fraction': 0.8201226075974063, 'lambda_l1': 2.4020552965884803, 'lambda_l2': 1.0384398983736507}. Best is trial 21 with value: 0.0437458586657383.\n"
     ]
    },
    {
     "name": "stdout",
     "output_type": "stream",
     "text": [
      "Training until validation scores don't improve for 30 rounds\n",
      "Did not meet early stopping. Best iteration is:\n",
      "[1000]\tvalid's rmse: 0.0435115\n"
     ]
    },
    {
     "name": "stderr",
     "output_type": "stream",
     "text": [
      "/opt/anaconda3/lib/python3.11/site-packages/sklearn/metrics/_regression.py:483: FutureWarning: 'squared' is deprecated in version 1.4 and will be removed in 1.6. To calculate the root mean squared error, use the function'root_mean_squared_error'.\n",
      "  warnings.warn(\n",
      "[I 2025-07-02 05:22:52,066] Trial 22 finished with value: 0.04351153161553288 and parameters: {'learning_rate': 0.05534549016354454, 'max_depth': 6, 'num_leaves': 61, 'min_data_in_leaf': 35, 'subsample': 0.7595027136930221, 'colsample_bytree': 0.65705633285934, 'feature_fraction': 0.7994820216084756, 'lambda_l1': 2.4208442327687916, 'lambda_l2': 0.9831995368064851}. Best is trial 22 with value: 0.04351153161553288.\n"
     ]
    },
    {
     "name": "stdout",
     "output_type": "stream",
     "text": [
      "Training until validation scores don't improve for 30 rounds\n",
      "Did not meet early stopping. Best iteration is:\n",
      "[996]\tvalid's rmse: 0.0432121\n"
     ]
    },
    {
     "name": "stderr",
     "output_type": "stream",
     "text": [
      "/opt/anaconda3/lib/python3.11/site-packages/sklearn/metrics/_regression.py:483: FutureWarning: 'squared' is deprecated in version 1.4 and will be removed in 1.6. To calculate the root mean squared error, use the function'root_mean_squared_error'.\n",
      "  warnings.warn(\n",
      "[I 2025-07-02 05:41:08,196] Trial 23 finished with value: 0.043212135114530884 and parameters: {'learning_rate': 0.03783328570369354, 'max_depth': 8, 'num_leaves': 49, 'min_data_in_leaf': 33, 'subsample': 0.7651737521435632, 'colsample_bytree': 0.6580313581034996, 'feature_fraction': 0.7975472462416549, 'lambda_l1': 2.454317050035141, 'lambda_l2': 0.0003486441298261589}. Best is trial 23 with value: 0.043212135114530884.\n"
     ]
    },
    {
     "name": "stdout",
     "output_type": "stream",
     "text": [
      "Training until validation scores don't improve for 30 rounds\n",
      "Did not meet early stopping. Best iteration is:\n",
      "[999]\tvalid's rmse: 0.0441998\n"
     ]
    },
    {
     "name": "stderr",
     "output_type": "stream",
     "text": [
      "/opt/anaconda3/lib/python3.11/site-packages/sklearn/metrics/_regression.py:483: FutureWarning: 'squared' is deprecated in version 1.4 and will be removed in 1.6. To calculate the root mean squared error, use the function'root_mean_squared_error'.\n",
      "  warnings.warn(\n",
      "[I 2025-07-02 05:57:42,369] Trial 24 finished with value: 0.044199819054191423 and parameters: {'learning_rate': 0.04558710577101414, 'max_depth': 8, 'num_leaves': 50, 'min_data_in_leaf': 36, 'subsample': 0.7709925244189401, 'colsample_bytree': 0.5545500386636428, 'feature_fraction': 0.796840693732598, 'lambda_l1': 2.2765531685533165, 'lambda_l2': 0.01683678365733162}. Best is trial 23 with value: 0.043212135114530884.\n"
     ]
    },
    {
     "name": "stdout",
     "output_type": "stream",
     "text": [
      "Training until validation scores don't improve for 30 rounds\n",
      "Did not meet early stopping. Best iteration is:\n",
      "[999]\tvalid's rmse: 0.0444647\n"
     ]
    },
    {
     "name": "stderr",
     "output_type": "stream",
     "text": [
      "/opt/anaconda3/lib/python3.11/site-packages/sklearn/metrics/_regression.py:483: FutureWarning: 'squared' is deprecated in version 1.4 and will be removed in 1.6. To calculate the root mean squared error, use the function'root_mean_squared_error'.\n",
      "  warnings.warn(\n",
      "[I 2025-07-02 06:01:19,302] Trial 25 finished with value: 0.04446473400714347 and parameters: {'learning_rate': 0.04674477583775885, 'max_depth': 7, 'num_leaves': 22, 'min_data_in_leaf': 30, 'subsample': 0.8373034805787686, 'colsample_bytree': 0.6515423529367788, 'feature_fraction': 0.7307819942233974, 'lambda_l1': 2.616959635745215, 'lambda_l2': 0.4409014106935478}. Best is trial 23 with value: 0.043212135114530884.\n"
     ]
    },
    {
     "name": "stdout",
     "output_type": "stream",
     "text": [
      "Training until validation scores don't improve for 30 rounds\n",
      "Did not meet early stopping. Best iteration is:\n",
      "[995]\tvalid's rmse: 0.0455513\n"
     ]
    },
    {
     "name": "stderr",
     "output_type": "stream",
     "text": [
      "/opt/anaconda3/lib/python3.11/site-packages/sklearn/metrics/_regression.py:483: FutureWarning: 'squared' is deprecated in version 1.4 and will be removed in 1.6. To calculate the root mean squared error, use the function'root_mean_squared_error'.\n",
      "  warnings.warn(\n",
      "[I 2025-07-02 06:18:23,499] Trial 26 finished with value: 0.04555127882933598 and parameters: {'learning_rate': 0.07670084423646828, 'max_depth': 8, 'num_leaves': 55, 'min_data_in_leaf': 40, 'subsample': 0.9045952066216036, 'colsample_bytree': 0.5611869029124561, 'feature_fraction': 0.6859931942186813, 'lambda_l1': 3.310490415596009, 'lambda_l2': 0.02248601591370758}. Best is trial 23 with value: 0.043212135114530884.\n"
     ]
    },
    {
     "name": "stdout",
     "output_type": "stream",
     "text": [
      "Training until validation scores don't improve for 30 rounds\n",
      "Did not meet early stopping. Best iteration is:\n",
      "[1000]\tvalid's rmse: 0.0486956\n"
     ]
    },
    {
     "name": "stderr",
     "output_type": "stream",
     "text": [
      "/opt/anaconda3/lib/python3.11/site-packages/sklearn/metrics/_regression.py:483: FutureWarning: 'squared' is deprecated in version 1.4 and will be removed in 1.6. To calculate the root mean squared error, use the function'root_mean_squared_error'.\n",
      "  warnings.warn(\n",
      "[I 2025-07-02 06:20:47,502] Trial 27 finished with value: 0.0486955589271808 and parameters: {'learning_rate': 0.037129451545500486, 'max_depth': 10, 'num_leaves': 124, 'min_data_in_leaf': 73, 'subsample': 0.7511887201504761, 'colsample_bytree': 0.6605779206414581, 'feature_fraction': 0.777601337697686, 'lambda_l1': 2.418361608779357, 'lambda_l2': 1.752975508794035}. Best is trial 23 with value: 0.043212135114530884.\n"
     ]
    },
    {
     "name": "stdout",
     "output_type": "stream",
     "text": [
      "Training until validation scores don't improve for 30 rounds\n",
      "Did not meet early stopping. Best iteration is:\n",
      "[1000]\tvalid's rmse: 0.043983\n"
     ]
    },
    {
     "name": "stderr",
     "output_type": "stream",
     "text": [
      "/opt/anaconda3/lib/python3.11/site-packages/sklearn/metrics/_regression.py:483: FutureWarning: 'squared' is deprecated in version 1.4 and will be removed in 1.6. To calculate the root mean squared error, use the function'root_mean_squared_error'.\n",
      "  warnings.warn(\n",
      "[I 2025-07-02 06:22:25,232] Trial 28 finished with value: 0.04398301818917682 and parameters: {'learning_rate': 0.08132575000014015, 'max_depth': 7, 'num_leaves': 38, 'min_data_in_leaf': 40, 'subsample': 0.7485748751057882, 'colsample_bytree': 0.5162848863206829, 'feature_fraction': 0.6450884137627784, 'lambda_l1': 1.672768859161278, 'lambda_l2': 1.0338355946962583}. Best is trial 23 with value: 0.043212135114530884.\n"
     ]
    },
    {
     "name": "stdout",
     "output_type": "stream",
     "text": [
      "Training until validation scores don't improve for 30 rounds\n",
      "Did not meet early stopping. Best iteration is:\n",
      "[999]\tvalid's rmse: 0.0469041\n"
     ]
    },
    {
     "name": "stderr",
     "output_type": "stream",
     "text": [
      "/opt/anaconda3/lib/python3.11/site-packages/sklearn/metrics/_regression.py:483: FutureWarning: 'squared' is deprecated in version 1.4 and will be removed in 1.6. To calculate the root mean squared error, use the function'root_mean_squared_error'.\n",
      "  warnings.warn(\n",
      "[I 2025-07-02 06:43:50,832] Trial 29 finished with value: 0.04690409096669626 and parameters: {'learning_rate': 0.10984137515541346, 'max_depth': 16, 'num_leaves': 101, 'min_data_in_leaf': 103, 'subsample': 0.8245793750257943, 'colsample_bytree': 0.5875050680849085, 'feature_fraction': 0.7630239634852205, 'lambda_l1': 3.964991572957862, 'lambda_l2': 2.671968055158811}. Best is trial 23 with value: 0.043212135114530884.\n"
     ]
    },
    {
     "name": "stdout",
     "output_type": "stream",
     "text": [
      "📌 Mejores hiperparámetros para cluster 0:\n",
      "   learning_rate: 0.03783328570369354\n",
      "   max_depth: 8\n",
      "   num_leaves: 49\n",
      "   min_data_in_leaf: 33\n",
      "   subsample: 0.7651737521435632\n",
      "   colsample_bytree: 0.6580313581034996\n",
      "   feature_fraction: 0.7975472462416549\n",
      "   lambda_l1: 2.454317050035141\n",
      "   lambda_l2: 0.0003486441298261589\n",
      "   objective: regression\n",
      "   metric: rmse\n",
      "   verbose: -1\n",
      "Training until validation scores don't improve for 50 rounds\n",
      "[100]\tvalid's rmse: 0.0600324\n",
      "[200]\tvalid's rmse: 0.0508434\n",
      "[300]\tvalid's rmse: 0.0477846\n",
      "[400]\tvalid's rmse: 0.0461546\n",
      "[500]\tvalid's rmse: 0.045288\n",
      "[600]\tvalid's rmse: 0.0446182\n",
      "[700]\tvalid's rmse: 0.0440922\n",
      "[800]\tvalid's rmse: 0.0436443\n",
      "[900]\tvalid's rmse: 0.0433433\n",
      "[1000]\tvalid's rmse: 0.0432192\n",
      "Did not meet early stopping. Best iteration is:\n",
      "[996]\tvalid's rmse: 0.0432121\n",
      "✅ Modelo guardado en lightgbm_cluster_0.txt\n",
      "\n",
      "🔄 Entrenando modelo para cluster 1...\n"
     ]
    },
    {
     "name": "stderr",
     "output_type": "stream",
     "text": [
      "[I 2025-07-02 06:45:12,116] A new study created in memory with name: no-name-b837ec6e-d2a1-460e-b208-ed0935dfbd1f\n"
     ]
    },
    {
     "name": "stdout",
     "output_type": "stream",
     "text": [
      "Training until validation scores don't improve for 30 rounds\n"
     ]
    },
    {
     "name": "stderr",
     "output_type": "stream",
     "text": [
      "/opt/anaconda3/lib/python3.11/site-packages/sklearn/metrics/_regression.py:483: FutureWarning: 'squared' is deprecated in version 1.4 and will be removed in 1.6. To calculate the root mean squared error, use the function'root_mean_squared_error'.\n",
      "  warnings.warn(\n",
      "[I 2025-07-02 06:45:14,709] Trial 0 finished with value: 1.6255177046795255 and parameters: {'learning_rate': 0.16444289604737197, 'max_depth': 10, 'num_leaves': 183, 'min_data_in_leaf': 46, 'subsample': 0.5409256690189661, 'colsample_bytree': 0.8884538488232805, 'feature_fraction': 0.8571817462096112, 'lambda_l1': 0.8792046722599139, 'lambda_l2': 0.45058439226167757}. Best is trial 0 with value: 1.6255177046795255.\n"
     ]
    },
    {
     "name": "stdout",
     "output_type": "stream",
     "text": [
      "Early stopping, best iteration is:\n",
      "[21]\tvalid's rmse: 1.62552\n",
      "Training until validation scores don't improve for 30 rounds\n",
      "Early stopping, best iteration is:\n",
      "[118]\tvalid's rmse: 1.70425\n"
     ]
    },
    {
     "name": "stderr",
     "output_type": "stream",
     "text": [
      "/opt/anaconda3/lib/python3.11/site-packages/sklearn/metrics/_regression.py:483: FutureWarning: 'squared' is deprecated in version 1.4 and will be removed in 1.6. To calculate the root mean squared error, use the function'root_mean_squared_error'.\n",
      "  warnings.warn(\n",
      "[I 2025-07-02 06:45:17,961] Trial 1 finished with value: 1.7042525298012732 and parameters: {'learning_rate': 0.21219731445687984, 'max_depth': 16, 'num_leaves': 251, 'min_data_in_leaf': 172, 'subsample': 0.6051821819127132, 'colsample_bytree': 0.7988245486013278, 'feature_fraction': 0.9926132616048775, 'lambda_l1': 1.6967756351435166, 'lambda_l2': 0.7129147338773806}. Best is trial 0 with value: 1.6255177046795255.\n",
      "[LightGBM] [Fatal] Reducing `min_data_in_leaf` with `feature_pre_filter=true` may cause unexpected behaviour for features that were pre-filtered by the larger `min_data_in_leaf`.\n",
      "You need to set `feature_pre_filter=false` to dynamically change the `min_data_in_leaf`.\n",
      "[LightGBM] [Fatal] Reducing `min_data_in_leaf` with `feature_pre_filter=true` may cause unexpected behaviour for features that were pre-filtered by the larger `min_data_in_leaf`.\n",
      "You need to set `feature_pre_filter=false` to dynamically change the `min_data_in_leaf`.\n"
     ]
    },
    {
     "name": "stdout",
     "output_type": "stream",
     "text": [
      "Training until validation scores don't improve for 30 rounds\n"
     ]
    },
    {
     "name": "stderr",
     "output_type": "stream",
     "text": [
      "/opt/anaconda3/lib/python3.11/site-packages/sklearn/metrics/_regression.py:483: FutureWarning: 'squared' is deprecated in version 1.4 and will be removed in 1.6. To calculate the root mean squared error, use the function'root_mean_squared_error'.\n",
      "  warnings.warn(\n",
      "[I 2025-07-02 06:45:19,095] Trial 2 finished with value: 1.640820353334351 and parameters: {'learning_rate': 0.23522555514992216, 'max_depth': 6, 'num_leaves': 20, 'min_data_in_leaf': 39, 'subsample': 0.6314245327211968, 'colsample_bytree': 0.5370957817470243, 'feature_fraction': 0.6246697423888958, 'lambda_l1': 1.8513877204948241, 'lambda_l2': 3.2355175929369207}. Best is trial 0 with value: 1.6255177046795255.\n"
     ]
    },
    {
     "name": "stdout",
     "output_type": "stream",
     "text": [
      "Early stopping, best iteration is:\n",
      "[16]\tvalid's rmse: 1.64082\n",
      "Training until validation scores don't improve for 30 rounds\n"
     ]
    },
    {
     "name": "stderr",
     "output_type": "stream",
     "text": [
      "/opt/anaconda3/lib/python3.11/site-packages/sklearn/metrics/_regression.py:483: FutureWarning: 'squared' is deprecated in version 1.4 and will be removed in 1.6. To calculate the root mean squared error, use the function'root_mean_squared_error'.\n",
      "  warnings.warn(\n",
      "[I 2025-07-02 06:45:21,749] Trial 3 finished with value: 1.7349539464846009 and parameters: {'learning_rate': 0.08349125977280279, 'max_depth': 7, 'num_leaves': 50, 'min_data_in_leaf': 141, 'subsample': 0.6830392264637581, 'colsample_bytree': 0.7984770025352395, 'feature_fraction': 0.6933963293033342, 'lambda_l1': 4.077711426050867, 'lambda_l2': 3.014890522568791}. Best is trial 0 with value: 1.6255177046795255.\n"
     ]
    },
    {
     "name": "stdout",
     "output_type": "stream",
     "text": [
      "Early stopping, best iteration is:\n",
      "[127]\tvalid's rmse: 1.73495\n"
     ]
    },
    {
     "name": "stderr",
     "output_type": "stream",
     "text": [
      "[LightGBM] [Fatal] Reducing `min_data_in_leaf` with `feature_pre_filter=true` may cause unexpected behaviour for features that were pre-filtered by the larger `min_data_in_leaf`.\n",
      "You need to set `feature_pre_filter=false` to dynamically change the `min_data_in_leaf`.\n",
      "[LightGBM] [Fatal] Reducing `min_data_in_leaf` with `feature_pre_filter=true` may cause unexpected behaviour for features that were pre-filtered by the larger `min_data_in_leaf`.\n",
      "You need to set `feature_pre_filter=false` to dynamically change the `min_data_in_leaf`.\n"
     ]
    },
    {
     "name": "stdout",
     "output_type": "stream",
     "text": [
      "Training until validation scores don't improve for 30 rounds\n"
     ]
    },
    {
     "name": "stderr",
     "output_type": "stream",
     "text": [
      "/opt/anaconda3/lib/python3.11/site-packages/sklearn/metrics/_regression.py:483: FutureWarning: 'squared' is deprecated in version 1.4 and will be removed in 1.6. To calculate the root mean squared error, use the function'root_mean_squared_error'.\n",
      "  warnings.warn(\n",
      "[I 2025-07-02 06:45:24,880] Trial 4 finished with value: 1.7092796957553151 and parameters: {'learning_rate': 0.24197359875872237, 'max_depth': 16, 'num_leaves': 255, 'min_data_in_leaf': 26, 'subsample': 0.7887260232061255, 'colsample_bytree': 0.6708419382515265, 'feature_fraction': 0.6027439293257175, 'lambda_l1': 2.8225844405388854, 'lambda_l2': 4.609146225052126}. Best is trial 0 with value: 1.6255177046795255.\n"
     ]
    },
    {
     "name": "stdout",
     "output_type": "stream",
     "text": [
      "Early stopping, best iteration is:\n",
      "[15]\tvalid's rmse: 1.70928\n",
      "Training until validation scores don't improve for 30 rounds\n"
     ]
    },
    {
     "name": "stderr",
     "output_type": "stream",
     "text": [
      "/opt/anaconda3/lib/python3.11/site-packages/sklearn/metrics/_regression.py:483: FutureWarning: 'squared' is deprecated in version 1.4 and will be removed in 1.6. To calculate the root mean squared error, use the function'root_mean_squared_error'.\n",
      "  warnings.warn(\n",
      "[I 2025-07-02 06:45:27,026] Trial 5 finished with value: 1.741038741528408 and parameters: {'learning_rate': 0.289658393970141, 'max_depth': 8, 'num_leaves': 62, 'min_data_in_leaf': 188, 'subsample': 0.8729363148170535, 'colsample_bytree': 0.9333363637454541, 'feature_fraction': 0.6027360638110941, 'lambda_l1': 2.6835766526718956, 'lambda_l2': 3.427137468396087}. Best is trial 0 with value: 1.6255177046795255.\n"
     ]
    },
    {
     "name": "stdout",
     "output_type": "stream",
     "text": [
      "Early stopping, best iteration is:\n",
      "[74]\tvalid's rmse: 1.74104\n",
      "Training until validation scores don't improve for 30 rounds\n"
     ]
    },
    {
     "name": "stderr",
     "output_type": "stream",
     "text": [
      "/opt/anaconda3/lib/python3.11/site-packages/sklearn/metrics/_regression.py:483: FutureWarning: 'squared' is deprecated in version 1.4 and will be removed in 1.6. To calculate the root mean squared error, use the function'root_mean_squared_error'.\n",
      "  warnings.warn(\n",
      "[I 2025-07-02 06:45:30,038] Trial 6 finished with value: 1.7377721495404654 and parameters: {'learning_rate': 0.24968492652325322, 'max_depth': 12, 'num_leaves': 176, 'min_data_in_leaf': 177, 'subsample': 0.7576891848818474, 'colsample_bytree': 0.8493411724970663, 'feature_fraction': 0.5477806945346806, 'lambda_l1': 0.5010409993036608, 'lambda_l2': 4.0217124106878295}. Best is trial 0 with value: 1.6255177046795255.\n"
     ]
    },
    {
     "name": "stdout",
     "output_type": "stream",
     "text": [
      "Early stopping, best iteration is:\n",
      "[101]\tvalid's rmse: 1.73777\n",
      "Training until validation scores don't improve for 30 rounds\n"
     ]
    },
    {
     "name": "stderr",
     "output_type": "stream",
     "text": [
      "/opt/anaconda3/lib/python3.11/site-packages/sklearn/metrics/_regression.py:483: FutureWarning: 'squared' is deprecated in version 1.4 and will be removed in 1.6. To calculate the root mean squared error, use the function'root_mean_squared_error'.\n",
      "  warnings.warn(\n",
      "[I 2025-07-02 06:45:31,396] Trial 7 finished with value: 1.622736049409451 and parameters: {'learning_rate': 0.08412565353447321, 'max_depth': 7, 'num_leaves': 105, 'min_data_in_leaf': 52, 'subsample': 0.6638443687188407, 'colsample_bytree': 0.820217261130375, 'feature_fraction': 0.8555364850955823, 'lambda_l1': 3.964310535687038, 'lambda_l2': 0.6343462334223143}. Best is trial 7 with value: 1.622736049409451.\n"
     ]
    },
    {
     "name": "stdout",
     "output_type": "stream",
     "text": [
      "Early stopping, best iteration is:\n",
      "[56]\tvalid's rmse: 1.62274\n",
      "Training until validation scores don't improve for 30 rounds\n"
     ]
    },
    {
     "name": "stderr",
     "output_type": "stream",
     "text": [
      "/opt/anaconda3/lib/python3.11/site-packages/sklearn/metrics/_regression.py:483: FutureWarning: 'squared' is deprecated in version 1.4 and will be removed in 1.6. To calculate the root mean squared error, use the function'root_mean_squared_error'.\n",
      "  warnings.warn(\n",
      "[I 2025-07-02 06:45:34,661] Trial 8 finished with value: 1.758892537162381 and parameters: {'learning_rate': 0.10531935515979529, 'max_depth': 16, 'num_leaves': 169, 'min_data_in_leaf': 131, 'subsample': 0.8184401296657466, 'colsample_bytree': 0.676849738618369, 'feature_fraction': 0.6640469622369662, 'lambda_l1': 3.757104209119727, 'lambda_l2': 3.778932342891674}. Best is trial 7 with value: 1.622736049409451.\n"
     ]
    },
    {
     "name": "stdout",
     "output_type": "stream",
     "text": [
      "Early stopping, best iteration is:\n",
      "[125]\tvalid's rmse: 1.75889\n",
      "Training until validation scores don't improve for 30 rounds\n"
     ]
    },
    {
     "name": "stderr",
     "output_type": "stream",
     "text": [
      "/opt/anaconda3/lib/python3.11/site-packages/sklearn/metrics/_regression.py:483: FutureWarning: 'squared' is deprecated in version 1.4 and will be removed in 1.6. To calculate the root mean squared error, use the function'root_mean_squared_error'.\n",
      "  warnings.warn(\n",
      "[I 2025-07-02 06:45:37,305] Trial 9 finished with value: 1.6691231519740186 and parameters: {'learning_rate': 0.1786791937592715, 'max_depth': 15, 'num_leaves': 222, 'min_data_in_leaf': 116, 'subsample': 0.6654136051109285, 'colsample_bytree': 0.9330964708492122, 'feature_fraction': 0.8677107369388342, 'lambda_l1': 2.0064354590275277, 'lambda_l2': 0.748308437245564}. Best is trial 7 with value: 1.622736049409451.\n"
     ]
    },
    {
     "name": "stdout",
     "output_type": "stream",
     "text": [
      "Early stopping, best iteration is:\n",
      "[111]\tvalid's rmse: 1.66912\n",
      "Training until validation scores don't improve for 30 rounds\n",
      "Early stopping, best iteration is:\n",
      "[513]\tvalid's rmse: 1.66766\n"
     ]
    },
    {
     "name": "stderr",
     "output_type": "stream",
     "text": [
      "/opt/anaconda3/lib/python3.11/site-packages/sklearn/metrics/_regression.py:483: FutureWarning: 'squared' is deprecated in version 1.4 and will be removed in 1.6. To calculate the root mean squared error, use the function'root_mean_squared_error'.\n",
      "  warnings.warn(\n",
      "[I 2025-07-02 06:45:50,876] Trial 10 finished with value: 1.6676594567734113 and parameters: {'learning_rate': 0.011594332626891524, 'max_depth': 10, 'num_leaves': 99, 'min_data_in_leaf': 72, 'subsample': 0.9456876850700497, 'colsample_bytree': 0.9877410430076698, 'feature_fraction': 0.7979238460926603, 'lambda_l1': 4.996003481787469, 'lambda_l2': 1.8431913109521223}. Best is trial 7 with value: 1.622736049409451.\n"
     ]
    },
    {
     "name": "stdout",
     "output_type": "stream",
     "text": [
      "Training until validation scores don't improve for 30 rounds\n"
     ]
    },
    {
     "name": "stderr",
     "output_type": "stream",
     "text": [
      "/opt/anaconda3/lib/python3.11/site-packages/sklearn/metrics/_regression.py:483: FutureWarning: 'squared' is deprecated in version 1.4 and will be removed in 1.6. To calculate the root mean squared error, use the function'root_mean_squared_error'.\n",
      "  warnings.warn(\n",
      "[I 2025-07-02 06:45:52,808] Trial 11 finished with value: 1.6769236134394259 and parameters: {'learning_rate': 0.11831397113876649, 'max_depth': 10, 'num_leaves': 127, 'min_data_in_leaf': 75, 'subsample': 0.5000281146324907, 'colsample_bytree': 0.880139790408319, 'feature_fraction': 0.8762650818041502, 'lambda_l1': 0.6806662966027863, 'lambda_l2': 0.11664457747439988}. Best is trial 7 with value: 1.622736049409451.\n"
     ]
    },
    {
     "name": "stdout",
     "output_type": "stream",
     "text": [
      "Early stopping, best iteration is:\n",
      "[61]\tvalid's rmse: 1.67692\n",
      "Training until validation scores don't improve for 30 rounds\n"
     ]
    },
    {
     "name": "stderr",
     "output_type": "stream",
     "text": [
      "/opt/anaconda3/lib/python3.11/site-packages/sklearn/metrics/_regression.py:483: FutureWarning: 'squared' is deprecated in version 1.4 and will be removed in 1.6. To calculate the root mean squared error, use the function'root_mean_squared_error'.\n",
      "  warnings.warn(\n",
      "[I 2025-07-02 06:45:58,477] Trial 12 finished with value: 1.6326096267917594 and parameters: {'learning_rate': 0.05381362289069953, 'max_depth': 12, 'num_leaves': 172, 'min_data_in_leaf': 67, 'subsample': 0.5352783236696471, 'colsample_bytree': 0.7322388068676131, 'feature_fraction': 0.9612170618046771, 'lambda_l1': 0.046298090627603816, 'lambda_l2': 1.830877976608507}. Best is trial 7 with value: 1.622736049409451.\n"
     ]
    },
    {
     "name": "stdout",
     "output_type": "stream",
     "text": [
      "Early stopping, best iteration is:\n",
      "[96]\tvalid's rmse: 1.63261\n",
      "Training until validation scores don't improve for 30 rounds\n"
     ]
    },
    {
     "name": "stderr",
     "output_type": "stream",
     "text": [
      "/opt/anaconda3/lib/python3.11/site-packages/sklearn/metrics/_regression.py:483: FutureWarning: 'squared' is deprecated in version 1.4 and will be removed in 1.6. To calculate the root mean squared error, use the function'root_mean_squared_error'.\n",
      "  warnings.warn(\n",
      "[I 2025-07-02 06:45:59,673] Trial 13 finished with value: 1.6049774611115186 and parameters: {'learning_rate': 0.1510584597631331, 'max_depth': 9, 'num_leaves': 121, 'min_data_in_leaf': 42, 'subsample': 0.5728525662824513, 'colsample_bytree': 0.8588335905150771, 'feature_fraction': 0.7810795612399456, 'lambda_l1': 3.7317660763896363, 'lambda_l2': 1.4700643825332604}. Best is trial 13 with value: 1.6049774611115186.\n"
     ]
    },
    {
     "name": "stdout",
     "output_type": "stream",
     "text": [
      "Early stopping, best iteration is:\n",
      "[29]\tvalid's rmse: 1.60498\n",
      "Training until validation scores don't improve for 30 rounds\n"
     ]
    },
    {
     "name": "stderr",
     "output_type": "stream",
     "text": [
      "/opt/anaconda3/lib/python3.11/site-packages/sklearn/metrics/_regression.py:483: FutureWarning: 'squared' is deprecated in version 1.4 and will be removed in 1.6. To calculate the root mean squared error, use the function'root_mean_squared_error'.\n",
      "  warnings.warn(\n",
      "[I 2025-07-02 06:46:01,408] Trial 14 finished with value: 1.6753700578180806 and parameters: {'learning_rate': 0.1341906450464482, 'max_depth': 8, 'num_leaves': 110, 'min_data_in_leaf': 93, 'subsample': 0.7094247258742077, 'colsample_bytree': 0.7531644433533803, 'feature_fraction': 0.7635173109443586, 'lambda_l1': 3.684660615351739, 'lambda_l2': 1.4935094782294418}. Best is trial 13 with value: 1.6049774611115186.\n"
     ]
    },
    {
     "name": "stdout",
     "output_type": "stream",
     "text": [
      "Early stopping, best iteration is:\n",
      "[106]\tvalid's rmse: 1.67537\n",
      "Training until validation scores don't improve for 30 rounds\n"
     ]
    },
    {
     "name": "stderr",
     "output_type": "stream",
     "text": [
      "/opt/anaconda3/lib/python3.11/site-packages/sklearn/metrics/_regression.py:483: FutureWarning: 'squared' is deprecated in version 1.4 and will be removed in 1.6. To calculate the root mean squared error, use the function'root_mean_squared_error'.\n",
      "  warnings.warn(\n",
      "[I 2025-07-02 06:46:03,382] Trial 15 finished with value: 1.6345650739725637 and parameters: {'learning_rate': 0.06935873602238901, 'max_depth': 8, 'num_leaves': 95, 'min_data_in_leaf': 54, 'subsample': 0.5924805423929728, 'colsample_bytree': 0.5967794333699139, 'feature_fraction': 0.790997925174419, 'lambda_l1': 4.649742728307794, 'lambda_l2': 1.3431032414408761}. Best is trial 13 with value: 1.6049774611115186.\n"
     ]
    },
    {
     "name": "stdout",
     "output_type": "stream",
     "text": [
      "Early stopping, best iteration is:\n",
      "[74]\tvalid's rmse: 1.63457\n",
      "Training until validation scores don't improve for 30 rounds\n"
     ]
    },
    {
     "name": "stderr",
     "output_type": "stream",
     "text": [
      "/opt/anaconda3/lib/python3.11/site-packages/sklearn/metrics/_regression.py:483: FutureWarning: 'squared' is deprecated in version 1.4 and will be removed in 1.6. To calculate the root mean squared error, use the function'root_mean_squared_error'.\n",
      "  warnings.warn(\n",
      "[I 2025-07-02 06:46:04,127] Trial 16 finished with value: 1.6956333245400996 and parameters: {'learning_rate': 0.18340247518405392, 'max_depth': 6, 'num_leaves': 144, 'min_data_in_leaf': 94, 'subsample': 0.7183209947125553, 'colsample_bytree': 0.82667704492422, 'feature_fraction': 0.9242840858339209, 'lambda_l1': 3.393531365211858, 'lambda_l2': 2.723438042784104}. Best is trial 13 with value: 1.6049774611115186.\n"
     ]
    },
    {
     "name": "stdout",
     "output_type": "stream",
     "text": [
      "Early stopping, best iteration is:\n",
      "[41]\tvalid's rmse: 1.69563\n"
     ]
    },
    {
     "name": "stderr",
     "output_type": "stream",
     "text": [
      "[LightGBM] [Fatal] Reducing `min_data_in_leaf` with `feature_pre_filter=true` may cause unexpected behaviour for features that were pre-filtered by the larger `min_data_in_leaf`.\n",
      "You need to set `feature_pre_filter=false` to dynamically change the `min_data_in_leaf`.\n",
      "[LightGBM] [Fatal] Reducing `min_data_in_leaf` with `feature_pre_filter=true` may cause unexpected behaviour for features that were pre-filtered by the larger `min_data_in_leaf`.\n",
      "You need to set `feature_pre_filter=false` to dynamically change the `min_data_in_leaf`.\n"
     ]
    },
    {
     "name": "stdout",
     "output_type": "stream",
     "text": [
      "Training until validation scores don't improve for 30 rounds\n"
     ]
    },
    {
     "name": "stderr",
     "output_type": "stream",
     "text": [
      "/opt/anaconda3/lib/python3.11/site-packages/sklearn/metrics/_regression.py:483: FutureWarning: 'squared' is deprecated in version 1.4 and will be removed in 1.6. To calculate the root mean squared error, use the function'root_mean_squared_error'.\n",
      "  warnings.warn(\n",
      "[I 2025-07-02 06:46:07,681] Trial 17 finished with value: 1.606622011833287 and parameters: {'learning_rate': 0.03379350209651558, 'max_depth': 9, 'num_leaves': 74, 'min_data_in_leaf': 24, 'subsample': 0.5678644936526837, 'colsample_bytree': 0.7385927624254995, 'feature_fraction': 0.7357355758924817, 'lambda_l1': 4.198736445497954, 'lambda_l2': 2.237770592077651}. Best is trial 13 with value: 1.6049774611115186.\n"
     ]
    },
    {
     "name": "stdout",
     "output_type": "stream",
     "text": [
      "Early stopping, best iteration is:\n",
      "[101]\tvalid's rmse: 1.60662\n"
     ]
    },
    {
     "name": "stderr",
     "output_type": "stream",
     "text": [
      "[LightGBM] [Fatal] Reducing `min_data_in_leaf` with `feature_pre_filter=true` may cause unexpected behaviour for features that were pre-filtered by the larger `min_data_in_leaf`.\n",
      "You need to set `feature_pre_filter=false` to dynamically change the `min_data_in_leaf`.\n",
      "[LightGBM] [Fatal] Reducing `min_data_in_leaf` with `feature_pre_filter=true` may cause unexpected behaviour for features that were pre-filtered by the larger `min_data_in_leaf`.\n",
      "You need to set `feature_pre_filter=false` to dynamically change the `min_data_in_leaf`.\n"
     ]
    },
    {
     "name": "stdout",
     "output_type": "stream",
     "text": [
      "Training until validation scores don't improve for 30 rounds\n",
      "Early stopping, best iteration is:\n",
      "[330]\tvalid's rmse: 1.60569\n"
     ]
    },
    {
     "name": "stderr",
     "output_type": "stream",
     "text": [
      "/opt/anaconda3/lib/python3.11/site-packages/sklearn/metrics/_regression.py:483: FutureWarning: 'squared' is deprecated in version 1.4 and will be removed in 1.6. To calculate the root mean squared error, use the function'root_mean_squared_error'.\n",
      "  warnings.warn(\n",
      "[I 2025-07-02 06:46:15,439] Trial 18 finished with value: 1.6056941238569022 and parameters: {'learning_rate': 0.011337579725035494, 'max_depth': 13, 'num_leaves': 65, 'min_data_in_leaf': 21, 'subsample': 0.5727327670683797, 'colsample_bytree': 0.7113685715836466, 'feature_fraction': 0.7076640186342058, 'lambda_l1': 3.137736387021584, 'lambda_l2': 2.3284693195912114}. Best is trial 13 with value: 1.6049774611115186.\n"
     ]
    },
    {
     "name": "stdout",
     "output_type": "stream",
     "text": [
      "Training until validation scores don't improve for 30 rounds\n"
     ]
    },
    {
     "name": "stderr",
     "output_type": "stream",
     "text": [
      "/opt/anaconda3/lib/python3.11/site-packages/sklearn/metrics/_regression.py:483: FutureWarning: 'squared' is deprecated in version 1.4 and will be removed in 1.6. To calculate the root mean squared error, use the function'root_mean_squared_error'.\n",
      "  warnings.warn(\n",
      "[I 2025-07-02 06:46:16,003] Trial 19 finished with value: 1.6519742660375158 and parameters: {'learning_rate': 0.29693336141642324, 'max_depth': 14, 'num_leaves': 31, 'min_data_in_leaf': 22, 'subsample': 0.5057650016984989, 'colsample_bytree': 0.6285947175696476, 'feature_fraction': 0.6939625872323113, 'lambda_l1': 3.298624902504242, 'lambda_l2': 2.4116891141183237}. Best is trial 13 with value: 1.6049774611115186.\n"
     ]
    },
    {
     "name": "stdout",
     "output_type": "stream",
     "text": [
      "Early stopping, best iteration is:\n",
      "[27]\tvalid's rmse: 1.65197\n",
      "Training until validation scores don't improve for 30 rounds\n"
     ]
    },
    {
     "name": "stderr",
     "output_type": "stream",
     "text": [
      "/opt/anaconda3/lib/python3.11/site-packages/sklearn/metrics/_regression.py:483: FutureWarning: 'squared' is deprecated in version 1.4 and will be removed in 1.6. To calculate the root mean squared error, use the function'root_mean_squared_error'.\n",
      "  warnings.warn(\n",
      "[I 2025-07-02 06:46:17,400] Trial 20 finished with value: 1.6298862665697527 and parameters: {'learning_rate': 0.14355507475453072, 'max_depth': 13, 'num_leaves': 74, 'min_data_in_leaf': 39, 'subsample': 0.9805515936866718, 'colsample_bytree': 0.5213491611466449, 'feature_fraction': 0.5215954753254997, 'lambda_l1': 3.2267379637473415, 'lambda_l2': 1.0550304241439006}. Best is trial 13 with value: 1.6049774611115186.\n"
     ]
    },
    {
     "name": "stdout",
     "output_type": "stream",
     "text": [
      "Early stopping, best iteration is:\n",
      "[27]\tvalid's rmse: 1.62989\n",
      "Training until validation scores don't improve for 30 rounds\n",
      "Early stopping, best iteration is:\n",
      "[244]\tvalid's rmse: 1.61284\n"
     ]
    },
    {
     "name": "stderr",
     "output_type": "stream",
     "text": [
      "/opt/anaconda3/lib/python3.11/site-packages/sklearn/metrics/_regression.py:483: FutureWarning: 'squared' is deprecated in version 1.4 and will be removed in 1.6. To calculate the root mean squared error, use the function'root_mean_squared_error'.\n",
      "  warnings.warn(\n",
      "[I 2025-07-02 06:46:24,510] Trial 21 finished with value: 1.612835349330553 and parameters: {'learning_rate': 0.014902797552341668, 'max_depth': 11, 'num_leaves': 78, 'min_data_in_leaf': 25, 'subsample': 0.5776529639329376, 'colsample_bytree': 0.7378736004655956, 'feature_fraction': 0.7186821398232773, 'lambda_l1': 4.460529352578439, 'lambda_l2': 2.177093957288847}. Best is trial 13 with value: 1.6049774611115186.\n"
     ]
    },
    {
     "name": "stdout",
     "output_type": "stream",
     "text": [
      "Training until validation scores don't improve for 30 rounds\n"
     ]
    },
    {
     "name": "stderr",
     "output_type": "stream",
     "text": [
      "/opt/anaconda3/lib/python3.11/site-packages/sklearn/metrics/_regression.py:483: FutureWarning: 'squared' is deprecated in version 1.4 and will be removed in 1.6. To calculate the root mean squared error, use the function'root_mean_squared_error'.\n",
      "  warnings.warn(\n",
      "[I 2025-07-02 06:46:27,802] Trial 22 finished with value: 1.5674162873984836 and parameters: {'learning_rate': 0.052313626095194715, 'max_depth': 9, 'num_leaves': 138, 'min_data_in_leaf': 34, 'subsample': 0.5627947593083955, 'colsample_bytree': 0.6931672757331171, 'feature_fraction': 0.7538559651101411, 'lambda_l1': 4.256038403264702, 'lambda_l2': 2.048759902237305}. Best is trial 22 with value: 1.5674162873984836.\n"
     ]
    },
    {
     "name": "stdout",
     "output_type": "stream",
     "text": [
      "Early stopping, best iteration is:\n",
      "[76]\tvalid's rmse: 1.56742\n",
      "Training until validation scores don't improve for 30 rounds\n"
     ]
    },
    {
     "name": "stderr",
     "output_type": "stream",
     "text": [
      "/opt/anaconda3/lib/python3.11/site-packages/sklearn/metrics/_regression.py:483: FutureWarning: 'squared' is deprecated in version 1.4 and will be removed in 1.6. To calculate the root mean squared error, use the function'root_mean_squared_error'.\n",
      "  warnings.warn(\n",
      "[I 2025-07-02 06:46:32,567] Trial 23 finished with value: 1.6407744151522994 and parameters: {'learning_rate': 0.03796000636228089, 'max_depth': 11, 'num_leaves': 141, 'min_data_in_leaf': 62, 'subsample': 0.6205984287631983, 'colsample_bytree': 0.6701876537038356, 'feature_fraction': 0.8030778186810199, 'lambda_l1': 3.0065665377928883, 'lambda_l2': 1.6070831172614952}. Best is trial 22 with value: 1.5674162873984836.\n"
     ]
    },
    {
     "name": "stdout",
     "output_type": "stream",
     "text": [
      "Early stopping, best iteration is:\n",
      "[131]\tvalid's rmse: 1.64077\n",
      "Training until validation scores don't improve for 30 rounds\n"
     ]
    },
    {
     "name": "stderr",
     "output_type": "stream",
     "text": [
      "/opt/anaconda3/lib/python3.11/site-packages/sklearn/metrics/_regression.py:483: FutureWarning: 'squared' is deprecated in version 1.4 and will be removed in 1.6. To calculate the root mean squared error, use the function'root_mean_squared_error'.\n",
      "  warnings.warn(\n",
      "[I 2025-07-02 06:46:36,596] Trial 24 finished with value: 1.5960993819515912 and parameters: {'learning_rate': 0.045023721405727926, 'max_depth': 13, 'num_leaves': 128, 'min_data_in_leaf': 42, 'subsample': 0.5490999024175567, 'colsample_bytree': 0.5909877153067471, 'feature_fraction': 0.7530041538117235, 'lambda_l1': 4.988982194247601, 'lambda_l2': 2.71163016527195}. Best is trial 22 with value: 1.5674162873984836.\n"
     ]
    },
    {
     "name": "stdout",
     "output_type": "stream",
     "text": [
      "Early stopping, best iteration is:\n",
      "[108]\tvalid's rmse: 1.5961\n",
      "Training until validation scores don't improve for 30 rounds\n"
     ]
    },
    {
     "name": "stderr",
     "output_type": "stream",
     "text": [
      "/opt/anaconda3/lib/python3.11/site-packages/sklearn/metrics/_regression.py:483: FutureWarning: 'squared' is deprecated in version 1.4 and will be removed in 1.6. To calculate the root mean squared error, use the function'root_mean_squared_error'.\n",
      "  warnings.warn(\n",
      "[I 2025-07-02 06:46:38,741] Trial 25 finished with value: 1.6774246814321163 and parameters: {'learning_rate': 0.107416824174656, 'max_depth': 9, 'num_leaves': 154, 'min_data_in_leaf': 87, 'subsample': 0.5485847499631983, 'colsample_bytree': 0.5898590339135175, 'feature_fraction': 0.7627829198887129, 'lambda_l1': 4.950574220571024, 'lambda_l2': 2.818579261180799}. Best is trial 22 with value: 1.5674162873984836.\n"
     ]
    },
    {
     "name": "stdout",
     "output_type": "stream",
     "text": [
      "Early stopping, best iteration is:\n",
      "[114]\tvalid's rmse: 1.67742\n",
      "Training until validation scores don't improve for 30 rounds\n"
     ]
    },
    {
     "name": "stderr",
     "output_type": "stream",
     "text": [
      "/opt/anaconda3/lib/python3.11/site-packages/sklearn/metrics/_regression.py:483: FutureWarning: 'squared' is deprecated in version 1.4 and will be removed in 1.6. To calculate the root mean squared error, use the function'root_mean_squared_error'.\n",
      "  warnings.warn(\n",
      "[I 2025-07-02 06:46:41,328] Trial 26 finished with value: 1.594638444643831 and parameters: {'learning_rate': 0.05936212191757422, 'max_depth': 9, 'num_leaves': 126, 'min_data_in_leaf': 39, 'subsample': 0.6373669492813345, 'colsample_bytree': 0.6225254912156651, 'feature_fraction': 0.8313560716702129, 'lambda_l1': 4.4825898480432205, 'lambda_l2': 1.172399938278696}. Best is trial 22 with value: 1.5674162873984836.\n"
     ]
    },
    {
     "name": "stdout",
     "output_type": "stream",
     "text": [
      "Early stopping, best iteration is:\n",
      "[69]\tvalid's rmse: 1.59464\n",
      "Training until validation scores don't improve for 30 rounds\n"
     ]
    },
    {
     "name": "stderr",
     "output_type": "stream",
     "text": [
      "/opt/anaconda3/lib/python3.11/site-packages/sklearn/metrics/_regression.py:483: FutureWarning: 'squared' is deprecated in version 1.4 and will be removed in 1.6. To calculate the root mean squared error, use the function'root_mean_squared_error'.\n",
      "  warnings.warn(\n",
      "[I 2025-07-02 06:46:44,939] Trial 27 finished with value: 1.6469684440540135 and parameters: {'learning_rate': 0.05125302298464813, 'max_depth': 12, 'num_leaves': 201, 'min_data_in_leaf': 60, 'subsample': 0.6401980598431465, 'colsample_bytree': 0.5921056275259203, 'feature_fraction': 0.829118988147725, 'lambda_l1': 4.561100067354446, 'lambda_l2': 1.1611912879680617}. Best is trial 22 with value: 1.5674162873984836.\n"
     ]
    },
    {
     "name": "stdout",
     "output_type": "stream",
     "text": [
      "Early stopping, best iteration is:\n",
      "[91]\tvalid's rmse: 1.64697\n",
      "Training until validation scores don't improve for 30 rounds\n"
     ]
    },
    {
     "name": "stderr",
     "output_type": "stream",
     "text": [
      "/opt/anaconda3/lib/python3.11/site-packages/sklearn/metrics/_regression.py:483: FutureWarning: 'squared' is deprecated in version 1.4 and will be removed in 1.6. To calculate the root mean squared error, use the function'root_mean_squared_error'.\n",
      "  warnings.warn(\n",
      "[I 2025-07-02 06:46:48,499] Trial 28 finished with value: 1.6955785836002455 and parameters: {'learning_rate': 0.0753224845583574, 'max_depth': 14, 'num_leaves': 133, 'min_data_in_leaf': 83, 'subsample': 0.527597247286585, 'colsample_bytree': 0.5482322358349782, 'feature_fraction': 0.910818686110138, 'lambda_l1': 4.293683467795999, 'lambda_l2': 2.012448617035307}. Best is trial 22 with value: 1.5674162873984836.\n"
     ]
    },
    {
     "name": "stdout",
     "output_type": "stream",
     "text": [
      "Early stopping, best iteration is:\n",
      "[127]\tvalid's rmse: 1.69558\n",
      "Training until validation scores don't improve for 30 rounds\n"
     ]
    },
    {
     "name": "stderr",
     "output_type": "stream",
     "text": [
      "/opt/anaconda3/lib/python3.11/site-packages/sklearn/metrics/_regression.py:483: FutureWarning: 'squared' is deprecated in version 1.4 and will be removed in 1.6. To calculate the root mean squared error, use the function'root_mean_squared_error'.\n",
      "  warnings.warn(\n",
      "[I 2025-07-02 06:46:52,548] Trial 29 finished with value: 1.6135711085345745 and parameters: {'learning_rate': 0.03796294436363287, 'max_depth': 10, 'num_leaves': 157, 'min_data_in_leaf': 39, 'subsample': 0.7231373159173508, 'colsample_bytree': 0.6331045350183636, 'feature_fraction': 0.8266389404273083, 'lambda_l1': 2.222965710428373, 'lambda_l2': 0.02497389989195753}. Best is trial 22 with value: 1.5674162873984836.\n"
     ]
    },
    {
     "name": "stdout",
     "output_type": "stream",
     "text": [
      "Early stopping, best iteration is:\n",
      "[93]\tvalid's rmse: 1.61357\n",
      "📌 Mejores hiperparámetros para cluster 1:\n",
      "   learning_rate: 0.052313626095194715\n",
      "   max_depth: 9\n",
      "   num_leaves: 138\n",
      "   min_data_in_leaf: 34\n",
      "   subsample: 0.5627947593083955\n",
      "   colsample_bytree: 0.6931672757331171\n",
      "   feature_fraction: 0.7538559651101411\n",
      "   lambda_l1: 4.256038403264702\n",
      "   lambda_l2: 2.048759902237305\n",
      "   objective: regression\n",
      "   metric: rmse\n",
      "   verbose: -1\n",
      "Training until validation scores don't improve for 50 rounds\n",
      "[100]\tvalid's rmse: 1.58885\n",
      "Early stopping, best iteration is:\n",
      "[76]\tvalid's rmse: 1.56742\n",
      "✅ Modelo guardado en lightgbm_cluster_1.txt\n",
      "\n",
      "🔄 Entrenando modelo para cluster 2...\n"
     ]
    },
    {
     "name": "stderr",
     "output_type": "stream",
     "text": [
      "[I 2025-07-02 06:47:02,131] A new study created in memory with name: no-name-d226974e-6b66-4bfe-b8cb-ac328f0540a9\n"
     ]
    },
    {
     "name": "stdout",
     "output_type": "stream",
     "text": [
      "Training until validation scores don't improve for 30 rounds\n",
      "Did not meet early stopping. Best iteration is:\n",
      "[1000]\tvalid's rmse: 0.00107582\n"
     ]
    },
    {
     "name": "stderr",
     "output_type": "stream",
     "text": [
      "/opt/anaconda3/lib/python3.11/site-packages/sklearn/metrics/_regression.py:483: FutureWarning: 'squared' is deprecated in version 1.4 and will be removed in 1.6. To calculate the root mean squared error, use the function'root_mean_squared_error'.\n",
      "  warnings.warn(\n",
      "[I 2025-07-02 06:48:03,344] Trial 0 finished with value: 0.001075821574621536 and parameters: {'learning_rate': 0.02820665968776416, 'max_depth': 13, 'num_leaves': 52, 'min_data_in_leaf': 156, 'subsample': 0.5860341615959234, 'colsample_bytree': 0.8696932854585806, 'feature_fraction': 0.6509716395395326, 'lambda_l1': 2.0333140079855916, 'lambda_l2': 0.8364067550228299}. Best is trial 0 with value: 0.001075821574621536.\n"
     ]
    },
    {
     "name": "stdout",
     "output_type": "stream",
     "text": [
      "Training until validation scores don't improve for 30 rounds\n",
      "Early stopping, best iteration is:\n",
      "[268]\tvalid's rmse: 0.00106669\n"
     ]
    },
    {
     "name": "stderr",
     "output_type": "stream",
     "text": [
      "/opt/anaconda3/lib/python3.11/site-packages/sklearn/metrics/_regression.py:483: FutureWarning: 'squared' is deprecated in version 1.4 and will be removed in 1.6. To calculate the root mean squared error, use the function'root_mean_squared_error'.\n",
      "  warnings.warn(\n",
      "[I 2025-07-02 06:48:14,707] Trial 1 finished with value: 0.0010666862595375911 and parameters: {'learning_rate': 0.2916051030509659, 'max_depth': 12, 'num_leaves': 150, 'min_data_in_leaf': 186, 'subsample': 0.9551367534412163, 'colsample_bytree': 0.8275328485627416, 'feature_fraction': 0.7561967689833127, 'lambda_l1': 1.6084075839296168, 'lambda_l2': 0.30510045065762104}. Best is trial 1 with value: 0.0010666862595375911.\n"
     ]
    },
    {
     "name": "stdout",
     "output_type": "stream",
     "text": [
      "Training until validation scores don't improve for 30 rounds\n",
      "Did not meet early stopping. Best iteration is:\n",
      "[1000]\tvalid's rmse: 0.00128355\n"
     ]
    },
    {
     "name": "stderr",
     "output_type": "stream",
     "text": [
      "/opt/anaconda3/lib/python3.11/site-packages/sklearn/metrics/_regression.py:483: FutureWarning: 'squared' is deprecated in version 1.4 and will be removed in 1.6. To calculate the root mean squared error, use the function'root_mean_squared_error'.\n",
      "  warnings.warn(\n",
      "[I 2025-07-02 06:48:49,288] Trial 2 finished with value: 0.0012835485553402929 and parameters: {'learning_rate': 0.04140434205050761, 'max_depth': 14, 'num_leaves': 93, 'min_data_in_leaf': 164, 'subsample': 0.7688596117282588, 'colsample_bytree': 0.7416929692725304, 'feature_fraction': 0.9180239373065184, 'lambda_l1': 4.283140785724981, 'lambda_l2': 1.3489584960395518}. Best is trial 1 with value: 0.0010666862595375911.\n",
      "[LightGBM] [Fatal] Reducing `min_data_in_leaf` with `feature_pre_filter=true` may cause unexpected behaviour for features that were pre-filtered by the larger `min_data_in_leaf`.\n",
      "You need to set `feature_pre_filter=false` to dynamically change the `min_data_in_leaf`.\n",
      "[LightGBM] [Fatal] Reducing `min_data_in_leaf` with `feature_pre_filter=true` may cause unexpected behaviour for features that were pre-filtered by the larger `min_data_in_leaf`.\n",
      "You need to set `feature_pre_filter=false` to dynamically change the `min_data_in_leaf`.\n"
     ]
    },
    {
     "name": "stdout",
     "output_type": "stream",
     "text": [
      "Training until validation scores don't improve for 30 rounds\n",
      "Early stopping, best iteration is:\n",
      "[876]\tvalid's rmse: 0.00130874\n"
     ]
    },
    {
     "name": "stderr",
     "output_type": "stream",
     "text": [
      "/opt/anaconda3/lib/python3.11/site-packages/sklearn/metrics/_regression.py:483: FutureWarning: 'squared' is deprecated in version 1.4 and will be removed in 1.6. To calculate the root mean squared error, use the function'root_mean_squared_error'.\n",
      "  warnings.warn(\n",
      "[I 2025-07-02 06:49:19,818] Trial 3 finished with value: 0.0013087359673451824 and parameters: {'learning_rate': 0.05581379696655642, 'max_depth': 11, 'num_leaves': 112, 'min_data_in_leaf': 126, 'subsample': 0.7645561046973586, 'colsample_bytree': 0.9917242729639622, 'feature_fraction': 0.8476636635807346, 'lambda_l1': 4.605236864295482, 'lambda_l2': 2.2903989457960874}. Best is trial 1 with value: 0.0010666862595375911.\n",
      "[LightGBM] [Fatal] Reducing `min_data_in_leaf` with `feature_pre_filter=true` may cause unexpected behaviour for features that were pre-filtered by the larger `min_data_in_leaf`.\n",
      "You need to set `feature_pre_filter=false` to dynamically change the `min_data_in_leaf`.\n",
      "[LightGBM] [Fatal] Reducing `min_data_in_leaf` with `feature_pre_filter=true` may cause unexpected behaviour for features that were pre-filtered by the larger `min_data_in_leaf`.\n",
      "You need to set `feature_pre_filter=false` to dynamically change the `min_data_in_leaf`.\n"
     ]
    },
    {
     "name": "stdout",
     "output_type": "stream",
     "text": [
      "Training until validation scores don't improve for 30 rounds\n",
      "Early stopping, best iteration is:\n",
      "[163]\tvalid's rmse: 0.00123166\n"
     ]
    },
    {
     "name": "stderr",
     "output_type": "stream",
     "text": [
      "/opt/anaconda3/lib/python3.11/site-packages/sklearn/metrics/_regression.py:483: FutureWarning: 'squared' is deprecated in version 1.4 and will be removed in 1.6. To calculate the root mean squared error, use the function'root_mean_squared_error'.\n",
      "  warnings.warn(\n",
      "[I 2025-07-02 06:49:29,991] Trial 4 finished with value: 0.0012316565719322477 and parameters: {'learning_rate': 0.2097746646116552, 'max_depth': 14, 'num_leaves': 249, 'min_data_in_leaf': 56, 'subsample': 0.504882947867408, 'colsample_bytree': 0.5986576618263899, 'feature_fraction': 0.8743718249391891, 'lambda_l1': 3.4105458719531963, 'lambda_l2': 4.659919065453045}. Best is trial 1 with value: 0.0010666862595375911.\n",
      "[LightGBM] [Fatal] Reducing `min_data_in_leaf` with `feature_pre_filter=true` may cause unexpected behaviour for features that were pre-filtered by the larger `min_data_in_leaf`.\n",
      "You need to set `feature_pre_filter=false` to dynamically change the `min_data_in_leaf`.\n",
      "[LightGBM] [Fatal] Reducing `min_data_in_leaf` with `feature_pre_filter=true` may cause unexpected behaviour for features that were pre-filtered by the larger `min_data_in_leaf`.\n",
      "You need to set `feature_pre_filter=false` to dynamically change the `min_data_in_leaf`.\n"
     ]
    },
    {
     "name": "stdout",
     "output_type": "stream",
     "text": [
      "Training until validation scores don't improve for 30 rounds\n",
      "Early stopping, best iteration is:\n",
      "[372]\tvalid's rmse: 0.00112852\n"
     ]
    },
    {
     "name": "stderr",
     "output_type": "stream",
     "text": [
      "/opt/anaconda3/lib/python3.11/site-packages/sklearn/metrics/_regression.py:483: FutureWarning: 'squared' is deprecated in version 1.4 and will be removed in 1.6. To calculate the root mean squared error, use the function'root_mean_squared_error'.\n",
      "  warnings.warn(\n",
      "[I 2025-07-02 06:50:02,280] Trial 5 finished with value: 0.0011285213828378274 and parameters: {'learning_rate': 0.08444634810972929, 'max_depth': 14, 'num_leaves': 21, 'min_data_in_leaf': 40, 'subsample': 0.6901811116404843, 'colsample_bytree': 0.7221723521720507, 'feature_fraction': 0.5844330407937377, 'lambda_l1': 3.109336481137302, 'lambda_l2': 4.019753138844266}. Best is trial 1 with value: 0.0010666862595375911.\n"
     ]
    },
    {
     "name": "stdout",
     "output_type": "stream",
     "text": [
      "Training until validation scores don't improve for 30 rounds\n",
      "Early stopping, best iteration is:\n",
      "[180]\tvalid's rmse: 0.00128177\n"
     ]
    },
    {
     "name": "stderr",
     "output_type": "stream",
     "text": [
      "/opt/anaconda3/lib/python3.11/site-packages/sklearn/metrics/_regression.py:483: FutureWarning: 'squared' is deprecated in version 1.4 and will be removed in 1.6. To calculate the root mean squared error, use the function'root_mean_squared_error'.\n",
      "  warnings.warn(\n",
      "[I 2025-07-02 06:50:10,102] Trial 6 finished with value: 0.0012817657636323943 and parameters: {'learning_rate': 0.1504360186816314, 'max_depth': 11, 'num_leaves': 234, 'min_data_in_leaf': 89, 'subsample': 0.998664266055389, 'colsample_bytree': 0.7442015784063972, 'feature_fraction': 0.8025053752706852, 'lambda_l1': 4.310943701450178, 'lambda_l2': 2.6847835185398834}. Best is trial 1 with value: 0.0010666862595375911.\n"
     ]
    },
    {
     "name": "stdout",
     "output_type": "stream",
     "text": [
      "Training until validation scores don't improve for 30 rounds\n",
      "Did not meet early stopping. Best iteration is:\n",
      "[1000]\tvalid's rmse: 0.00128312\n"
     ]
    },
    {
     "name": "stderr",
     "output_type": "stream",
     "text": [
      "/opt/anaconda3/lib/python3.11/site-packages/sklearn/metrics/_regression.py:483: FutureWarning: 'squared' is deprecated in version 1.4 and will be removed in 1.6. To calculate the root mean squared error, use the function'root_mean_squared_error'.\n",
      "  warnings.warn(\n",
      "[I 2025-07-02 06:51:01,137] Trial 7 finished with value: 0.0012831228054407818 and parameters: {'learning_rate': 0.010616251478960212, 'max_depth': 16, 'num_leaves': 24, 'min_data_in_leaf': 101, 'subsample': 0.6581465390317385, 'colsample_bytree': 0.8571543629630991, 'feature_fraction': 0.838773909018144, 'lambda_l1': 2.8240818829786694, 'lambda_l2': 0.8453699228932865}. Best is trial 1 with value: 0.0010666862595375911.\n"
     ]
    },
    {
     "name": "stdout",
     "output_type": "stream",
     "text": [
      "Training until validation scores don't improve for 30 rounds\n",
      "Early stopping, best iteration is:\n",
      "[822]\tvalid's rmse: 0.000943299\n"
     ]
    },
    {
     "name": "stderr",
     "output_type": "stream",
     "text": [
      "/opt/anaconda3/lib/python3.11/site-packages/sklearn/metrics/_regression.py:483: FutureWarning: 'squared' is deprecated in version 1.4 and will be removed in 1.6. To calculate the root mean squared error, use the function'root_mean_squared_error'.\n",
      "  warnings.warn(\n",
      "[I 2025-07-02 06:52:27,637] Trial 8 finished with value: 0.0009432990860592589 and parameters: {'learning_rate': 0.18706641081394385, 'max_depth': 8, 'num_leaves': 128, 'min_data_in_leaf': 188, 'subsample': 0.5433361367509681, 'colsample_bytree': 0.5821916822710633, 'feature_fraction': 0.5246040361498778, 'lambda_l1': 0.32258030664302717, 'lambda_l2': 1.9600455633355067}. Best is trial 8 with value: 0.0009432990860592589.\n"
     ]
    },
    {
     "name": "stdout",
     "output_type": "stream",
     "text": [
      "Training until validation scores don't improve for 30 rounds\n",
      "Early stopping, best iteration is:\n",
      "[928]\tvalid's rmse: 0.00105422\n"
     ]
    },
    {
     "name": "stderr",
     "output_type": "stream",
     "text": [
      "/opt/anaconda3/lib/python3.11/site-packages/sklearn/metrics/_regression.py:483: FutureWarning: 'squared' is deprecated in version 1.4 and will be removed in 1.6. To calculate the root mean squared error, use the function'root_mean_squared_error'.\n",
      "  warnings.warn(\n",
      "[I 2025-07-02 06:53:12,890] Trial 9 finished with value: 0.0010542199449462266 and parameters: {'learning_rate': 0.03310475981247823, 'max_depth': 8, 'num_leaves': 102, 'min_data_in_leaf': 51, 'subsample': 0.5540054450660543, 'colsample_bytree': 0.9204691726291567, 'feature_fraction': 0.7605614762356342, 'lambda_l1': 2.3229151295459944, 'lambda_l2': 2.901305162270896}. Best is trial 8 with value: 0.0009432990860592589.\n"
     ]
    },
    {
     "name": "stdout",
     "output_type": "stream",
     "text": [
      "Training until validation scores don't improve for 30 rounds\n",
      "Did not meet early stopping. Best iteration is:\n",
      "[997]\tvalid's rmse: 0.000935373\n"
     ]
    },
    {
     "name": "stderr",
     "output_type": "stream",
     "text": [
      "/opt/anaconda3/lib/python3.11/site-packages/sklearn/metrics/_regression.py:483: FutureWarning: 'squared' is deprecated in version 1.4 and will be removed in 1.6. To calculate the root mean squared error, use the function'root_mean_squared_error'.\n",
      "  warnings.warn(\n",
      "[I 2025-07-02 06:54:55,662] Trial 10 finished with value: 0.0009353733878747522 and parameters: {'learning_rate': 0.2018919545270772, 'max_depth': 6, 'num_leaves': 189, 'min_data_in_leaf': 199, 'subsample': 0.8617148721630525, 'colsample_bytree': 0.5045111292549148, 'feature_fraction': 0.5069271547413672, 'lambda_l1': 0.21373327323385827, 'lambda_l2': 1.766294285338563}. Best is trial 10 with value: 0.0009353733878747522.\n"
     ]
    },
    {
     "name": "stdout",
     "output_type": "stream",
     "text": [
      "Training until validation scores don't improve for 30 rounds\n",
      "Did not meet early stopping. Best iteration is:\n",
      "[1000]\tvalid's rmse: 0.000944983\n"
     ]
    },
    {
     "name": "stderr",
     "output_type": "stream",
     "text": [
      "/opt/anaconda3/lib/python3.11/site-packages/sklearn/metrics/_regression.py:483: FutureWarning: 'squared' is deprecated in version 1.4 and will be removed in 1.6. To calculate the root mean squared error, use the function'root_mean_squared_error'.\n",
      "  warnings.warn(\n",
      "[I 2025-07-02 06:56:34,603] Trial 11 finished with value: 0.0009449825555510091 and parameters: {'learning_rate': 0.20446731724607695, 'max_depth': 7, 'num_leaves': 178, 'min_data_in_leaf': 195, 'subsample': 0.8814643547904304, 'colsample_bytree': 0.5087292612059268, 'feature_fraction': 0.5216903478430008, 'lambda_l1': 0.030403765431114116, 'lambda_l2': 1.8302081416319937}. Best is trial 10 with value: 0.0009353733878747522.\n"
     ]
    },
    {
     "name": "stdout",
     "output_type": "stream",
     "text": [
      "Training until validation scores don't improve for 30 rounds\n",
      "Did not meet early stopping. Best iteration is:\n",
      "[1000]\tvalid's rmse: 0.000881001\n"
     ]
    },
    {
     "name": "stderr",
     "output_type": "stream",
     "text": [
      "/opt/anaconda3/lib/python3.11/site-packages/sklearn/metrics/_regression.py:483: FutureWarning: 'squared' is deprecated in version 1.4 and will be removed in 1.6. To calculate the root mean squared error, use the function'root_mean_squared_error'.\n",
      "  warnings.warn(\n",
      "[I 2025-07-02 07:00:42,989] Trial 12 finished with value: 0.0008810006302722384 and parameters: {'learning_rate': 0.16596176050385034, 'max_depth': 6, 'num_leaves': 193, 'min_data_in_leaf': 149, 'subsample': 0.8390755417189721, 'colsample_bytree': 0.5176517655083753, 'feature_fraction': 0.5025462363661845, 'lambda_l1': 0.17038016779577422, 'lambda_l2': 3.0234905820847473}. Best is trial 12 with value: 0.0008810006302722384.\n"
     ]
    },
    {
     "name": "stdout",
     "output_type": "stream",
     "text": [
      "Training until validation scores don't improve for 30 rounds\n",
      "Early stopping, best iteration is:\n",
      "[494]\tvalid's rmse: 0.000940831\n"
     ]
    },
    {
     "name": "stderr",
     "output_type": "stream",
     "text": [
      "/opt/anaconda3/lib/python3.11/site-packages/sklearn/metrics/_regression.py:483: FutureWarning: 'squared' is deprecated in version 1.4 and will be removed in 1.6. To calculate the root mean squared error, use the function'root_mean_squared_error'.\n",
      "  warnings.warn(\n",
      "[I 2025-07-02 07:16:19,554] Trial 13 finished with value: 0.0009408311602290768 and parameters: {'learning_rate': 0.13543465220797515, 'max_depth': 6, 'num_leaves': 201, 'min_data_in_leaf': 139, 'subsample': 0.854838739419168, 'colsample_bytree': 0.5009059586733061, 'feature_fraction': 0.661246524303675, 'lambda_l1': 0.9612369742301341, 'lambda_l2': 3.2643035497413706}. Best is trial 12 with value: 0.0008810006302722384.\n"
     ]
    },
    {
     "name": "stdout",
     "output_type": "stream",
     "text": [
      "Training until validation scores don't improve for 30 rounds\n",
      "Early stopping, best iteration is:\n",
      "[343]\tvalid's rmse: 0.000983601\n"
     ]
    },
    {
     "name": "stderr",
     "output_type": "stream",
     "text": [
      "/opt/anaconda3/lib/python3.11/site-packages/sklearn/metrics/_regression.py:483: FutureWarning: 'squared' is deprecated in version 1.4 and will be removed in 1.6. To calculate the root mean squared error, use the function'root_mean_squared_error'.\n",
      "  warnings.warn(\n",
      "[I 2025-07-02 07:16:38,420] Trial 14 finished with value: 0.0009836005741341177 and parameters: {'learning_rate': 0.2597635856269429, 'max_depth': 9, 'num_leaves': 201, 'min_data_in_leaf': 163, 'subsample': 0.8428116646517911, 'colsample_bytree': 0.6300230960999121, 'feature_fraction': 0.9868685051252484, 'lambda_l1': 0.9363369637574687, 'lambda_l2': 3.751816077056664}. Best is trial 12 with value: 0.0008810006302722384.\n"
     ]
    },
    {
     "name": "stdout",
     "output_type": "stream",
     "text": [
      "Training until validation scores don't improve for 30 rounds\n",
      "Early stopping, best iteration is:\n",
      "[574]\tvalid's rmse: 0.000953459\n"
     ]
    },
    {
     "name": "stderr",
     "output_type": "stream",
     "text": [
      "/opt/anaconda3/lib/python3.11/site-packages/sklearn/metrics/_regression.py:483: FutureWarning: 'squared' is deprecated in version 1.4 and will be removed in 1.6. To calculate the root mean squared error, use the function'root_mean_squared_error'.\n",
      "  warnings.warn(\n",
      "[I 2025-07-02 07:30:45,507] Trial 15 finished with value: 0.000953459427802581 and parameters: {'learning_rate': 0.10804833428598959, 'max_depth': 6, 'num_leaves': 166, 'min_data_in_leaf': 129, 'subsample': 0.9041104514145288, 'colsample_bytree': 0.6647215770275805, 'feature_fraction': 0.6341317804864312, 'lambda_l1': 0.9338885497995179, 'lambda_l2': 3.4981175449328954}. Best is trial 12 with value: 0.0008810006302722384.\n"
     ]
    },
    {
     "name": "stdout",
     "output_type": "stream",
     "text": [
      "Training until validation scores don't improve for 30 rounds\n",
      "Early stopping, best iteration is:\n",
      "[543]\tvalid's rmse: 0.000977967\n"
     ]
    },
    {
     "name": "stderr",
     "output_type": "stream",
     "text": [
      "/opt/anaconda3/lib/python3.11/site-packages/sklearn/metrics/_regression.py:483: FutureWarning: 'squared' is deprecated in version 1.4 and will be removed in 1.6. To calculate the root mean squared error, use the function'root_mean_squared_error'.\n",
      "  warnings.warn(\n",
      "[I 2025-07-02 07:40:20,544] Trial 16 finished with value: 0.0009779670556753367 and parameters: {'learning_rate': 0.2357109823640673, 'max_depth': 9, 'num_leaves': 217, 'min_data_in_leaf': 200, 'subsample': 0.8163546675261278, 'colsample_bytree': 0.5496561652381636, 'feature_fraction': 0.5008386417562597, 'lambda_l1': 0.5195344310836444, 'lambda_l2': 4.954278349293856}. Best is trial 12 with value: 0.0008810006302722384.\n"
     ]
    },
    {
     "name": "stdout",
     "output_type": "stream",
     "text": [
      "Training until validation scores don't improve for 30 rounds\n",
      "Early stopping, best iteration is:\n",
      "[224]\tvalid's rmse: 0.00104254\n"
     ]
    },
    {
     "name": "stderr",
     "output_type": "stream",
     "text": [
      "/opt/anaconda3/lib/python3.11/site-packages/sklearn/metrics/_regression.py:483: FutureWarning: 'squared' is deprecated in version 1.4 and will be removed in 1.6. To calculate the root mean squared error, use the function'root_mean_squared_error'.\n",
      "  warnings.warn(\n",
      "[I 2025-07-02 07:49:00,465] Trial 17 finished with value: 0.0010425406833340868 and parameters: {'learning_rate': 0.1788679923827118, 'max_depth': 6, 'num_leaves': 172, 'min_data_in_leaf': 76, 'subsample': 0.9344377723519826, 'colsample_bytree': 0.6700719626261962, 'feature_fraction': 0.5919905359824724, 'lambda_l1': 1.5377510998259878, 'lambda_l2': 1.45896137209421}. Best is trial 12 with value: 0.0008810006302722384.\n",
      "[LightGBM] [Fatal] Reducing `min_data_in_leaf` with `feature_pre_filter=true` may cause unexpected behaviour for features that were pre-filtered by the larger `min_data_in_leaf`.\n",
      "You need to set `feature_pre_filter=false` to dynamically change the `min_data_in_leaf`.\n",
      "[LightGBM] [Fatal] Reducing `min_data_in_leaf` with `feature_pre_filter=true` may cause unexpected behaviour for features that were pre-filtered by the larger `min_data_in_leaf`.\n",
      "You need to set `feature_pre_filter=false` to dynamically change the `min_data_in_leaf`.\n"
     ]
    },
    {
     "name": "stdout",
     "output_type": "stream",
     "text": [
      "Training until validation scores don't improve for 30 rounds\n",
      "Early stopping, best iteration is:\n",
      "[270]\tvalid's rmse: 0.00100766\n"
     ]
    },
    {
     "name": "stderr",
     "output_type": "stream",
     "text": [
      "/opt/anaconda3/lib/python3.11/site-packages/sklearn/metrics/_regression.py:483: FutureWarning: 'squared' is deprecated in version 1.4 and will be removed in 1.6. To calculate the root mean squared error, use the function'root_mean_squared_error'.\n",
      "  warnings.warn(\n",
      "[I 2025-07-02 07:49:21,813] Trial 18 finished with value: 0.0010076572330524032 and parameters: {'learning_rate': 0.12328607073807556, 'max_depth': 9, 'num_leaves': 195, 'min_data_in_leaf': 22, 'subsample': 0.6915168864978164, 'colsample_bytree': 0.546516908136151, 'feature_fraction': 0.698095761109181, 'lambda_l1': 1.5642431850812828, 'lambda_l2': 2.482339013822783}. Best is trial 12 with value: 0.0008810006302722384.\n"
     ]
    },
    {
     "name": "stdout",
     "output_type": "stream",
     "text": [
      "Training until validation scores don't improve for 30 rounds\n",
      "Did not meet early stopping. Best iteration is:\n",
      "[996]\tvalid's rmse: 0.00081433\n"
     ]
    },
    {
     "name": "stderr",
     "output_type": "stream",
     "text": [
      "/opt/anaconda3/lib/python3.11/site-packages/sklearn/metrics/_regression.py:483: FutureWarning: 'squared' is deprecated in version 1.4 and will be removed in 1.6. To calculate the root mean squared error, use the function'root_mean_squared_error'.\n",
      "  warnings.warn(\n",
      "[I 2025-07-02 08:00:43,319] Trial 19 finished with value: 0.0008143303741904659 and parameters: {'learning_rate': 0.16237766793488959, 'max_depth': 7, 'num_leaves': 149, 'min_data_in_leaf': 143, 'subsample': 0.8175331574137112, 'colsample_bytree': 0.6476805463388835, 'feature_fraction': 0.5760015632851314, 'lambda_l1': 0.019422992450400134, 'lambda_l2': 4.12904693784675}. Best is trial 19 with value: 0.0008143303741904659.\n"
     ]
    },
    {
     "name": "stdout",
     "output_type": "stream",
     "text": [
      "Training until validation scores don't improve for 30 rounds\n",
      "Early stopping, best iteration is:\n",
      "[491]\tvalid's rmse: 0.000911779\n"
     ]
    },
    {
     "name": "stderr",
     "output_type": "stream",
     "text": [
      "/opt/anaconda3/lib/python3.11/site-packages/sklearn/metrics/_regression.py:483: FutureWarning: 'squared' is deprecated in version 1.4 and will be removed in 1.6. To calculate the root mean squared error, use the function'root_mean_squared_error'.\n",
      "  warnings.warn(\n",
      "[I 2025-07-02 08:03:38,779] Trial 20 finished with value: 0.0009117785619528189 and parameters: {'learning_rate': 0.1632759211859105, 'max_depth': 10, 'num_leaves': 144, 'min_data_in_leaf': 140, 'subsample': 0.734708822791806, 'colsample_bytree': 0.6849915037653064, 'feature_fraction': 0.5781738316071195, 'lambda_l1': 0.7264664567049485, 'lambda_l2': 4.2539942937849995}. Best is trial 19 with value: 0.0008143303741904659.\n"
     ]
    },
    {
     "name": "stdout",
     "output_type": "stream",
     "text": [
      "Training until validation scores don't improve for 30 rounds\n",
      "Early stopping, best iteration is:\n",
      "[534]\tvalid's rmse: 0.000914087\n"
     ]
    },
    {
     "name": "stderr",
     "output_type": "stream",
     "text": [
      "/opt/anaconda3/lib/python3.11/site-packages/sklearn/metrics/_regression.py:483: FutureWarning: 'squared' is deprecated in version 1.4 and will be removed in 1.6. To calculate the root mean squared error, use the function'root_mean_squared_error'.\n",
      "  warnings.warn(\n",
      "[I 2025-07-02 08:06:17,001] Trial 21 finished with value: 0.000914086529860624 and parameters: {'learning_rate': 0.16408979946347582, 'max_depth': 8, 'num_leaves': 141, 'min_data_in_leaf': 143, 'subsample': 0.7972365765556894, 'colsample_bytree': 0.6740861828623255, 'feature_fraction': 0.5715850206762523, 'lambda_l1': 0.6728778059130355, 'lambda_l2': 4.307554316774025}. Best is trial 19 with value: 0.0008143303741904659.\n"
     ]
    },
    {
     "name": "stdout",
     "output_type": "stream",
     "text": [
      "Training until validation scores don't improve for 30 rounds\n",
      "Did not meet early stopping. Best iteration is:\n",
      "[1000]\tvalid's rmse: 0.000840565\n"
     ]
    },
    {
     "name": "stderr",
     "output_type": "stream",
     "text": [
      "/opt/anaconda3/lib/python3.11/site-packages/sklearn/metrics/_regression.py:483: FutureWarning: 'squared' is deprecated in version 1.4 and will be removed in 1.6. To calculate the root mean squared error, use the function'root_mean_squared_error'.\n",
      "  warnings.warn(\n",
      "[I 2025-07-02 08:11:18,239] Trial 22 finished with value: 0.000840565206213079 and parameters: {'learning_rate': 0.09698122627944938, 'max_depth': 7, 'num_leaves': 75, 'min_data_in_leaf': 110, 'subsample': 0.7242057918739571, 'colsample_bytree': 0.7921265668131214, 'feature_fraction': 0.5546014315273378, 'lambda_l1': 0.08998877272014782, 'lambda_l2': 4.375798629716323}. Best is trial 19 with value: 0.0008143303741904659.\n"
     ]
    },
    {
     "name": "stdout",
     "output_type": "stream",
     "text": [
      "Training until validation scores don't improve for 30 rounds\n",
      "Early stopping, best iteration is:\n",
      "[754]\tvalid's rmse: 0.000966506\n"
     ]
    },
    {
     "name": "stderr",
     "output_type": "stream",
     "text": [
      "/opt/anaconda3/lib/python3.11/site-packages/sklearn/metrics/_regression.py:483: FutureWarning: 'squared' is deprecated in version 1.4 and will be removed in 1.6. To calculate the root mean squared error, use the function'root_mean_squared_error'.\n",
      "  warnings.warn(\n",
      "[I 2025-07-02 08:11:59,257] Trial 23 finished with value: 0.0009665062586845588 and parameters: {'learning_rate': 0.08890477426264164, 'max_depth': 7, 'num_leaves': 80, 'min_data_in_leaf': 106, 'subsample': 0.6377615165409827, 'colsample_bytree': 0.7965820668353987, 'feature_fraction': 0.7041044777838118, 'lambda_l1': 1.23550405627836, 'lambda_l2': 3.2396759261881876}. Best is trial 19 with value: 0.0008143303741904659.\n"
     ]
    },
    {
     "name": "stdout",
     "output_type": "stream",
     "text": [
      "Training until validation scores don't improve for 30 rounds\n",
      "Did not meet early stopping. Best iteration is:\n",
      "[1000]\tvalid's rmse: 0.000830795\n"
     ]
    },
    {
     "name": "stderr",
     "output_type": "stream",
     "text": [
      "/opt/anaconda3/lib/python3.11/site-packages/sklearn/metrics/_regression.py:483: FutureWarning: 'squared' is deprecated in version 1.4 and will be removed in 1.6. To calculate the root mean squared error, use the function'root_mean_squared_error'.\n",
      "  warnings.warn(\n",
      "[I 2025-07-02 08:13:36,676] Trial 24 finished with value: 0.0008307945210536924 and parameters: {'learning_rate': 0.07833623471087307, 'max_depth': 7, 'num_leaves': 52, 'min_data_in_leaf': 119, 'subsample': 0.7123712358921134, 'colsample_bytree': 0.812276737468684, 'feature_fraction': 0.5410904636448912, 'lambda_l1': 0.07385920983527824, 'lambda_l2': 3.7363751434001182}. Best is trial 19 with value: 0.0008143303741904659.\n"
     ]
    },
    {
     "name": "stdout",
     "output_type": "stream",
     "text": [
      "Training until validation scores don't improve for 30 rounds\n",
      "Did not meet early stopping. Best iteration is:\n",
      "[1000]\tvalid's rmse: 0.000842125\n"
     ]
    },
    {
     "name": "stderr",
     "output_type": "stream",
     "text": [
      "/opt/anaconda3/lib/python3.11/site-packages/sklearn/metrics/_regression.py:483: FutureWarning: 'squared' is deprecated in version 1.4 and will be removed in 1.6. To calculate the root mean squared error, use the function'root_mean_squared_error'.\n",
      "  warnings.warn(\n",
      "[I 2025-07-02 08:14:54,904] Trial 25 finished with value: 0.00084212458164216 and parameters: {'learning_rate': 0.07143746658443748, 'max_depth': 7, 'num_leaves': 63, 'min_data_in_leaf': 123, 'subsample': 0.7062316493218189, 'colsample_bytree': 0.7892362534863913, 'feature_fraction': 0.6184036783812641, 'lambda_l1': 0.007266114724957279, 'lambda_l2': 4.576936032294093}. Best is trial 19 with value: 0.0008143303741904659.\n"
     ]
    },
    {
     "name": "stdout",
     "output_type": "stream",
     "text": [
      "Training until validation scores don't improve for 30 rounds\n",
      "Early stopping, best iteration is:\n",
      "[679]\tvalid's rmse: 0.000868749\n"
     ]
    },
    {
     "name": "stderr",
     "output_type": "stream",
     "text": [
      "/opt/anaconda3/lib/python3.11/site-packages/sklearn/metrics/_regression.py:483: FutureWarning: 'squared' is deprecated in version 1.4 and will be removed in 1.6. To calculate the root mean squared error, use the function'root_mean_squared_error'.\n",
      "  warnings.warn(\n",
      "[I 2025-07-02 08:16:07,981] Trial 26 finished with value: 0.0008687493792129744 and parameters: {'learning_rate': 0.10877820443446165, 'max_depth': 10, 'num_leaves': 46, 'min_data_in_leaf': 83, 'subsample': 0.639598807854029, 'colsample_bytree': 0.9116874514439466, 'feature_fraction': 0.5493244125726231, 'lambda_l1': 0.4762893918857069, 'lambda_l2': 3.70747671225482}. Best is trial 19 with value: 0.0008143303741904659.\n"
     ]
    },
    {
     "name": "stdout",
     "output_type": "stream",
     "text": [
      "Training until validation scores don't improve for 30 rounds\n",
      "Early stopping, best iteration is:\n",
      "[379]\tvalid's rmse: 0.00096987\n"
     ]
    },
    {
     "name": "stderr",
     "output_type": "stream",
     "text": [
      "/opt/anaconda3/lib/python3.11/site-packages/sklearn/metrics/_regression.py:483: FutureWarning: 'squared' is deprecated in version 1.4 and will be removed in 1.6. To calculate the root mean squared error, use the function'root_mean_squared_error'.\n",
      "  warnings.warn(\n",
      "[I 2025-07-02 08:16:35,690] Trial 27 finished with value: 0.0009698700133050709 and parameters: {'learning_rate': 0.12839059942835454, 'max_depth': 7, 'num_leaves': 72, 'min_data_in_leaf': 114, 'subsample': 0.7423236646276409, 'colsample_bytree': 0.7913497238116962, 'feature_fraction': 0.6948646314673694, 'lambda_l1': 1.1566654716526714, 'lambda_l2': 3.956922184552777}. Best is trial 19 with value: 0.0008143303741904659.\n"
     ]
    },
    {
     "name": "stdout",
     "output_type": "stream",
     "text": [
      "Training until validation scores don't improve for 30 rounds\n",
      "Early stopping, best iteration is:\n",
      "[393]\tvalid's rmse: 0.00103978\n"
     ]
    },
    {
     "name": "stderr",
     "output_type": "stream",
     "text": [
      "/opt/anaconda3/lib/python3.11/site-packages/sklearn/metrics/_regression.py:483: FutureWarning: 'squared' is deprecated in version 1.4 and will be removed in 1.6. To calculate the root mean squared error, use the function'root_mean_squared_error'.\n",
      "  warnings.warn(\n",
      "[I 2025-07-02 08:17:16,064] Trial 28 finished with value: 0.001039777843028314 and parameters: {'learning_rate': 0.10059176680420967, 'max_depth': 8, 'num_leaves': 38, 'min_data_in_leaf': 95, 'subsample': 0.7793090329928015, 'colsample_bytree': 0.7046195372352585, 'feature_fraction': 0.5476110495135794, 'lambda_l1': 1.9712476902315164, 'lambda_l2': 4.8413274812700395}. Best is trial 19 with value: 0.0008143303741904659.\n"
     ]
    },
    {
     "name": "stdout",
     "output_type": "stream",
     "text": [
      "Training until validation scores don't improve for 30 rounds\n",
      "Early stopping, best iteration is:\n",
      "[483]\tvalid's rmse: 0.00121823\n"
     ]
    },
    {
     "name": "stderr",
     "output_type": "stream",
     "text": [
      "/opt/anaconda3/lib/python3.11/site-packages/sklearn/metrics/_regression.py:483: FutureWarning: 'squared' is deprecated in version 1.4 and will be removed in 1.6. To calculate the root mean squared error, use the function'root_mean_squared_error'.\n",
      "  warnings.warn(\n",
      "[I 2025-07-02 08:17:51,390] Trial 29 finished with value: 0.0012182261831587306 and parameters: {'learning_rate': 0.06985981476705659, 'max_depth': 10, 'num_leaves': 116, 'min_data_in_leaf': 176, 'subsample': 0.5948076878219057, 'colsample_bytree': 0.8617366805953673, 'feature_fraction': 0.6590697593646382, 'lambda_l1': 3.7575137292718463, 'lambda_l2': 4.326231649998491}. Best is trial 19 with value: 0.0008143303741904659.\n"
     ]
    },
    {
     "name": "stdout",
     "output_type": "stream",
     "text": [
      "📌 Mejores hiperparámetros para cluster 2:\n",
      "   learning_rate: 0.16237766793488959\n",
      "   max_depth: 7\n",
      "   num_leaves: 149\n",
      "   min_data_in_leaf: 143\n",
      "   subsample: 0.8175331574137112\n",
      "   colsample_bytree: 0.6476805463388835\n",
      "   feature_fraction: 0.5760015632851314\n",
      "   lambda_l1: 0.019422992450400134\n",
      "   lambda_l2: 4.12904693784675\n",
      "   objective: regression\n",
      "   metric: rmse\n",
      "   verbose: -1\n",
      "Training until validation scores don't improve for 50 rounds\n",
      "[100]\tvalid's rmse: 0.00107713\n",
      "[200]\tvalid's rmse: 0.000964395\n",
      "[300]\tvalid's rmse: 0.000905107\n",
      "[400]\tvalid's rmse: 0.000867283\n",
      "[500]\tvalid's rmse: 0.000848507\n",
      "[600]\tvalid's rmse: 0.000835549\n",
      "[700]\tvalid's rmse: 0.000825625\n",
      "[800]\tvalid's rmse: 0.000821311\n",
      "[900]\tvalid's rmse: 0.000817625\n",
      "[1000]\tvalid's rmse: 0.000814407\n",
      "Did not meet early stopping. Best iteration is:\n",
      "[996]\tvalid's rmse: 0.00081433\n",
      "✅ Modelo guardado en lightgbm_cluster_2.txt\n",
      "\n",
      "🔄 Entrenando modelo para cluster 3...\n"
     ]
    },
    {
     "name": "stderr",
     "output_type": "stream",
     "text": [
      "[I 2025-07-02 08:19:31,688] A new study created in memory with name: no-name-212ff002-d406-4db3-b6b7-781f38d57971\n"
     ]
    },
    {
     "name": "stdout",
     "output_type": "stream",
     "text": [
      "Training until validation scores don't improve for 30 rounds\n",
      "Early stopping, best iteration is:\n",
      "[728]\tvalid's rmse: 0.0012291\n"
     ]
    },
    {
     "name": "stderr",
     "output_type": "stream",
     "text": [
      "/opt/anaconda3/lib/python3.11/site-packages/sklearn/metrics/_regression.py:483: FutureWarning: 'squared' is deprecated in version 1.4 and will be removed in 1.6. To calculate the root mean squared error, use the function'root_mean_squared_error'.\n",
      "  warnings.warn(\n",
      "[I 2025-07-02 08:20:08,136] Trial 0 finished with value: 0.001229101455875942 and parameters: {'learning_rate': 0.13270943326677284, 'max_depth': 14, 'num_leaves': 96, 'min_data_in_leaf': 170, 'subsample': 0.8489397116125117, 'colsample_bytree': 0.907676630886874, 'feature_fraction': 0.7261122497995521, 'lambda_l1': 2.411308992953474, 'lambda_l2': 2.744919809608166}. Best is trial 0 with value: 0.001229101455875942.\n"
     ]
    },
    {
     "name": "stdout",
     "output_type": "stream",
     "text": [
      "Training until validation scores don't improve for 30 rounds\n",
      "Did not meet early stopping. Best iteration is:\n",
      "[1000]\tvalid's rmse: 0.00166631\n"
     ]
    },
    {
     "name": "stderr",
     "output_type": "stream",
     "text": [
      "/opt/anaconda3/lib/python3.11/site-packages/sklearn/metrics/_regression.py:483: FutureWarning: 'squared' is deprecated in version 1.4 and will be removed in 1.6. To calculate the root mean squared error, use the function'root_mean_squared_error'.\n",
      "  warnings.warn(\n",
      "[I 2025-07-02 08:21:23,446] Trial 1 finished with value: 0.0016663092718506363 and parameters: {'learning_rate': 0.010307898040764065, 'max_depth': 15, 'num_leaves': 144, 'min_data_in_leaf': 190, 'subsample': 0.8496118807497934, 'colsample_bytree': 0.7256460089698231, 'feature_fraction': 0.5366356526257725, 'lambda_l1': 2.169019873911111, 'lambda_l2': 4.140907775307916}. Best is trial 0 with value: 0.001229101455875942.\n",
      "[LightGBM] [Fatal] Reducing `min_data_in_leaf` with `feature_pre_filter=true` may cause unexpected behaviour for features that were pre-filtered by the larger `min_data_in_leaf`.\n",
      "You need to set `feature_pre_filter=false` to dynamically change the `min_data_in_leaf`.\n",
      "[LightGBM] [Fatal] Reducing `min_data_in_leaf` with `feature_pre_filter=true` may cause unexpected behaviour for features that were pre-filtered by the larger `min_data_in_leaf`.\n",
      "You need to set `feature_pre_filter=false` to dynamically change the `min_data_in_leaf`.\n"
     ]
    },
    {
     "name": "stdout",
     "output_type": "stream",
     "text": [
      "Training until validation scores don't improve for 30 rounds\n",
      "Did not meet early stopping. Best iteration is:\n",
      "[1000]\tvalid's rmse: 0.00129169\n"
     ]
    },
    {
     "name": "stderr",
     "output_type": "stream",
     "text": [
      "/opt/anaconda3/lib/python3.11/site-packages/sklearn/metrics/_regression.py:483: FutureWarning: 'squared' is deprecated in version 1.4 and will be removed in 1.6. To calculate the root mean squared error, use the function'root_mean_squared_error'.\n",
      "  warnings.warn(\n",
      "[I 2025-07-02 08:21:48,834] Trial 2 finished with value: 0.0012916930854031867 and parameters: {'learning_rate': 0.05875205329407098, 'max_depth': 13, 'num_leaves': 175, 'min_data_in_leaf': 40, 'subsample': 0.9998934892138579, 'colsample_bytree': 0.7323760374215402, 'feature_fraction': 0.980114196947182, 'lambda_l1': 2.8994574731542544, 'lambda_l2': 0.0043421021615452915}. Best is trial 0 with value: 0.001229101455875942.\n",
      "[LightGBM] [Fatal] Reducing `min_data_in_leaf` with `feature_pre_filter=true` may cause unexpected behaviour for features that were pre-filtered by the larger `min_data_in_leaf`.\n",
      "You need to set `feature_pre_filter=false` to dynamically change the `min_data_in_leaf`.\n",
      "[LightGBM] [Fatal] Reducing `min_data_in_leaf` with `feature_pre_filter=true` may cause unexpected behaviour for features that were pre-filtered by the larger `min_data_in_leaf`.\n",
      "You need to set `feature_pre_filter=false` to dynamically change the `min_data_in_leaf`.\n"
     ]
    },
    {
     "name": "stdout",
     "output_type": "stream",
     "text": [
      "Training until validation scores don't improve for 30 rounds\n",
      "Did not meet early stopping. Best iteration is:\n",
      "[1000]\tvalid's rmse: 0.000794756\n"
     ]
    },
    {
     "name": "stderr",
     "output_type": "stream",
     "text": [
      "/opt/anaconda3/lib/python3.11/site-packages/sklearn/metrics/_regression.py:483: FutureWarning: 'squared' is deprecated in version 1.4 and will be removed in 1.6. To calculate the root mean squared error, use the function'root_mean_squared_error'.\n",
      "  warnings.warn(\n",
      "[I 2025-07-02 08:22:49,114] Trial 3 finished with value: 0.0007947563170336342 and parameters: {'learning_rate': 0.06520050874071646, 'max_depth': 11, 'num_leaves': 204, 'min_data_in_leaf': 36, 'subsample': 0.5522872405805163, 'colsample_bytree': 0.9692143137025404, 'feature_fraction': 0.8884821151632457, 'lambda_l1': 0.1515825940398613, 'lambda_l2': 2.221179485125555}. Best is trial 3 with value: 0.0007947563170336342.\n"
     ]
    },
    {
     "name": "stdout",
     "output_type": "stream",
     "text": [
      "Training until validation scores don't improve for 30 rounds\n",
      "Early stopping, best iteration is:\n",
      "[636]\tvalid's rmse: 0.00112971\n"
     ]
    },
    {
     "name": "stderr",
     "output_type": "stream",
     "text": [
      "/opt/anaconda3/lib/python3.11/site-packages/sklearn/metrics/_regression.py:483: FutureWarning: 'squared' is deprecated in version 1.4 and will be removed in 1.6. To calculate the root mean squared error, use the function'root_mean_squared_error'.\n",
      "  warnings.warn(\n",
      "[I 2025-07-02 08:23:08,990] Trial 4 finished with value: 0.0011297082207573016 and parameters: {'learning_rate': 0.06642518909362874, 'max_depth': 14, 'num_leaves': 173, 'min_data_in_leaf': 109, 'subsample': 0.9830637957103595, 'colsample_bytree': 0.8233060802454257, 'feature_fraction': 0.9602299731625854, 'lambda_l1': 1.895107391994832, 'lambda_l2': 3.036712305410542}. Best is trial 3 with value: 0.0007947563170336342.\n"
     ]
    },
    {
     "name": "stdout",
     "output_type": "stream",
     "text": [
      "Training until validation scores don't improve for 30 rounds\n",
      "Early stopping, best iteration is:\n",
      "[216]\tvalid's rmse: 0.0012205\n"
     ]
    },
    {
     "name": "stderr",
     "output_type": "stream",
     "text": [
      "/opt/anaconda3/lib/python3.11/site-packages/sklearn/metrics/_regression.py:483: FutureWarning: 'squared' is deprecated in version 1.4 and will be removed in 1.6. To calculate the root mean squared error, use the function'root_mean_squared_error'.\n",
      "  warnings.warn(\n",
      "[I 2025-07-02 08:23:19,251] Trial 5 finished with value: 0.001220495991780783 and parameters: {'learning_rate': 0.2890952122215599, 'max_depth': 7, 'num_leaves': 173, 'min_data_in_leaf': 93, 'subsample': 0.9585258132961552, 'colsample_bytree': 0.7014033488417133, 'feature_fraction': 0.6597917972564367, 'lambda_l1': 1.2960119802348529, 'lambda_l2': 2.1724150962849436}. Best is trial 3 with value: 0.0007947563170336342.\n"
     ]
    },
    {
     "name": "stdout",
     "output_type": "stream",
     "text": [
      "Training until validation scores don't improve for 30 rounds\n",
      "Early stopping, best iteration is:\n",
      "[287]\tvalid's rmse: 0.00111152\n"
     ]
    },
    {
     "name": "stderr",
     "output_type": "stream",
     "text": [
      "/opt/anaconda3/lib/python3.11/site-packages/sklearn/metrics/_regression.py:483: FutureWarning: 'squared' is deprecated in version 1.4 and will be removed in 1.6. To calculate the root mean squared error, use the function'root_mean_squared_error'.\n",
      "  warnings.warn(\n",
      "[I 2025-07-02 08:23:29,189] Trial 6 finished with value: 0.0011115155527383045 and parameters: {'learning_rate': 0.25994810539866525, 'max_depth': 12, 'num_leaves': 174, 'min_data_in_leaf': 119, 'subsample': 0.7425055507149231, 'colsample_bytree': 0.5951902356263398, 'feature_fraction': 0.8876762048806544, 'lambda_l1': 1.096482405817505, 'lambda_l2': 0.3932925118295194}. Best is trial 3 with value: 0.0007947563170336342.\n"
     ]
    },
    {
     "name": "stdout",
     "output_type": "stream",
     "text": [
      "Training until validation scores don't improve for 30 rounds\n",
      "Early stopping, best iteration is:\n",
      "[297]\tvalid's rmse: 0.0016642\n"
     ]
    },
    {
     "name": "stderr",
     "output_type": "stream",
     "text": [
      "/opt/anaconda3/lib/python3.11/site-packages/sklearn/metrics/_regression.py:483: FutureWarning: 'squared' is deprecated in version 1.4 and will be removed in 1.6. To calculate the root mean squared error, use the function'root_mean_squared_error'.\n",
      "  warnings.warn(\n",
      "[I 2025-07-02 08:23:43,531] Trial 7 finished with value: 0.0016641963010463198 and parameters: {'learning_rate': 0.24331287804056323, 'max_depth': 8, 'num_leaves': 119, 'min_data_in_leaf': 131, 'subsample': 0.7777692915771058, 'colsample_bytree': 0.8238365496126404, 'feature_fraction': 0.5908858915499089, 'lambda_l1': 4.425529274985163, 'lambda_l2': 2.3329566428616957}. Best is trial 3 with value: 0.0007947563170336342.\n"
     ]
    },
    {
     "name": "stdout",
     "output_type": "stream",
     "text": [
      "Training until validation scores don't improve for 30 rounds\n",
      "Early stopping, best iteration is:\n",
      "[664]\tvalid's rmse: 0.00108859\n"
     ]
    },
    {
     "name": "stderr",
     "output_type": "stream",
     "text": [
      "/opt/anaconda3/lib/python3.11/site-packages/sklearn/metrics/_regression.py:483: FutureWarning: 'squared' is deprecated in version 1.4 and will be removed in 1.6. To calculate the root mean squared error, use the function'root_mean_squared_error'.\n",
      "  warnings.warn(\n",
      "[I 2025-07-02 08:24:10,292] Trial 8 finished with value: 0.001088594645294778 and parameters: {'learning_rate': 0.0574129744334262, 'max_depth': 15, 'num_leaves': 252, 'min_data_in_leaf': 68, 'subsample': 0.7847457919967642, 'colsample_bytree': 0.746631357727632, 'feature_fraction': 0.6979658405767006, 'lambda_l1': 1.433082675651195, 'lambda_l2': 2.3829634963702317}. Best is trial 3 with value: 0.0007947563170336342.\n"
     ]
    },
    {
     "name": "stdout",
     "output_type": "stream",
     "text": [
      "Training until validation scores don't improve for 30 rounds\n",
      "Early stopping, best iteration is:\n",
      "[653]\tvalid's rmse: 0.00123237\n"
     ]
    },
    {
     "name": "stderr",
     "output_type": "stream",
     "text": [
      "/opt/anaconda3/lib/python3.11/site-packages/sklearn/metrics/_regression.py:483: FutureWarning: 'squared' is deprecated in version 1.4 and will be removed in 1.6. To calculate the root mean squared error, use the function'root_mean_squared_error'.\n",
      "  warnings.warn(\n",
      "[I 2025-07-02 08:24:32,831] Trial 9 finished with value: 0.0012323721474890158 and parameters: {'learning_rate': 0.05198051901437388, 'max_depth': 13, 'num_leaves': 93, 'min_data_in_leaf': 100, 'subsample': 0.9726462411328785, 'colsample_bytree': 0.8816736979533604, 'feature_fraction': 0.8078745430183758, 'lambda_l1': 2.548786161110393, 'lambda_l2': 1.1417572873477515}. Best is trial 3 with value: 0.0007947563170336342.\n",
      "[LightGBM] [Fatal] Reducing `min_data_in_leaf` with `feature_pre_filter=true` may cause unexpected behaviour for features that were pre-filtered by the larger `min_data_in_leaf`.\n",
      "You need to set `feature_pre_filter=false` to dynamically change the `min_data_in_leaf`.\n",
      "[LightGBM] [Fatal] Reducing `min_data_in_leaf` with `feature_pre_filter=true` may cause unexpected behaviour for features that were pre-filtered by the larger `min_data_in_leaf`.\n",
      "You need to set `feature_pre_filter=false` to dynamically change the `min_data_in_leaf`.\n"
     ]
    },
    {
     "name": "stdout",
     "output_type": "stream",
     "text": [
      "Training until validation scores don't improve for 30 rounds\n",
      "Early stopping, best iteration is:\n",
      "[415]\tvalid's rmse: 0.00102494\n"
     ]
    },
    {
     "name": "stderr",
     "output_type": "stream",
     "text": [
      "/opt/anaconda3/lib/python3.11/site-packages/sklearn/metrics/_regression.py:483: FutureWarning: 'squared' is deprecated in version 1.4 and will be removed in 1.6. To calculate the root mean squared error, use the function'root_mean_squared_error'.\n",
      "  warnings.warn(\n",
      "[I 2025-07-02 08:24:47,557] Trial 10 finished with value: 0.0010249365652756804 and parameters: {'learning_rate': 0.15920841697462473, 'max_depth': 10, 'num_leaves': 27, 'min_data_in_leaf': 21, 'subsample': 0.5293107318434204, 'colsample_bytree': 0.99134465405687, 'feature_fraction': 0.8453519148995883, 'lambda_l1': 0.054766020624676934, 'lambda_l2': 4.974994510479284}. Best is trial 3 with value: 0.0007947563170336342.\n"
     ]
    },
    {
     "name": "stdout",
     "output_type": "stream",
     "text": [
      "Training until validation scores don't improve for 30 rounds\n",
      "Did not meet early stopping. Best iteration is:\n",
      "[1000]\tvalid's rmse: 0.000975716\n"
     ]
    },
    {
     "name": "stderr",
     "output_type": "stream",
     "text": [
      "/opt/anaconda3/lib/python3.11/site-packages/sklearn/metrics/_regression.py:483: FutureWarning: 'squared' is deprecated in version 1.4 and will be removed in 1.6. To calculate the root mean squared error, use the function'root_mean_squared_error'.\n",
      "  warnings.warn(\n",
      "[I 2025-07-02 08:25:15,843] Trial 11 finished with value: 0.000975716303382881 and parameters: {'learning_rate': 0.16947486211138024, 'max_depth': 10, 'num_leaves': 29, 'min_data_in_leaf': 21, 'subsample': 0.5044864171911435, 'colsample_bytree': 0.9588104470708316, 'feature_fraction': 0.816600492206766, 'lambda_l1': 0.09858437956765047, 'lambda_l2': 4.9359434648556855}. Best is trial 3 with value: 0.0007947563170336342.\n"
     ]
    },
    {
     "name": "stdout",
     "output_type": "stream",
     "text": [
      "Training until validation scores don't improve for 30 rounds\n",
      "Early stopping, best iteration is:\n",
      "[717]\tvalid's rmse: 0.000882799\n"
     ]
    },
    {
     "name": "stderr",
     "output_type": "stream",
     "text": [
      "/opt/anaconda3/lib/python3.11/site-packages/sklearn/metrics/_regression.py:483: FutureWarning: 'squared' is deprecated in version 1.4 and will be removed in 1.6. To calculate the root mean squared error, use the function'root_mean_squared_error'.\n",
      "  warnings.warn(\n",
      "[I 2025-07-02 08:25:58,769] Trial 12 finished with value: 0.000882798509261889 and parameters: {'learning_rate': 0.1740189743809316, 'max_depth': 10, 'num_leaves': 241, 'min_data_in_leaf': 57, 'subsample': 0.5051073774838567, 'colsample_bytree': 0.9868590885459142, 'feature_fraction': 0.7938344167391153, 'lambda_l1': 0.09176523343116312, 'lambda_l2': 3.586524676394477}. Best is trial 3 with value: 0.0007947563170336342.\n"
     ]
    },
    {
     "name": "stdout",
     "output_type": "stream",
     "text": [
      "Training until validation scores don't improve for 30 rounds\n",
      "Early stopping, best iteration is:\n",
      "[279]\tvalid's rmse: 0.00102857\n"
     ]
    },
    {
     "name": "stderr",
     "output_type": "stream",
     "text": [
      "/opt/anaconda3/lib/python3.11/site-packages/sklearn/metrics/_regression.py:483: FutureWarning: 'squared' is deprecated in version 1.4 and will be removed in 1.6. To calculate the root mean squared error, use the function'root_mean_squared_error'.\n",
      "  warnings.warn(\n",
      "[I 2025-07-02 08:26:09,660] Trial 13 finished with value: 0.0010285739829004547 and parameters: {'learning_rate': 0.20475961379935564, 'max_depth': 9, 'num_leaves': 252, 'min_data_in_leaf': 62, 'subsample': 0.6181945870808312, 'colsample_bytree': 0.5119817691802386, 'feature_fraction': 0.9012233496926478, 'lambda_l1': 0.6448697934449537, 'lambda_l2': 3.497975503652766}. Best is trial 3 with value: 0.0007947563170336342.\n"
     ]
    },
    {
     "name": "stdout",
     "output_type": "stream",
     "text": [
      "Training until validation scores don't improve for 30 rounds\n",
      "Early stopping, best iteration is:\n",
      "[194]\tvalid's rmse: 0.0015071\n"
     ]
    },
    {
     "name": "stderr",
     "output_type": "stream",
     "text": [
      "/opt/anaconda3/lib/python3.11/site-packages/sklearn/metrics/_regression.py:483: FutureWarning: 'squared' is deprecated in version 1.4 and will be removed in 1.6. To calculate the root mean squared error, use the function'root_mean_squared_error'.\n",
      "  warnings.warn(\n",
      "[I 2025-07-02 08:26:16,835] Trial 14 finished with value: 0.0015070999646138263 and parameters: {'learning_rate': 0.14134087932867057, 'max_depth': 6, 'num_leaves': 216, 'min_data_in_leaf': 62, 'subsample': 0.6152215487470913, 'colsample_bytree': 0.9940860108976162, 'feature_fraction': 0.7741861602276282, 'lambda_l1': 3.9488844991966365, 'lambda_l2': 1.3838407379699678}. Best is trial 3 with value: 0.0007947563170336342.\n"
     ]
    },
    {
     "name": "stdout",
     "output_type": "stream",
     "text": [
      "Training until validation scores don't improve for 30 rounds\n",
      "Early stopping, best iteration is:\n",
      "[551]\tvalid's rmse: 0.000938968\n"
     ]
    },
    {
     "name": "stderr",
     "output_type": "stream",
     "text": [
      "/opt/anaconda3/lib/python3.11/site-packages/sklearn/metrics/_regression.py:483: FutureWarning: 'squared' is deprecated in version 1.4 and will be removed in 1.6. To calculate the root mean squared error, use the function'root_mean_squared_error'.\n",
      "  warnings.warn(\n",
      "[I 2025-07-02 08:26:38,679] Trial 15 finished with value: 0.0009389676410048769 and parameters: {'learning_rate': 0.10596662105310037, 'max_depth': 11, 'num_leaves': 213, 'min_data_in_leaf': 45, 'subsample': 0.5879145573041026, 'colsample_bytree': 0.9034429168242933, 'feature_fraction': 0.9050317996062822, 'lambda_l1': 0.5439097464675243, 'lambda_l2': 3.8070746884687474}. Best is trial 3 with value: 0.0007947563170336342.\n"
     ]
    },
    {
     "name": "stdout",
     "output_type": "stream",
     "text": [
      "Training until validation scores don't improve for 30 rounds\n",
      "Early stopping, best iteration is:\n",
      "[172]\tvalid's rmse: 0.00146178\n"
     ]
    },
    {
     "name": "stderr",
     "output_type": "stream",
     "text": [
      "/opt/anaconda3/lib/python3.11/site-packages/sklearn/metrics/_regression.py:483: FutureWarning: 'squared' is deprecated in version 1.4 and will be removed in 1.6. To calculate the root mean squared error, use the function'root_mean_squared_error'.\n",
      "  warnings.warn(\n",
      "[I 2025-07-02 08:26:46,587] Trial 16 finished with value: 0.0014617765368526207 and parameters: {'learning_rate': 0.2035947887804047, 'max_depth': 11, 'num_leaves': 220, 'min_data_in_leaf': 80, 'subsample': 0.6767298542570677, 'colsample_bytree': 0.8170295954367135, 'feature_fraction': 0.6587325087663458, 'lambda_l1': 3.3300782331478302, 'lambda_l2': 1.6891458704154463}. Best is trial 3 with value: 0.0007947563170336342.\n"
     ]
    },
    {
     "name": "stdout",
     "output_type": "stream",
     "text": [
      "Training until validation scores don't improve for 30 rounds\n",
      "Early stopping, best iteration is:\n",
      "[486]\tvalid's rmse: 0.000992205\n"
     ]
    },
    {
     "name": "stderr",
     "output_type": "stream",
     "text": [
      "/opt/anaconda3/lib/python3.11/site-packages/sklearn/metrics/_regression.py:483: FutureWarning: 'squared' is deprecated in version 1.4 and will be removed in 1.6. To calculate the root mean squared error, use the function'root_mean_squared_error'.\n",
      "  warnings.warn(\n",
      "[I 2025-07-02 08:27:05,605] Trial 17 finished with value: 0.0009922046382311448 and parameters: {'learning_rate': 0.10200657452763716, 'max_depth': 9, 'num_leaves': 206, 'min_data_in_leaf': 43, 'subsample': 0.5558503454897045, 'colsample_bytree': 0.9381550315537017, 'feature_fraction': 0.7648883914455976, 'lambda_l1': 0.703569237309882, 'lambda_l2': 3.0997464597941633}. Best is trial 3 with value: 0.0007947563170336342.\n"
     ]
    },
    {
     "name": "stdout",
     "output_type": "stream",
     "text": [
      "Training until validation scores don't improve for 30 rounds\n",
      "Early stopping, best iteration is:\n",
      "[309]\tvalid's rmse: 0.00114498\n"
     ]
    },
    {
     "name": "stderr",
     "output_type": "stream",
     "text": [
      "/opt/anaconda3/lib/python3.11/site-packages/sklearn/metrics/_regression.py:483: FutureWarning: 'squared' is deprecated in version 1.4 and will be removed in 1.6. To calculate the root mean squared error, use the function'root_mean_squared_error'.\n",
      "  warnings.warn(\n",
      "[I 2025-07-02 08:27:15,889] Trial 18 finished with value: 0.0011449785459792308 and parameters: {'learning_rate': 0.19727203190049344, 'max_depth': 12, 'num_leaves': 233, 'min_data_in_leaf': 143, 'subsample': 0.6729265983416662, 'colsample_bytree': 0.651040498977116, 'feature_fraction': 0.9554983708883622, 'lambda_l1': 1.7123857623714063, 'lambda_l2': 4.3374471943490756}. Best is trial 3 with value: 0.0007947563170336342.\n"
     ]
    },
    {
     "name": "stdout",
     "output_type": "stream",
     "text": [
      "Training until validation scores don't improve for 30 rounds\n",
      "Did not meet early stopping. Best iteration is:\n",
      "[1000]\tvalid's rmse: 0.00159862\n"
     ]
    },
    {
     "name": "stderr",
     "output_type": "stream",
     "text": [
      "/opt/anaconda3/lib/python3.11/site-packages/sklearn/metrics/_regression.py:483: FutureWarning: 'squared' is deprecated in version 1.4 and will be removed in 1.6. To calculate the root mean squared error, use the function'root_mean_squared_error'.\n",
      "  warnings.warn(\n",
      "[I 2025-07-02 08:27:46,011] Trial 19 finished with value: 0.0015986195833851153 and parameters: {'learning_rate': 0.019961766013663923, 'max_depth': 8, 'num_leaves': 187, 'min_data_in_leaf': 86, 'subsample': 0.6775037694594337, 'colsample_bytree': 0.8647255799508964, 'feature_fraction': 0.8762821048169098, 'lambda_l1': 4.970417915079971, 'lambda_l2': 1.900661863243971}. Best is trial 3 with value: 0.0007947563170336342.\n"
     ]
    },
    {
     "name": "stdout",
     "output_type": "stream",
     "text": [
      "Training until validation scores don't improve for 30 rounds\n",
      "Early stopping, best iteration is:\n",
      "[357]\tvalid's rmse: 0.00100964\n"
     ]
    },
    {
     "name": "stderr",
     "output_type": "stream",
     "text": [
      "/opt/anaconda3/lib/python3.11/site-packages/sklearn/metrics/_regression.py:483: FutureWarning: 'squared' is deprecated in version 1.4 and will be removed in 1.6. To calculate the root mean squared error, use the function'root_mean_squared_error'.\n",
      "  warnings.warn(\n",
      "[I 2025-07-02 08:28:01,807] Trial 20 finished with value: 0.0010096360592151262 and parameters: {'learning_rate': 0.0995577047279527, 'max_depth': 16, 'num_leaves': 141, 'min_data_in_leaf': 37, 'subsample': 0.5569434245037563, 'colsample_bytree': 0.9365623938211566, 'feature_fraction': 0.8288030170720532, 'lambda_l1': 0.8577446127080228, 'lambda_l2': 0.8700045633886455}. Best is trial 3 with value: 0.0007947563170336342.\n"
     ]
    },
    {
     "name": "stdout",
     "output_type": "stream",
     "text": [
      "Training until validation scores don't improve for 30 rounds\n",
      "Early stopping, best iteration is:\n",
      "[777]\tvalid's rmse: 0.000902872\n"
     ]
    },
    {
     "name": "stderr",
     "output_type": "stream",
     "text": [
      "/opt/anaconda3/lib/python3.11/site-packages/sklearn/metrics/_regression.py:483: FutureWarning: 'squared' is deprecated in version 1.4 and will be removed in 1.6. To calculate the root mean squared error, use the function'root_mean_squared_error'.\n",
      "  warnings.warn(\n",
      "[I 2025-07-02 08:28:34,848] Trial 21 finished with value: 0.000902872084590083 and parameters: {'learning_rate': 0.09740670988489497, 'max_depth': 11, 'num_leaves': 195, 'min_data_in_leaf': 51, 'subsample': 0.595698568045113, 'colsample_bytree': 0.9989807316346596, 'feature_fraction': 0.9213172776661803, 'lambda_l1': 0.35028515839937446, 'lambda_l2': 3.724306806244699}. Best is trial 3 with value: 0.0007947563170336342.\n"
     ]
    },
    {
     "name": "stdout",
     "output_type": "stream",
     "text": [
      "Training until validation scores don't improve for 30 rounds\n",
      "Did not meet early stopping. Best iteration is:\n",
      "[1000]\tvalid's rmse: 0.000799419\n"
     ]
    },
    {
     "name": "stderr",
     "output_type": "stream",
     "text": [
      "/opt/anaconda3/lib/python3.11/site-packages/sklearn/metrics/_regression.py:483: FutureWarning: 'squared' is deprecated in version 1.4 and will be removed in 1.6. To calculate the root mean squared error, use the function'root_mean_squared_error'.\n",
      "  warnings.warn(\n",
      "[I 2025-07-02 08:29:32,604] Trial 22 finished with value: 0.0007994187168074894 and parameters: {'learning_rate': 0.12032123165375735, 'max_depth': 10, 'num_leaves': 195, 'min_data_in_leaf': 69, 'subsample': 0.500370589885241, 'colsample_bytree': 0.9954550942672162, 'feature_fraction': 0.9326861331427565, 'lambda_l1': 0.04636843162949239, 'lambda_l2': 3.4869552684304}. Best is trial 3 with value: 0.0007947563170336342.\n"
     ]
    },
    {
     "name": "stdout",
     "output_type": "stream",
     "text": [
      "Training until validation scores don't improve for 30 rounds\n",
      "Early stopping, best iteration is:\n",
      "[902]\tvalid's rmse: 0.000805669\n"
     ]
    },
    {
     "name": "stderr",
     "output_type": "stream",
     "text": [
      "/opt/anaconda3/lib/python3.11/site-packages/sklearn/metrics/_regression.py:483: FutureWarning: 'squared' is deprecated in version 1.4 and will be removed in 1.6. To calculate the root mean squared error, use the function'root_mean_squared_error'.\n",
      "  warnings.warn(\n",
      "[I 2025-07-02 08:30:21,340] Trial 23 finished with value: 0.0008056692113152589 and parameters: {'learning_rate': 0.12283512214905959, 'max_depth': 10, 'num_leaves': 236, 'min_data_in_leaf': 76, 'subsample': 0.5134317905101273, 'colsample_bytree': 0.9554160511385348, 'feature_fraction': 0.9953306583610648, 'lambda_l1': 0.12356372234714456, 'lambda_l2': 3.264433073333091}. Best is trial 3 with value: 0.0007947563170336342.\n"
     ]
    },
    {
     "name": "stdout",
     "output_type": "stream",
     "text": [
      "Training until validation scores don't improve for 30 rounds\n",
      "Early stopping, best iteration is:\n",
      "[408]\tvalid's rmse: 0.00100725\n"
     ]
    },
    {
     "name": "stderr",
     "output_type": "stream",
     "text": [
      "/opt/anaconda3/lib/python3.11/site-packages/sklearn/metrics/_regression.py:483: FutureWarning: 'squared' is deprecated in version 1.4 and will be removed in 1.6. To calculate the root mean squared error, use the function'root_mean_squared_error'.\n",
      "  warnings.warn(\n",
      "[I 2025-07-02 08:30:35,062] Trial 24 finished with value: 0.0010072469736249765 and parameters: {'learning_rate': 0.12542310548647745, 'max_depth': 9, 'num_leaves': 156, 'min_data_in_leaf': 82, 'subsample': 0.549679918742383, 'colsample_bytree': 0.9448029193016201, 'feature_fraction': 0.9983880333690419, 'lambda_l1': 1.0459479471213873, 'lambda_l2': 2.9400965865566344}. Best is trial 3 with value: 0.0007947563170336342.\n"
     ]
    },
    {
     "name": "stdout",
     "output_type": "stream",
     "text": [
      "Training until validation scores don't improve for 30 rounds\n",
      "Early stopping, best iteration is:\n",
      "[914]\tvalid's rmse: 0.000881616\n"
     ]
    },
    {
     "name": "stderr",
     "output_type": "stream",
     "text": [
      "/opt/anaconda3/lib/python3.11/site-packages/sklearn/metrics/_regression.py:483: FutureWarning: 'squared' is deprecated in version 1.4 and will be removed in 1.6. To calculate the root mean squared error, use the function'root_mean_squared_error'.\n",
      "  warnings.warn(\n",
      "[I 2025-07-02 08:31:14,935] Trial 25 finished with value: 0.0008816163703727254 and parameters: {'learning_rate': 0.08216877471905956, 'max_depth': 12, 'num_leaves': 229, 'min_data_in_leaf': 73, 'subsample': 0.6389455013640175, 'colsample_bytree': 0.866227025258474, 'feature_fraction': 0.9216226289325847, 'lambda_l1': 0.37440500199020305, 'lambda_l2': 3.361233388884164}. Best is trial 3 with value: 0.0007947563170336342.\n"
     ]
    },
    {
     "name": "stdout",
     "output_type": "stream",
     "text": [
      "Training until validation scores don't improve for 30 rounds\n",
      "Early stopping, best iteration is:\n",
      "[230]\tvalid's rmse: 0.00109373\n"
     ]
    },
    {
     "name": "stderr",
     "output_type": "stream",
     "text": [
      "/opt/anaconda3/lib/python3.11/site-packages/sklearn/metrics/_regression.py:483: FutureWarning: 'squared' is deprecated in version 1.4 and will be removed in 1.6. To calculate the root mean squared error, use the function'root_mean_squared_error'.\n",
      "  warnings.warn(\n",
      "[I 2025-07-02 08:31:23,752] Trial 26 finished with value: 0.0010937311427122202 and parameters: {'learning_rate': 0.12308909593682757, 'max_depth': 10, 'num_leaves': 195, 'min_data_in_leaf': 29, 'subsample': 0.5710491840842274, 'colsample_bytree': 0.7864290182647493, 'feature_fraction': 0.9498399466337458, 'lambda_l1': 1.480554536972119, 'lambda_l2': 2.485910271513185}. Best is trial 3 with value: 0.0007947563170336342.\n"
     ]
    },
    {
     "name": "stdout",
     "output_type": "stream",
     "text": [
      "Training until validation scores don't improve for 30 rounds\n",
      "Did not meet early stopping. Best iteration is:\n",
      "[1000]\tvalid's rmse: 0.000960503\n"
     ]
    },
    {
     "name": "stderr",
     "output_type": "stream",
     "text": [
      "/opt/anaconda3/lib/python3.11/site-packages/sklearn/metrics/_regression.py:483: FutureWarning: 'squared' is deprecated in version 1.4 and will be removed in 1.6. To calculate the root mean squared error, use the function'root_mean_squared_error'.\n",
      "  warnings.warn(\n",
      "[I 2025-07-02 08:32:02,555] Trial 27 finished with value: 0.0009605024847938451 and parameters: {'learning_rate': 0.031331701445318806, 'max_depth': 8, 'num_leaves': 205, 'min_data_in_leaf': 74, 'subsample': 0.5368380696720125, 'colsample_bytree': 0.9140209492487723, 'feature_fraction': 0.8520260573604194, 'lambda_l1': 0.8712314382385042, 'lambda_l2': 4.329235759065416}. Best is trial 3 with value: 0.0007947563170336342.\n"
     ]
    },
    {
     "name": "stdout",
     "output_type": "stream",
     "text": [
      "Training until validation scores don't improve for 30 rounds\n",
      "Did not meet early stopping. Best iteration is:\n",
      "[999]\tvalid's rmse: 0.000820862\n"
     ]
    },
    {
     "name": "stderr",
     "output_type": "stream",
     "text": [
      "/opt/anaconda3/lib/python3.11/site-packages/sklearn/metrics/_regression.py:483: FutureWarning: 'squared' is deprecated in version 1.4 and will be removed in 1.6. To calculate the root mean squared error, use the function'root_mean_squared_error'.\n",
      "  warnings.warn(\n",
      "[I 2025-07-02 08:32:52,486] Trial 28 finished with value: 0.0008208621351557886 and parameters: {'learning_rate': 0.07849573735758303, 'max_depth': 11, 'num_leaves': 235, 'min_data_in_leaf': 111, 'subsample': 0.5055055655134216, 'colsample_bytree': 0.9555196988699408, 'feature_fraction': 0.9437144885702321, 'lambda_l1': 0.004168086268654392, 'lambda_l2': 2.7346041748444456}. Best is trial 3 with value: 0.0007947563170336342.\n"
     ]
    },
    {
     "name": "stdout",
     "output_type": "stream",
     "text": [
      "Training until validation scores don't improve for 30 rounds\n",
      "Did not meet early stopping. Best iteration is:\n",
      "[1000]\tvalid's rmse: 0.00085941\n"
     ]
    },
    {
     "name": "stderr",
     "output_type": "stream",
     "text": [
      "/opt/anaconda3/lib/python3.11/site-packages/sklearn/metrics/_regression.py:483: FutureWarning: 'squared' is deprecated in version 1.4 and will be removed in 1.6. To calculate the root mean squared error, use the function'root_mean_squared_error'.\n",
      "  warnings.warn(\n",
      "[I 2025-07-02 08:33:44,022] Trial 29 finished with value: 0.0008594100693018271 and parameters: {'learning_rate': 0.03743582185185876, 'max_depth': 13, 'num_leaves': 101, 'min_data_in_leaf': 51, 'subsample': 0.8641181906967611, 'colsample_bytree': 0.9030798152224131, 'feature_fraction': 0.7253180581386203, 'lambda_l1': 0.4245368801488747, 'lambda_l2': 2.7213212276098084}. Best is trial 3 with value: 0.0007947563170336342.\n"
     ]
    },
    {
     "name": "stdout",
     "output_type": "stream",
     "text": [
      "📌 Mejores hiperparámetros para cluster 3:\n",
      "   learning_rate: 0.06520050874071646\n",
      "   max_depth: 11\n",
      "   num_leaves: 204\n",
      "   min_data_in_leaf: 36\n",
      "   subsample: 0.5522872405805163\n",
      "   colsample_bytree: 0.9692143137025404\n",
      "   feature_fraction: 0.8884821151632457\n",
      "   lambda_l1: 0.1515825940398613\n",
      "   lambda_l2: 2.221179485125555\n",
      "   objective: regression\n",
      "   metric: rmse\n",
      "   verbose: -1\n",
      "Training until validation scores don't improve for 50 rounds\n",
      "[100]\tvalid's rmse: 0.00108576\n",
      "[200]\tvalid's rmse: 0.000905653\n",
      "[300]\tvalid's rmse: 0.000846917\n",
      "[400]\tvalid's rmse: 0.000821977\n",
      "[500]\tvalid's rmse: 0.000810185\n",
      "[600]\tvalid's rmse: 0.000804252\n",
      "[700]\tvalid's rmse: 0.000800438\n",
      "[800]\tvalid's rmse: 0.000798196\n",
      "[900]\tvalid's rmse: 0.000796279\n",
      "[1000]\tvalid's rmse: 0.000794756\n",
      "Did not meet early stopping. Best iteration is:\n",
      "[1000]\tvalid's rmse: 0.000794756\n",
      "✅ Modelo guardado en lightgbm_cluster_3.txt\n",
      "\n",
      "🔄 Entrenando modelo para cluster 4...\n"
     ]
    },
    {
     "name": "stderr",
     "output_type": "stream",
     "text": [
      "[I 2025-07-02 08:34:44,135] A new study created in memory with name: no-name-7fc8e933-4c72-4443-8002-0a1ad2d811a0\n"
     ]
    },
    {
     "name": "stdout",
     "output_type": "stream",
     "text": [
      "Training until validation scores don't improve for 30 rounds\n",
      "Early stopping, best iteration is:\n",
      "[255]\tvalid's rmse: 0.0020256\n"
     ]
    },
    {
     "name": "stderr",
     "output_type": "stream",
     "text": [
      "/opt/anaconda3/lib/python3.11/site-packages/sklearn/metrics/_regression.py:483: FutureWarning: 'squared' is deprecated in version 1.4 and will be removed in 1.6. To calculate the root mean squared error, use the function'root_mean_squared_error'.\n",
      "  warnings.warn(\n",
      "[I 2025-07-02 08:35:06,393] Trial 0 finished with value: 0.0020256037609656277 and parameters: {'learning_rate': 0.1576917583967829, 'max_depth': 10, 'num_leaves': 228, 'min_data_in_leaf': 54, 'subsample': 0.9638893218425457, 'colsample_bytree': 0.5196002396801205, 'feature_fraction': 0.7002517323539763, 'lambda_l1': 3.728014429706868, 'lambda_l2': 3.7985741856507502}. Best is trial 0 with value: 0.0020256037609656277.\n"
     ]
    },
    {
     "name": "stdout",
     "output_type": "stream",
     "text": [
      "Training until validation scores don't improve for 30 rounds\n",
      "Early stopping, best iteration is:\n",
      "[290]\tvalid's rmse: 0.00213785\n"
     ]
    },
    {
     "name": "stderr",
     "output_type": "stream",
     "text": [
      "/opt/anaconda3/lib/python3.11/site-packages/sklearn/metrics/_regression.py:483: FutureWarning: 'squared' is deprecated in version 1.4 and will be removed in 1.6. To calculate the root mean squared error, use the function'root_mean_squared_error'.\n",
      "  warnings.warn(\n",
      "[I 2025-07-02 08:35:24,245] Trial 1 finished with value: 0.002137852332216669 and parameters: {'learning_rate': 0.1803893369067166, 'max_depth': 8, 'num_leaves': 117, 'min_data_in_leaf': 183, 'subsample': 0.784730276525288, 'colsample_bytree': 0.8273121594450418, 'feature_fraction': 0.7259526386974531, 'lambda_l1': 4.90426033938302, 'lambda_l2': 1.2288531801722642}. Best is trial 0 with value: 0.0020256037609656277.\n"
     ]
    },
    {
     "name": "stdout",
     "output_type": "stream",
     "text": [
      "Training until validation scores don't improve for 30 rounds\n",
      "Did not meet early stopping. Best iteration is:\n",
      "[973]\tvalid's rmse: 0.00161479\n"
     ]
    },
    {
     "name": "stderr",
     "output_type": "stream",
     "text": [
      "/opt/anaconda3/lib/python3.11/site-packages/sklearn/metrics/_regression.py:483: FutureWarning: 'squared' is deprecated in version 1.4 and will be removed in 1.6. To calculate the root mean squared error, use the function'root_mean_squared_error'.\n",
      "  warnings.warn(\n",
      "[I 2025-07-02 08:36:55,702] Trial 2 finished with value: 0.0016147902822853347 and parameters: {'learning_rate': 0.2817907429452663, 'max_depth': 14, 'num_leaves': 57, 'min_data_in_leaf': 80, 'subsample': 0.7382467720111102, 'colsample_bytree': 0.5002330044237417, 'feature_fraction': 0.6138202427754107, 'lambda_l1': 0.2733061088903527, 'lambda_l2': 1.0002223737242506}. Best is trial 2 with value: 0.0016147902822853347.\n"
     ]
    },
    {
     "name": "stdout",
     "output_type": "stream",
     "text": [
      "Training until validation scores don't improve for 30 rounds\n",
      "Did not meet early stopping. Best iteration is:\n",
      "[1000]\tvalid's rmse: 0.00198817\n"
     ]
    },
    {
     "name": "stderr",
     "output_type": "stream",
     "text": [
      "/opt/anaconda3/lib/python3.11/site-packages/sklearn/metrics/_regression.py:483: FutureWarning: 'squared' is deprecated in version 1.4 and will be removed in 1.6. To calculate the root mean squared error, use the function'root_mean_squared_error'.\n",
      "  warnings.warn(\n",
      "[I 2025-07-02 08:38:58,347] Trial 3 finished with value: 0.001988166961728504 and parameters: {'learning_rate': 0.024412253976945582, 'max_depth': 16, 'num_leaves': 76, 'min_data_in_leaf': 110, 'subsample': 0.8609118112891685, 'colsample_bytree': 0.7125268308257933, 'feature_fraction': 0.5604843897479448, 'lambda_l1': 3.46719019173997, 'lambda_l2': 2.695896225559275}. Best is trial 2 with value: 0.0016147902822853347.\n",
      "[LightGBM] [Fatal] Reducing `min_data_in_leaf` with `feature_pre_filter=true` may cause unexpected behaviour for features that were pre-filtered by the larger `min_data_in_leaf`.\n",
      "You need to set `feature_pre_filter=false` to dynamically change the `min_data_in_leaf`.\n",
      "[LightGBM] [Fatal] Reducing `min_data_in_leaf` with `feature_pre_filter=true` may cause unexpected behaviour for features that were pre-filtered by the larger `min_data_in_leaf`.\n",
      "You need to set `feature_pre_filter=false` to dynamically change the `min_data_in_leaf`.\n"
     ]
    },
    {
     "name": "stdout",
     "output_type": "stream",
     "text": [
      "Training until validation scores don't improve for 30 rounds\n",
      "Early stopping, best iteration is:\n",
      "[203]\tvalid's rmse: 0.00219299\n"
     ]
    },
    {
     "name": "stderr",
     "output_type": "stream",
     "text": [
      "/opt/anaconda3/lib/python3.11/site-packages/sklearn/metrics/_regression.py:483: FutureWarning: 'squared' is deprecated in version 1.4 and will be removed in 1.6. To calculate the root mean squared error, use the function'root_mean_squared_error'.\n",
      "  warnings.warn(\n",
      "[I 2025-07-02 08:39:28,569] Trial 4 finished with value: 0.002192991948683528 and parameters: {'learning_rate': 0.22451355865399011, 'max_depth': 8, 'num_leaves': 78, 'min_data_in_leaf': 53, 'subsample': 0.752583139851833, 'colsample_bytree': 0.6309901041362698, 'feature_fraction': 0.5695228986892418, 'lambda_l1': 3.6750188340305563, 'lambda_l2': 2.8951437692762734}. Best is trial 2 with value: 0.0016147902822853347.\n"
     ]
    },
    {
     "name": "stdout",
     "output_type": "stream",
     "text": [
      "Training until validation scores don't improve for 30 rounds\n",
      "Early stopping, best iteration is:\n",
      "[373]\tvalid's rmse: 0.0017495\n"
     ]
    },
    {
     "name": "stderr",
     "output_type": "stream",
     "text": [
      "/opt/anaconda3/lib/python3.11/site-packages/sklearn/metrics/_regression.py:483: FutureWarning: 'squared' is deprecated in version 1.4 and will be removed in 1.6. To calculate the root mean squared error, use the function'root_mean_squared_error'.\n",
      "  warnings.warn(\n",
      "[I 2025-07-02 08:39:53,842] Trial 5 finished with value: 0.0017495026574944148 and parameters: {'learning_rate': 0.1817210569373334, 'max_depth': 13, 'num_leaves': 38, 'min_data_in_leaf': 113, 'subsample': 0.8542989187402618, 'colsample_bytree': 0.5763573168489147, 'feature_fraction': 0.7244339949248997, 'lambda_l1': 1.7962133363078898, 'lambda_l2': 1.2599089834715549}. Best is trial 2 with value: 0.0016147902822853347.\n"
     ]
    },
    {
     "name": "stdout",
     "output_type": "stream",
     "text": [
      "Training until validation scores don't improve for 30 rounds\n",
      "Early stopping, best iteration is:\n",
      "[436]\tvalid's rmse: 0.00225607\n"
     ]
    },
    {
     "name": "stderr",
     "output_type": "stream",
     "text": [
      "/opt/anaconda3/lib/python3.11/site-packages/sklearn/metrics/_regression.py:483: FutureWarning: 'squared' is deprecated in version 1.4 and will be removed in 1.6. To calculate the root mean squared error, use the function'root_mean_squared_error'.\n",
      "  warnings.warn(\n",
      "[I 2025-07-02 08:40:38,372] Trial 6 finished with value: 0.002256068709403319 and parameters: {'learning_rate': 0.11656624708187424, 'max_depth': 6, 'num_leaves': 223, 'min_data_in_leaf': 200, 'subsample': 0.606636830607007, 'colsample_bytree': 0.5237211087834894, 'feature_fraction': 0.58780420383835, 'lambda_l1': 4.764302030640709, 'lambda_l2': 1.3580765175519822}. Best is trial 2 with value: 0.0016147902822853347.\n"
     ]
    },
    {
     "name": "stdout",
     "output_type": "stream",
     "text": [
      "Training until validation scores don't improve for 30 rounds\n",
      "Early stopping, best iteration is:\n",
      "[456]\tvalid's rmse: 0.00191875\n"
     ]
    },
    {
     "name": "stderr",
     "output_type": "stream",
     "text": [
      "/opt/anaconda3/lib/python3.11/site-packages/sklearn/metrics/_regression.py:483: FutureWarning: 'squared' is deprecated in version 1.4 and will be removed in 1.6. To calculate the root mean squared error, use the function'root_mean_squared_error'.\n",
      "  warnings.warn(\n",
      "[I 2025-07-02 08:41:30,694] Trial 7 finished with value: 0.0019187522009335648 and parameters: {'learning_rate': 0.28760388084183036, 'max_depth': 11, 'num_leaves': 154, 'min_data_in_leaf': 197, 'subsample': 0.6231676732334388, 'colsample_bytree': 0.6518654536826634, 'feature_fraction': 0.5641268465721709, 'lambda_l1': 1.9626720136380094, 'lambda_l2': 4.676726791860077}. Best is trial 2 with value: 0.0016147902822853347.\n"
     ]
    },
    {
     "name": "stdout",
     "output_type": "stream",
     "text": [
      "Training until validation scores don't improve for 30 rounds\n",
      "Early stopping, best iteration is:\n",
      "[329]\tvalid's rmse: 0.00180079\n"
     ]
    },
    {
     "name": "stderr",
     "output_type": "stream",
     "text": [
      "/opt/anaconda3/lib/python3.11/site-packages/sklearn/metrics/_regression.py:483: FutureWarning: 'squared' is deprecated in version 1.4 and will be removed in 1.6. To calculate the root mean squared error, use the function'root_mean_squared_error'.\n",
      "  warnings.warn(\n",
      "[I 2025-07-02 08:41:49,404] Trial 8 finished with value: 0.0018007946088799238 and parameters: {'learning_rate': 0.2340832214967205, 'max_depth': 6, 'num_leaves': 48, 'min_data_in_leaf': 199, 'subsample': 0.7486567702324385, 'colsample_bytree': 0.9890410391182427, 'feature_fraction': 0.8476766069630947, 'lambda_l1': 2.7429507094529093, 'lambda_l2': 4.7608319686429565}. Best is trial 2 with value: 0.0016147902822853347.\n"
     ]
    },
    {
     "name": "stdout",
     "output_type": "stream",
     "text": [
      "Training until validation scores don't improve for 30 rounds\n",
      "Early stopping, best iteration is:\n",
      "[552]\tvalid's rmse: 0.00174646\n"
     ]
    },
    {
     "name": "stderr",
     "output_type": "stream",
     "text": [
      "/opt/anaconda3/lib/python3.11/site-packages/sklearn/metrics/_regression.py:483: FutureWarning: 'squared' is deprecated in version 1.4 and will be removed in 1.6. To calculate the root mean squared error, use the function'root_mean_squared_error'.\n",
      "  warnings.warn(\n",
      "[I 2025-07-02 08:42:28,700] Trial 9 finished with value: 0.0017464613817035936 and parameters: {'learning_rate': 0.11124962380395262, 'max_depth': 14, 'num_leaves': 167, 'min_data_in_leaf': 124, 'subsample': 0.6720619368939199, 'colsample_bytree': 0.586042699063438, 'feature_fraction': 0.677601939180546, 'lambda_l1': 2.3093123636607666, 'lambda_l2': 4.1500934873540825}. Best is trial 2 with value: 0.0016147902822853347.\n",
      "[LightGBM] [Fatal] Reducing `min_data_in_leaf` with `feature_pre_filter=true` may cause unexpected behaviour for features that were pre-filtered by the larger `min_data_in_leaf`.\n",
      "You need to set `feature_pre_filter=false` to dynamically change the `min_data_in_leaf`.\n",
      "[LightGBM] [Fatal] Reducing `min_data_in_leaf` with `feature_pre_filter=true` may cause unexpected behaviour for features that were pre-filtered by the larger `min_data_in_leaf`.\n",
      "You need to set `feature_pre_filter=false` to dynamically change the `min_data_in_leaf`.\n"
     ]
    },
    {
     "name": "stdout",
     "output_type": "stream",
     "text": [
      "Training until validation scores don't improve for 30 rounds\n",
      "Early stopping, best iteration is:\n",
      "[416]\tvalid's rmse: 0.00163769\n"
     ]
    },
    {
     "name": "stderr",
     "output_type": "stream",
     "text": [
      "/opt/anaconda3/lib/python3.11/site-packages/sklearn/metrics/_regression.py:483: FutureWarning: 'squared' is deprecated in version 1.4 and will be removed in 1.6. To calculate the root mean squared error, use the function'root_mean_squared_error'.\n",
      "  warnings.warn(\n",
      "[I 2025-07-02 08:42:51,009] Trial 10 finished with value: 0.001637693398867005 and parameters: {'learning_rate': 0.2988663057352953, 'max_depth': 16, 'num_leaves': 22, 'min_data_in_leaf': 26, 'subsample': 0.5429982320607056, 'colsample_bytree': 0.8215816305814306, 'feature_fraction': 0.9909421390846229, 'lambda_l1': 0.15139575570890437, 'lambda_l2': 0.47802266091022894}. Best is trial 2 with value: 0.0016147902822853347.\n",
      "[LightGBM] [Fatal] Reducing `min_data_in_leaf` with `feature_pre_filter=true` may cause unexpected behaviour for features that were pre-filtered by the larger `min_data_in_leaf`.\n",
      "You need to set `feature_pre_filter=false` to dynamically change the `min_data_in_leaf`.\n",
      "[LightGBM] [Fatal] Reducing `min_data_in_leaf` with `feature_pre_filter=true` may cause unexpected behaviour for features that were pre-filtered by the larger `min_data_in_leaf`.\n",
      "You need to set `feature_pre_filter=false` to dynamically change the `min_data_in_leaf`.\n"
     ]
    },
    {
     "name": "stdout",
     "output_type": "stream",
     "text": [
      "Training until validation scores don't improve for 30 rounds\n",
      "Early stopping, best iteration is:\n",
      "[151]\tvalid's rmse: 0.00175218\n"
     ]
    },
    {
     "name": "stderr",
     "output_type": "stream",
     "text": [
      "/opt/anaconda3/lib/python3.11/site-packages/sklearn/metrics/_regression.py:483: FutureWarning: 'squared' is deprecated in version 1.4 and will be removed in 1.6. To calculate the root mean squared error, use the function'root_mean_squared_error'.\n",
      "  warnings.warn(\n",
      "[I 2025-07-02 08:43:02,458] Trial 11 finished with value: 0.0017521805131746867 and parameters: {'learning_rate': 0.2989554307074904, 'max_depth': 16, 'num_leaves': 23, 'min_data_in_leaf': 24, 'subsample': 0.5280323698038691, 'colsample_bytree': 0.8243568618419317, 'feature_fraction': 0.9781195689155483, 'lambda_l1': 0.03311405153092316, 'lambda_l2': 0.3893135998765791}. Best is trial 2 with value: 0.0016147902822853347.\n"
     ]
    },
    {
     "name": "stdout",
     "output_type": "stream",
     "text": [
      "Training until validation scores don't improve for 30 rounds\n",
      "Early stopping, best iteration is:\n",
      "[332]\tvalid's rmse: 0.00150403\n"
     ]
    },
    {
     "name": "stderr",
     "output_type": "stream",
     "text": [
      "/opt/anaconda3/lib/python3.11/site-packages/sklearn/metrics/_regression.py:483: FutureWarning: 'squared' is deprecated in version 1.4 and will be removed in 1.6. To calculate the root mean squared error, use the function'root_mean_squared_error'.\n",
      "  warnings.warn(\n",
      "[I 2025-07-02 08:43:31,662] Trial 12 finished with value: 0.0015040265367002746 and parameters: {'learning_rate': 0.25242422571391226, 'max_depth': 14, 'num_leaves': 95, 'min_data_in_leaf': 76, 'subsample': 0.5165123660521096, 'colsample_bytree': 0.8764516164675153, 'feature_fraction': 0.9960387088347841, 'lambda_l1': 0.09474291641612685, 'lambda_l2': 0.015589099051965538}. Best is trial 12 with value: 0.0015040265367002746.\n"
     ]
    },
    {
     "name": "stdout",
     "output_type": "stream",
     "text": [
      "Training until validation scores don't improve for 30 rounds\n",
      "Early stopping, best iteration is:\n",
      "[392]\tvalid's rmse: 0.00161923\n"
     ]
    },
    {
     "name": "stderr",
     "output_type": "stream",
     "text": [
      "/opt/anaconda3/lib/python3.11/site-packages/sklearn/metrics/_regression.py:483: FutureWarning: 'squared' is deprecated in version 1.4 and will be removed in 1.6. To calculate the root mean squared error, use the function'root_mean_squared_error'.\n",
      "  warnings.warn(\n",
      "[I 2025-07-02 08:44:01,923] Trial 13 finished with value: 0.0016192252150379522 and parameters: {'learning_rate': 0.24164506080269946, 'max_depth': 13, 'num_leaves': 114, 'min_data_in_leaf': 83, 'subsample': 0.9969426318109256, 'colsample_bytree': 0.9500501473544256, 'feature_fraction': 0.8302559295096786, 'lambda_l1': 0.9090602389681541, 'lambda_l2': 0.0472289433909836}. Best is trial 12 with value: 0.0015040265367002746.\n"
     ]
    },
    {
     "name": "stdout",
     "output_type": "stream",
     "text": [
      "Training until validation scores don't improve for 30 rounds\n",
      "Early stopping, best iteration is:\n",
      "[340]\tvalid's rmse: 0.00159254\n"
     ]
    },
    {
     "name": "stderr",
     "output_type": "stream",
     "text": [
      "/opt/anaconda3/lib/python3.11/site-packages/sklearn/metrics/_regression.py:483: FutureWarning: 'squared' is deprecated in version 1.4 and will be removed in 1.6. To calculate the root mean squared error, use the function'root_mean_squared_error'.\n",
      "  warnings.warn(\n",
      "[I 2025-07-02 08:44:26,895] Trial 14 finished with value: 0.0015925393513090956 and parameters: {'learning_rate': 0.24619391145912356, 'max_depth': 14, 'num_leaves': 80, 'min_data_in_leaf': 78, 'subsample': 0.6722658887645069, 'colsample_bytree': 0.9048463786357106, 'feature_fraction': 0.8655239258825902, 'lambda_l1': 1.0174465714246987, 'lambda_l2': 1.980785762023567}. Best is trial 12 with value: 0.0015040265367002746.\n"
     ]
    },
    {
     "name": "stdout",
     "output_type": "stream",
     "text": [
      "Training until validation scores don't improve for 30 rounds\n",
      "Early stopping, best iteration is:\n",
      "[375]\tvalid's rmse: 0.00156894\n"
     ]
    },
    {
     "name": "stderr",
     "output_type": "stream",
     "text": [
      "/opt/anaconda3/lib/python3.11/site-packages/sklearn/metrics/_regression.py:483: FutureWarning: 'squared' is deprecated in version 1.4 and will be removed in 1.6. To calculate the root mean squared error, use the function'root_mean_squared_error'.\n",
      "  warnings.warn(\n",
      "[I 2025-07-02 08:44:54,184] Trial 15 finished with value: 0.0015689398247076664 and parameters: {'learning_rate': 0.2482208239526536, 'max_depth': 14, 'num_leaves': 105, 'min_data_in_leaf': 138, 'subsample': 0.5012248208681898, 'colsample_bytree': 0.9032273967626072, 'feature_fraction': 0.8941851153680282, 'lambda_l1': 1.1387757192454022, 'lambda_l2': 1.9806562696530494}. Best is trial 12 with value: 0.0015040265367002746.\n"
     ]
    },
    {
     "name": "stdout",
     "output_type": "stream",
     "text": [
      "Training until validation scores don't improve for 30 rounds\n",
      "Early stopping, best iteration is:\n",
      "[535]\tvalid's rmse: 0.00154985\n"
     ]
    },
    {
     "name": "stderr",
     "output_type": "stream",
     "text": [
      "/opt/anaconda3/lib/python3.11/site-packages/sklearn/metrics/_regression.py:483: FutureWarning: 'squared' is deprecated in version 1.4 and will be removed in 1.6. To calculate the root mean squared error, use the function'root_mean_squared_error'.\n",
      "  warnings.warn(\n",
      "[I 2025-07-02 08:45:28,981] Trial 16 finished with value: 0.0015498542888703539 and parameters: {'learning_rate': 0.20090287517321043, 'max_depth': 12, 'num_leaves': 179, 'min_data_in_leaf': 155, 'subsample': 0.5066499077654422, 'colsample_bytree': 0.8873469942973609, 'feature_fraction': 0.914816547608548, 'lambda_l1': 1.2099689391080994, 'lambda_l2': 2.0597615649029146}. Best is trial 12 with value: 0.0015040265367002746.\n"
     ]
    },
    {
     "name": "stdout",
     "output_type": "stream",
     "text": [
      "Training until validation scores don't improve for 30 rounds\n",
      "Early stopping, best iteration is:\n",
      "[606]\tvalid's rmse: 0.00147678\n"
     ]
    },
    {
     "name": "stderr",
     "output_type": "stream",
     "text": [
      "/opt/anaconda3/lib/python3.11/site-packages/sklearn/metrics/_regression.py:483: FutureWarning: 'squared' is deprecated in version 1.4 and will be removed in 1.6. To calculate the root mean squared error, use the function'root_mean_squared_error'.\n",
      "  warnings.warn(\n",
      "[I 2025-07-02 08:46:16,350] Trial 17 finished with value: 0.0014767794932321978 and parameters: {'learning_rate': 0.20432423889178847, 'max_depth': 12, 'num_leaves': 189, 'min_data_in_leaf': 160, 'subsample': 0.5698283033225927, 'colsample_bytree': 0.7719978774228652, 'feature_fraction': 0.9352509396807167, 'lambda_l1': 0.6489102637788136, 'lambda_l2': 3.079289037233597}. Best is trial 17 with value: 0.0014767794932321978.\n"
     ]
    },
    {
     "name": "stdout",
     "output_type": "stream",
     "text": [
      "Training until validation scores don't improve for 30 rounds\n",
      "Early stopping, best iteration is:\n",
      "[824]\tvalid's rmse: 0.00144128\n"
     ]
    },
    {
     "name": "stderr",
     "output_type": "stream",
     "text": [
      "/opt/anaconda3/lib/python3.11/site-packages/sklearn/metrics/_regression.py:483: FutureWarning: 'squared' is deprecated in version 1.4 and will be removed in 1.6. To calculate the root mean squared error, use the function'root_mean_squared_error'.\n",
      "  warnings.warn(\n",
      "[I 2025-07-02 08:47:22,373] Trial 18 finished with value: 0.0014412840090144519 and parameters: {'learning_rate': 0.12788201587806972, 'max_depth': 10, 'num_leaves': 195, 'min_data_in_leaf': 162, 'subsample': 0.57347213440609, 'colsample_bytree': 0.7505905995929801, 'feature_fraction': 0.7931244695410469, 'lambda_l1': 0.6388112677844743, 'lambda_l2': 3.3428960988659897}. Best is trial 18 with value: 0.0014412840090144519.\n"
     ]
    },
    {
     "name": "stdout",
     "output_type": "stream",
     "text": [
      "Training until validation scores don't improve for 30 rounds\n",
      "Early stopping, best iteration is:\n",
      "[970]\tvalid's rmse: 0.00144606\n"
     ]
    },
    {
     "name": "stderr",
     "output_type": "stream",
     "text": [
      "/opt/anaconda3/lib/python3.11/site-packages/sklearn/metrics/_regression.py:483: FutureWarning: 'squared' is deprecated in version 1.4 and will be removed in 1.6. To calculate the root mean squared error, use the function'root_mean_squared_error'.\n",
      "  warnings.warn(\n",
      "[I 2025-07-02 08:48:38,120] Trial 19 finished with value: 0.0014460551664817727 and parameters: {'learning_rate': 0.10781558513814625, 'max_depth': 10, 'num_leaves': 196, 'min_data_in_leaf': 156, 'subsample': 0.579580500855255, 'colsample_bytree': 0.7374165743812308, 'feature_fraction': 0.7867815383245312, 'lambda_l1': 0.6496149744914974, 'lambda_l2': 3.133672991995826}. Best is trial 18 with value: 0.0014412840090144519.\n"
     ]
    },
    {
     "name": "stdout",
     "output_type": "stream",
     "text": [
      "Training until validation scores don't improve for 30 rounds\n",
      "Did not meet early stopping. Best iteration is:\n",
      "[997]\tvalid's rmse: 0.00156464\n"
     ]
    },
    {
     "name": "stderr",
     "output_type": "stream",
     "text": [
      "/opt/anaconda3/lib/python3.11/site-packages/sklearn/metrics/_regression.py:483: FutureWarning: 'squared' is deprecated in version 1.4 and will be removed in 1.6. To calculate the root mean squared error, use the function'root_mean_squared_error'.\n",
      "  warnings.warn(\n",
      "[I 2025-07-02 08:49:44,060] Trial 20 finished with value: 0.0015646402798589567 and parameters: {'learning_rate': 0.07615980904248554, 'max_depth': 10, 'num_leaves': 254, 'min_data_in_leaf': 167, 'subsample': 0.6606382490517596, 'colsample_bytree': 0.7242138261594906, 'feature_fraction': 0.7916318108727194, 'lambda_l1': 1.5679992871922148, 'lambda_l2': 3.343630847804376}. Best is trial 18 with value: 0.0014412840090144519.\n"
     ]
    },
    {
     "name": "stdout",
     "output_type": "stream",
     "text": [
      "Training until validation scores don't improve for 30 rounds\n",
      "Early stopping, best iteration is:\n",
      "[921]\tvalid's rmse: 0.00147811\n"
     ]
    },
    {
     "name": "stderr",
     "output_type": "stream",
     "text": [
      "/opt/anaconda3/lib/python3.11/site-packages/sklearn/metrics/_regression.py:483: FutureWarning: 'squared' is deprecated in version 1.4 and will be removed in 1.6. To calculate the root mean squared error, use the function'root_mean_squared_error'.\n",
      "  warnings.warn(\n",
      "[I 2025-07-02 08:51:03,869] Trial 21 finished with value: 0.0014781101993799905 and parameters: {'learning_rate': 0.11680718233033657, 'max_depth': 9, 'num_leaves': 197, 'min_data_in_leaf': 152, 'subsample': 0.5817475509689528, 'colsample_bytree': 0.7663762137226332, 'feature_fraction': 0.7817506615455875, 'lambda_l1': 0.6377575680677244, 'lambda_l2': 3.255730564322013}. Best is trial 18 with value: 0.0014412840090144519.\n"
     ]
    },
    {
     "name": "stdout",
     "output_type": "stream",
     "text": [
      "Training until validation scores don't improve for 30 rounds\n",
      "Did not meet early stopping. Best iteration is:\n",
      "[1000]\tvalid's rmse: 0.00144748\n"
     ]
    },
    {
     "name": "stderr",
     "output_type": "stream",
     "text": [
      "/opt/anaconda3/lib/python3.11/site-packages/sklearn/metrics/_regression.py:483: FutureWarning: 'squared' is deprecated in version 1.4 and will be removed in 1.6. To calculate the root mean squared error, use the function'root_mean_squared_error'.\n",
      "  warnings.warn(\n",
      "[I 2025-07-02 08:52:55,332] Trial 22 finished with value: 0.0014474776108449065 and parameters: {'learning_rate': 0.06922382926699855, 'max_depth': 11, 'num_leaves': 204, 'min_data_in_leaf': 171, 'subsample': 0.578331348883319, 'colsample_bytree': 0.7644890076986445, 'feature_fraction': 0.6514342058217594, 'lambda_l1': 0.5480416798796162, 'lambda_l2': 3.64782600721336}. Best is trial 18 with value: 0.0014412840090144519.\n"
     ]
    },
    {
     "name": "stdout",
     "output_type": "stream",
     "text": [
      "Training until validation scores don't improve for 30 rounds\n",
      "Did not meet early stopping. Best iteration is:\n",
      "[1000]\tvalid's rmse: 0.0015988\n"
     ]
    },
    {
     "name": "stderr",
     "output_type": "stream",
     "text": [
      "/opt/anaconda3/lib/python3.11/site-packages/sklearn/metrics/_regression.py:483: FutureWarning: 'squared' is deprecated in version 1.4 and will be removed in 1.6. To calculate the root mean squared error, use the function'root_mean_squared_error'.\n",
      "  warnings.warn(\n",
      "[I 2025-07-02 08:54:18,435] Trial 23 finished with value: 0.0015988024915569881 and parameters: {'learning_rate': 0.06936510523103707, 'max_depth': 10, 'num_leaves': 212, 'min_data_in_leaf': 175, 'subsample': 0.630218936209943, 'colsample_bytree': 0.6919716162367899, 'feature_fraction': 0.6795204297123248, 'lambda_l1': 1.4630039231322796, 'lambda_l2': 3.7483207609017484}. Best is trial 18 with value: 0.0014412840090144519.\n"
     ]
    },
    {
     "name": "stdout",
     "output_type": "stream",
     "text": [
      "Training until validation scores don't improve for 30 rounds\n",
      "Did not meet early stopping. Best iteration is:\n",
      "[999]\tvalid's rmse: 0.0014965\n"
     ]
    },
    {
     "name": "stderr",
     "output_type": "stream",
     "text": [
      "/opt/anaconda3/lib/python3.11/site-packages/sklearn/metrics/_regression.py:483: FutureWarning: 'squared' is deprecated in version 1.4 and will be removed in 1.6. To calculate the root mean squared error, use the function'root_mean_squared_error'.\n",
      "  warnings.warn(\n",
      "[I 2025-07-02 08:56:35,135] Trial 24 finished with value: 0.0014964998555612992 and parameters: {'learning_rate': 0.07255428937668879, 'max_depth': 8, 'num_leaves': 254, 'min_data_in_leaf': 139, 'subsample': 0.5646718999664273, 'colsample_bytree': 0.7832866899469371, 'feature_fraction': 0.5120207490397191, 'lambda_l1': 0.6669421681467559, 'lambda_l2': 4.183120931605124}. Best is trial 18 with value: 0.0014412840090144519.\n"
     ]
    },
    {
     "name": "stdout",
     "output_type": "stream",
     "text": [
      "Training until validation scores don't improve for 30 rounds\n",
      "Did not meet early stopping. Best iteration is:\n",
      "[1000]\tvalid's rmse: 0.00204997\n"
     ]
    },
    {
     "name": "stderr",
     "output_type": "stream",
     "text": [
      "/opt/anaconda3/lib/python3.11/site-packages/sklearn/metrics/_regression.py:483: FutureWarning: 'squared' is deprecated in version 1.4 and will be removed in 1.6. To calculate the root mean squared error, use the function'root_mean_squared_error'.\n",
      "  warnings.warn(\n",
      "[I 2025-07-02 08:58:06,071] Trial 25 finished with value: 0.0020499749637637216 and parameters: {'learning_rate': 0.02320785735375145, 'max_depth': 11, 'num_leaves': 142, 'min_data_in_leaf': 183, 'subsample': 0.7082417918194995, 'colsample_bytree': 0.6969843414502963, 'feature_fraction': 0.6387727600758798, 'lambda_l1': 2.727810014353711, 'lambda_l2': 2.4214633054609562}. Best is trial 18 with value: 0.0014412840090144519.\n"
     ]
    },
    {
     "name": "stdout",
     "output_type": "stream",
     "text": [
      "Training until validation scores don't improve for 30 rounds\n",
      "Did not meet early stopping. Best iteration is:\n",
      "[1000]\tvalid's rmse: 0.00147859\n"
     ]
    },
    {
     "name": "stderr",
     "output_type": "stream",
     "text": [
      "/opt/anaconda3/lib/python3.11/site-packages/sklearn/metrics/_regression.py:483: FutureWarning: 'squared' is deprecated in version 1.4 and will be removed in 1.6. To calculate the root mean squared error, use the function'root_mean_squared_error'.\n",
      "  warnings.warn(\n",
      "[I 2025-07-02 08:59:25,971] Trial 26 finished with value: 0.0014785869134636166 and parameters: {'learning_rate': 0.09579176748134965, 'max_depth': 9, 'num_leaves': 206, 'min_data_in_leaf': 139, 'subsample': 0.5983403180352109, 'colsample_bytree': 0.6517977321458419, 'feature_fraction': 0.7775070603411725, 'lambda_l1': 0.6092307507286405, 'lambda_l2': 3.6463187699699797}. Best is trial 18 with value: 0.0014412840090144519.\n"
     ]
    },
    {
     "name": "stdout",
     "output_type": "stream",
     "text": [
      "Training until validation scores don't improve for 30 rounds\n",
      "Early stopping, best iteration is:\n",
      "[474]\tvalid's rmse: 0.00169367\n"
     ]
    },
    {
     "name": "stderr",
     "output_type": "stream",
     "text": [
      "/opt/anaconda3/lib/python3.11/site-packages/sklearn/metrics/_regression.py:483: FutureWarning: 'squared' is deprecated in version 1.4 and will be removed in 1.6. To calculate the root mean squared error, use the function'root_mean_squared_error'.\n",
      "  warnings.warn(\n",
      "[I 2025-07-02 08:59:55,890] Trial 27 finished with value: 0.001693666592664969 and parameters: {'learning_rate': 0.15055456853766944, 'max_depth': 11, 'num_leaves': 234, 'min_data_in_leaf': 177, 'subsample': 0.6436254271551992, 'colsample_bytree': 0.7477758810375046, 'feature_fraction': 0.815614345058977, 'lambda_l1': 2.206039107233291, 'lambda_l2': 4.216068420477715}. Best is trial 18 with value: 0.0014412840090144519.\n"
     ]
    },
    {
     "name": "stdout",
     "output_type": "stream",
     "text": [
      "Training until validation scores don't improve for 30 rounds\n",
      "Did not meet early stopping. Best iteration is:\n",
      "[1000]\tvalid's rmse: 0.0015994\n"
     ]
    },
    {
     "name": "stderr",
     "output_type": "stream",
     "text": [
      "/opt/anaconda3/lib/python3.11/site-packages/sklearn/metrics/_regression.py:483: FutureWarning: 'squared' is deprecated in version 1.4 and will be removed in 1.6. To calculate the root mean squared error, use the function'root_mean_squared_error'.\n",
      "  warnings.warn(\n",
      "[I 2025-07-02 09:01:25,849] Trial 28 finished with value: 0.0015994000202537572 and parameters: {'learning_rate': 0.045183818915998264, 'max_depth': 9, 'num_leaves': 171, 'min_data_in_leaf': 130, 'subsample': 0.5648953690658101, 'colsample_bytree': 0.8003052675620878, 'feature_fraction': 0.7522889038178767, 'lambda_l1': 1.3910652768769411, 'lambda_l2': 2.306180234955027}. Best is trial 18 with value: 0.0014412840090144519.\n"
     ]
    },
    {
     "name": "stdout",
     "output_type": "stream",
     "text": [
      "Training until validation scores don't improve for 30 rounds\n",
      "Did not meet early stopping. Best iteration is:\n",
      "[1000]\tvalid's rmse: 0.00149813\n"
     ]
    },
    {
     "name": "stderr",
     "output_type": "stream",
     "text": [
      "/opt/anaconda3/lib/python3.11/site-packages/sklearn/metrics/_regression.py:483: FutureWarning: 'squared' is deprecated in version 1.4 and will be removed in 1.6. To calculate the root mean squared error, use the function'root_mean_squared_error'.\n",
      "  warnings.warn(\n",
      "[I 2025-07-02 09:02:51,339] Trial 29 finished with value: 0.0014981333135677187 and parameters: {'learning_rate': 0.14441236088825055, 'max_depth': 7, 'num_leaves': 230, 'min_data_in_leaf': 96, 'subsample': 0.8183883576508371, 'colsample_bytree': 0.7388576272686012, 'feature_fraction': 0.6654807244467024, 'lambda_l1': 0.3603514184500579, 'lambda_l2': 3.461934876455398}. Best is trial 18 with value: 0.0014412840090144519.\n"
     ]
    },
    {
     "name": "stdout",
     "output_type": "stream",
     "text": [
      "📌 Mejores hiperparámetros para cluster 4:\n",
      "   learning_rate: 0.12788201587806972\n",
      "   max_depth: 10\n",
      "   num_leaves: 195\n",
      "   min_data_in_leaf: 162\n",
      "   subsample: 0.57347213440609\n",
      "   colsample_bytree: 0.7505905995929801\n",
      "   feature_fraction: 0.7931244695410469\n",
      "   lambda_l1: 0.6388112677844743\n",
      "   lambda_l2: 3.3428960988659897\n",
      "   objective: regression\n",
      "   metric: rmse\n",
      "   verbose: -1\n",
      "Training until validation scores don't improve for 50 rounds\n",
      "[100]\tvalid's rmse: 0.00209631\n",
      "[200]\tvalid's rmse: 0.00171485\n",
      "[300]\tvalid's rmse: 0.00156798\n",
      "[400]\tvalid's rmse: 0.0015084\n",
      "[500]\tvalid's rmse: 0.00147552\n",
      "[600]\tvalid's rmse: 0.00145872\n",
      "[700]\tvalid's rmse: 0.0014474\n",
      "[800]\tvalid's rmse: 0.00144229\n",
      "Early stopping, best iteration is:\n",
      "[824]\tvalid's rmse: 0.00144128\n",
      "✅ Modelo guardado en lightgbm_cluster_4.txt\n",
      "\n",
      "🔄 Entrenando modelo para cluster 5...\n"
     ]
    },
    {
     "name": "stderr",
     "output_type": "stream",
     "text": [
      "[I 2025-07-02 09:03:57,115] A new study created in memory with name: no-name-6aa9cf35-a8cc-435a-879f-8781e6c46d0b\n"
     ]
    },
    {
     "name": "stdout",
     "output_type": "stream",
     "text": [
      "Training until validation scores don't improve for 30 rounds\n",
      "Early stopping, best iteration is:\n",
      "[401]\tvalid's rmse: 0.0017393\n"
     ]
    },
    {
     "name": "stderr",
     "output_type": "stream",
     "text": [
      "/opt/anaconda3/lib/python3.11/site-packages/sklearn/metrics/_regression.py:483: FutureWarning: 'squared' is deprecated in version 1.4 and will be removed in 1.6. To calculate the root mean squared error, use the function'root_mean_squared_error'.\n",
      "  warnings.warn(\n",
      "[I 2025-07-02 09:04:19,804] Trial 0 finished with value: 0.00173930326532931 and parameters: {'learning_rate': 0.0904373106716612, 'max_depth': 12, 'num_leaves': 62, 'min_data_in_leaf': 159, 'subsample': 0.9145706170204656, 'colsample_bytree': 0.6707560807628238, 'feature_fraction': 0.8887712214231527, 'lambda_l1': 4.469904438110481, 'lambda_l2': 0.23949614820055365}. Best is trial 0 with value: 0.00173930326532931.\n",
      "[LightGBM] [Fatal] Reducing `min_data_in_leaf` with `feature_pre_filter=true` may cause unexpected behaviour for features that were pre-filtered by the larger `min_data_in_leaf`.\n",
      "You need to set `feature_pre_filter=false` to dynamically change the `min_data_in_leaf`.\n",
      "[LightGBM] [Fatal] Reducing `min_data_in_leaf` with `feature_pre_filter=true` may cause unexpected behaviour for features that were pre-filtered by the larger `min_data_in_leaf`.\n",
      "You need to set `feature_pre_filter=false` to dynamically change the `min_data_in_leaf`.\n"
     ]
    },
    {
     "name": "stdout",
     "output_type": "stream",
     "text": [
      "Training until validation scores don't improve for 30 rounds\n",
      "Did not meet early stopping. Best iteration is:\n",
      "[1000]\tvalid's rmse: 0.00161394\n"
     ]
    },
    {
     "name": "stderr",
     "output_type": "stream",
     "text": [
      "/opt/anaconda3/lib/python3.11/site-packages/sklearn/metrics/_regression.py:483: FutureWarning: 'squared' is deprecated in version 1.4 and will be removed in 1.6. To calculate the root mean squared error, use the function'root_mean_squared_error'.\n",
      "  warnings.warn(\n",
      "[I 2025-07-02 09:05:13,690] Trial 1 finished with value: 0.0016139430889176877 and parameters: {'learning_rate': 0.018711018345717964, 'max_depth': 9, 'num_leaves': 71, 'min_data_in_leaf': 87, 'subsample': 0.8272662887976938, 'colsample_bytree': 0.8405695069034982, 'feature_fraction': 0.9012006466715539, 'lambda_l1': 3.2114764147966812, 'lambda_l2': 0.26156480128719517}. Best is trial 1 with value: 0.0016139430889176877.\n"
     ]
    },
    {
     "name": "stdout",
     "output_type": "stream",
     "text": [
      "Training until validation scores don't improve for 30 rounds\n",
      "Early stopping, best iteration is:\n",
      "[346]\tvalid's rmse: 0.00176529\n"
     ]
    },
    {
     "name": "stderr",
     "output_type": "stream",
     "text": [
      "/opt/anaconda3/lib/python3.11/site-packages/sklearn/metrics/_regression.py:483: FutureWarning: 'squared' is deprecated in version 1.4 and will be removed in 1.6. To calculate the root mean squared error, use the function'root_mean_squared_error'.\n",
      "  warnings.warn(\n",
      "[I 2025-07-02 09:05:40,285] Trial 2 finished with value: 0.0017652880581417079 and parameters: {'learning_rate': 0.20486388720882898, 'max_depth': 10, 'num_leaves': 206, 'min_data_in_leaf': 136, 'subsample': 0.7189068901995308, 'colsample_bytree': 0.9216381387838365, 'feature_fraction': 0.5922116790796706, 'lambda_l1': 3.4956052201930907, 'lambda_l2': 2.0749093817227697}. Best is trial 1 with value: 0.0016139430889176877.\n"
     ]
    },
    {
     "name": "stdout",
     "output_type": "stream",
     "text": [
      "Training until validation scores don't improve for 30 rounds\n",
      "Early stopping, best iteration is:\n",
      "[248]\tvalid's rmse: 0.00169995\n"
     ]
    },
    {
     "name": "stderr",
     "output_type": "stream",
     "text": [
      "/opt/anaconda3/lib/python3.11/site-packages/sklearn/metrics/_regression.py:483: FutureWarning: 'squared' is deprecated in version 1.4 and will be removed in 1.6. To calculate the root mean squared error, use the function'root_mean_squared_error'.\n",
      "  warnings.warn(\n",
      "[I 2025-07-02 09:05:51,889] Trial 3 finished with value: 0.0016999469214024564 and parameters: {'learning_rate': 0.2871227247875498, 'max_depth': 9, 'num_leaves': 25, 'min_data_in_leaf': 189, 'subsample': 0.9155804580188409, 'colsample_bytree': 0.7618403313265043, 'feature_fraction': 0.7020566567595554, 'lambda_l1': 3.7836757821517852, 'lambda_l2': 1.8581093827599133}. Best is trial 1 with value: 0.0016139430889176877.\n",
      "[LightGBM] [Fatal] Reducing `min_data_in_leaf` with `feature_pre_filter=true` may cause unexpected behaviour for features that were pre-filtered by the larger `min_data_in_leaf`.\n",
      "You need to set `feature_pre_filter=false` to dynamically change the `min_data_in_leaf`.\n",
      "[LightGBM] [Fatal] Reducing `min_data_in_leaf` with `feature_pre_filter=true` may cause unexpected behaviour for features that were pre-filtered by the larger `min_data_in_leaf`.\n",
      "You need to set `feature_pre_filter=false` to dynamically change the `min_data_in_leaf`.\n"
     ]
    },
    {
     "name": "stdout",
     "output_type": "stream",
     "text": [
      "Training until validation scores don't improve for 30 rounds\n",
      "Early stopping, best iteration is:\n",
      "[515]\tvalid's rmse: 0.0016381\n"
     ]
    },
    {
     "name": "stderr",
     "output_type": "stream",
     "text": [
      "/opt/anaconda3/lib/python3.11/site-packages/sklearn/metrics/_regression.py:483: FutureWarning: 'squared' is deprecated in version 1.4 and will be removed in 1.6. To calculate the root mean squared error, use the function'root_mean_squared_error'.\n",
      "  warnings.warn(\n",
      "[I 2025-07-02 09:06:20,047] Trial 4 finished with value: 0.0016381028265646765 and parameters: {'learning_rate': 0.042966273626865656, 'max_depth': 8, 'num_leaves': 131, 'min_data_in_leaf': 66, 'subsample': 0.5134455942188363, 'colsample_bytree': 0.9934805780634132, 'feature_fraction': 0.9288716929587443, 'lambda_l1': 4.510042989445165, 'lambda_l2': 3.7388824332218684}. Best is trial 1 with value: 0.0016139430889176877.\n"
     ]
    },
    {
     "name": "stdout",
     "output_type": "stream",
     "text": [
      "Training until validation scores don't improve for 30 rounds\n",
      "Early stopping, best iteration is:\n",
      "[358]\tvalid's rmse: 0.00128277\n"
     ]
    },
    {
     "name": "stderr",
     "output_type": "stream",
     "text": [
      "/opt/anaconda3/lib/python3.11/site-packages/sklearn/metrics/_regression.py:483: FutureWarning: 'squared' is deprecated in version 1.4 and will be removed in 1.6. To calculate the root mean squared error, use the function'root_mean_squared_error'.\n",
      "  warnings.warn(\n",
      "[I 2025-07-02 09:06:38,510] Trial 5 finished with value: 0.001282772232247101 and parameters: {'learning_rate': 0.26529632426200306, 'max_depth': 14, 'num_leaves': 144, 'min_data_in_leaf': 90, 'subsample': 0.6938676851445404, 'colsample_bytree': 0.980433758148214, 'feature_fraction': 0.8942982981436505, 'lambda_l1': 1.1874544728539465, 'lambda_l2': 4.925279312385174}. Best is trial 5 with value: 0.001282772232247101.\n"
     ]
    },
    {
     "name": "stdout",
     "output_type": "stream",
     "text": [
      "Training until validation scores don't improve for 30 rounds\n",
      "Did not meet early stopping. Best iteration is:\n",
      "[1000]\tvalid's rmse: 0.00154137\n"
     ]
    },
    {
     "name": "stderr",
     "output_type": "stream",
     "text": [
      "/opt/anaconda3/lib/python3.11/site-packages/sklearn/metrics/_regression.py:483: FutureWarning: 'squared' is deprecated in version 1.4 and will be removed in 1.6. To calculate the root mean squared error, use the function'root_mean_squared_error'.\n",
      "  warnings.warn(\n",
      "[I 2025-07-02 09:09:06,322] Trial 6 finished with value: 0.0015413658314763707 and parameters: {'learning_rate': 0.015576407634543883, 'max_depth': 12, 'num_leaves': 161, 'min_data_in_leaf': 94, 'subsample': 0.7691011710830148, 'colsample_bytree': 0.7885694437372681, 'feature_fraction': 0.5194609997359545, 'lambda_l1': 2.0722808247074513, 'lambda_l2': 2.0085898731816165}. Best is trial 5 with value: 0.001282772232247101.\n"
     ]
    },
    {
     "name": "stdout",
     "output_type": "stream",
     "text": [
      "Training until validation scores don't improve for 30 rounds\n",
      "Early stopping, best iteration is:\n",
      "[247]\tvalid's rmse: 0.00160727\n"
     ]
    },
    {
     "name": "stderr",
     "output_type": "stream",
     "text": [
      "/opt/anaconda3/lib/python3.11/site-packages/sklearn/metrics/_regression.py:483: FutureWarning: 'squared' is deprecated in version 1.4 and will be removed in 1.6. To calculate the root mean squared error, use the function'root_mean_squared_error'.\n",
      "  warnings.warn(\n",
      "[I 2025-07-02 09:09:24,720] Trial 7 finished with value: 0.0016072733928379555 and parameters: {'learning_rate': 0.2796249778143093, 'max_depth': 6, 'num_leaves': 86, 'min_data_in_leaf': 187, 'subsample': 0.6823880490023249, 'colsample_bytree': 0.7569420227704436, 'feature_fraction': 0.6920657628305628, 'lambda_l1': 2.8820056272990935, 'lambda_l2': 0.08855489751719348}. Best is trial 5 with value: 0.001282772232247101.\n"
     ]
    },
    {
     "name": "stdout",
     "output_type": "stream",
     "text": [
      "Training until validation scores don't improve for 30 rounds\n",
      "Early stopping, best iteration is:\n",
      "[533]\tvalid's rmse: 0.00165395\n"
     ]
    },
    {
     "name": "stderr",
     "output_type": "stream",
     "text": [
      "/opt/anaconda3/lib/python3.11/site-packages/sklearn/metrics/_regression.py:483: FutureWarning: 'squared' is deprecated in version 1.4 and will be removed in 1.6. To calculate the root mean squared error, use the function'root_mean_squared_error'.\n",
      "  warnings.warn(\n",
      "[I 2025-07-02 09:10:01,489] Trial 8 finished with value: 0.0016539521723576435 and parameters: {'learning_rate': 0.1287403193283075, 'max_depth': 16, 'num_leaves': 71, 'min_data_in_leaf': 199, 'subsample': 0.8454957625975804, 'colsample_bytree': 0.8098653847999789, 'feature_fraction': 0.8543932024621201, 'lambda_l1': 3.1763117038350694, 'lambda_l2': 2.174462783258124}. Best is trial 5 with value: 0.001282772232247101.\n"
     ]
    },
    {
     "name": "stdout",
     "output_type": "stream",
     "text": [
      "Training until validation scores don't improve for 30 rounds\n",
      "Early stopping, best iteration is:\n",
      "[676]\tvalid's rmse: 0.00160327\n"
     ]
    },
    {
     "name": "stderr",
     "output_type": "stream",
     "text": [
      "/opt/anaconda3/lib/python3.11/site-packages/sklearn/metrics/_regression.py:483: FutureWarning: 'squared' is deprecated in version 1.4 and will be removed in 1.6. To calculate the root mean squared error, use the function'root_mean_squared_error'.\n",
      "  warnings.warn(\n",
      "[I 2025-07-02 09:10:43,133] Trial 9 finished with value: 0.001603266432763645 and parameters: {'learning_rate': 0.0683676299309419, 'max_depth': 11, 'num_leaves': 213, 'min_data_in_leaf': 99, 'subsample': 0.6921675695369955, 'colsample_bytree': 0.5949354341352954, 'feature_fraction': 0.8365636571603464, 'lambda_l1': 3.5348657929986684, 'lambda_l2': 1.2291219099141832}. Best is trial 5 with value: 0.001282772232247101.\n",
      "[LightGBM] [Fatal] Reducing `min_data_in_leaf` with `feature_pre_filter=true` may cause unexpected behaviour for features that were pre-filtered by the larger `min_data_in_leaf`.\n",
      "You need to set `feature_pre_filter=false` to dynamically change the `min_data_in_leaf`.\n",
      "[LightGBM] [Fatal] Reducing `min_data_in_leaf` with `feature_pre_filter=true` may cause unexpected behaviour for features that were pre-filtered by the larger `min_data_in_leaf`.\n",
      "You need to set `feature_pre_filter=false` to dynamically change the `min_data_in_leaf`.\n"
     ]
    },
    {
     "name": "stdout",
     "output_type": "stream",
     "text": [
      "Training until validation scores don't improve for 30 rounds\n",
      "Early stopping, best iteration is:\n",
      "[331]\tvalid's rmse: 0.00117428\n"
     ]
    },
    {
     "name": "stderr",
     "output_type": "stream",
     "text": [
      "/opt/anaconda3/lib/python3.11/site-packages/sklearn/metrics/_regression.py:483: FutureWarning: 'squared' is deprecated in version 1.4 and will be removed in 1.6. To calculate the root mean squared error, use the function'root_mean_squared_error'.\n",
      "  warnings.warn(\n",
      "[I 2025-07-02 09:11:21,767] Trial 10 finished with value: 0.001174279261785087 and parameters: {'learning_rate': 0.20730652078910317, 'max_depth': 15, 'num_leaves': 255, 'min_data_in_leaf': 29, 'subsample': 0.5803787978943433, 'colsample_bytree': 0.5083116247290216, 'feature_fraction': 0.9991184892910611, 'lambda_l1': 0.5050243366937646, 'lambda_l2': 4.764029720666455}. Best is trial 10 with value: 0.001174279261785087.\n",
      "[LightGBM] [Fatal] Reducing `min_data_in_leaf` with `feature_pre_filter=true` may cause unexpected behaviour for features that were pre-filtered by the larger `min_data_in_leaf`.\n",
      "You need to set `feature_pre_filter=false` to dynamically change the `min_data_in_leaf`.\n",
      "[LightGBM] [Fatal] Reducing `min_data_in_leaf` with `feature_pre_filter=true` may cause unexpected behaviour for features that were pre-filtered by the larger `min_data_in_leaf`.\n",
      "You need to set `feature_pre_filter=false` to dynamically change the `min_data_in_leaf`.\n"
     ]
    },
    {
     "name": "stdout",
     "output_type": "stream",
     "text": [
      "Training until validation scores don't improve for 30 rounds\n",
      "Early stopping, best iteration is:\n",
      "[384]\tvalid's rmse: 0.00122767\n"
     ]
    },
    {
     "name": "stderr",
     "output_type": "stream",
     "text": [
      "/opt/anaconda3/lib/python3.11/site-packages/sklearn/metrics/_regression.py:483: FutureWarning: 'squared' is deprecated in version 1.4 and will be removed in 1.6. To calculate the root mean squared error, use the function'root_mean_squared_error'.\n",
      "  warnings.warn(\n",
      "[I 2025-07-02 09:11:59,812] Trial 11 finished with value: 0.001227666149095807 and parameters: {'learning_rate': 0.21468773159500587, 'max_depth': 15, 'num_leaves': 246, 'min_data_in_leaf': 20, 'subsample': 0.5654962952060261, 'colsample_bytree': 0.505658532274264, 'feature_fraction': 0.9652185473570889, 'lambda_l1': 0.4839202338537488, 'lambda_l2': 4.943398019742645}. Best is trial 10 with value: 0.001174279261785087.\n"
     ]
    },
    {
     "name": "stdout",
     "output_type": "stream",
     "text": [
      "Training until validation scores don't improve for 30 rounds\n",
      "Early stopping, best iteration is:\n",
      "[554]\tvalid's rmse: 0.00119079\n"
     ]
    },
    {
     "name": "stderr",
     "output_type": "stream",
     "text": [
      "/opt/anaconda3/lib/python3.11/site-packages/sklearn/metrics/_regression.py:483: FutureWarning: 'squared' is deprecated in version 1.4 and will be removed in 1.6. To calculate the root mean squared error, use the function'root_mean_squared_error'.\n",
      "  warnings.warn(\n",
      "[I 2025-07-02 09:14:46,863] Trial 12 finished with value: 0.0011907917948435877 and parameters: {'learning_rate': 0.2112756158240815, 'max_depth': 16, 'num_leaves': 248, 'min_data_in_leaf': 24, 'subsample': 0.5449129335210465, 'colsample_bytree': 0.5009554357577954, 'feature_fraction': 0.9918196943102352, 'lambda_l1': 0.0013230366124523663, 'lambda_l2': 4.974601545076384}. Best is trial 10 with value: 0.001174279261785087.\n"
     ]
    },
    {
     "name": "stdout",
     "output_type": "stream",
     "text": [
      "Training until validation scores don't improve for 30 rounds\n",
      "Early stopping, best iteration is:\n",
      "[506]\tvalid's rmse: 0.00123126\n"
     ]
    },
    {
     "name": "stderr",
     "output_type": "stream",
     "text": [
      "/opt/anaconda3/lib/python3.11/site-packages/sklearn/metrics/_regression.py:483: FutureWarning: 'squared' is deprecated in version 1.4 and will be removed in 1.6. To calculate the root mean squared error, use the function'root_mean_squared_error'.\n",
      "  warnings.warn(\n",
      "[I 2025-07-02 09:15:51,730] Trial 13 finished with value: 0.001231255689216063 and parameters: {'learning_rate': 0.18714783249623398, 'max_depth': 14, 'num_leaves': 254, 'min_data_in_leaf': 30, 'subsample': 0.5921877271184735, 'colsample_bytree': 0.5329689111750682, 'feature_fraction': 0.9988233472587528, 'lambda_l1': 0.04940327933006762, 'lambda_l2': 3.781293957489317}. Best is trial 10 with value: 0.001174279261785087.\n"
     ]
    },
    {
     "name": "stdout",
     "output_type": "stream",
     "text": [
      "Training until validation scores don't improve for 30 rounds\n",
      "Early stopping, best iteration is:\n",
      "[423]\tvalid's rmse: 0.00131573\n"
     ]
    },
    {
     "name": "stderr",
     "output_type": "stream",
     "text": [
      "/opt/anaconda3/lib/python3.11/site-packages/sklearn/metrics/_regression.py:483: FutureWarning: 'squared' is deprecated in version 1.4 and will be removed in 1.6. To calculate the root mean squared error, use the function'root_mean_squared_error'.\n",
      "  warnings.warn(\n",
      "[I 2025-07-02 09:16:14,264] Trial 14 finished with value: 0.0013157276334446104 and parameters: {'learning_rate': 0.1476678009800796, 'max_depth': 16, 'num_leaves': 209, 'min_data_in_leaf': 53, 'subsample': 0.6053581748891408, 'colsample_bytree': 0.635870451314318, 'feature_fraction': 0.7970323705017228, 'lambda_l1': 1.3714822999792289, 'lambda_l2': 3.946373868274243}. Best is trial 10 with value: 0.001174279261785087.\n"
     ]
    },
    {
     "name": "stdout",
     "output_type": "stream",
     "text": [
      "Training until validation scores don't improve for 30 rounds\n",
      "Early stopping, best iteration is:\n",
      "[293]\tvalid's rmse: 0.00121985\n"
     ]
    },
    {
     "name": "stderr",
     "output_type": "stream",
     "text": [
      "/opt/anaconda3/lib/python3.11/site-packages/sklearn/metrics/_regression.py:483: FutureWarning: 'squared' is deprecated in version 1.4 and will be removed in 1.6. To calculate the root mean squared error, use the function'root_mean_squared_error'.\n",
      "  warnings.warn(\n",
      "[I 2025-07-02 09:16:32,784] Trial 15 finished with value: 0.001219848482551152 and parameters: {'learning_rate': 0.23456727570918687, 'max_depth': 14, 'num_leaves': 181, 'min_data_in_leaf': 50, 'subsample': 0.5021372000867903, 'colsample_bytree': 0.5736413315696646, 'feature_fraction': 0.9891632941945302, 'lambda_l1': 0.6836083485476172, 'lambda_l2': 3.044481903039319}. Best is trial 10 with value: 0.001174279261785087.\n"
     ]
    },
    {
     "name": "stdout",
     "output_type": "stream",
     "text": [
      "Training until validation scores don't improve for 30 rounds\n",
      "Early stopping, best iteration is:\n",
      "[233]\tvalid's rmse: 0.00146427\n"
     ]
    },
    {
     "name": "stderr",
     "output_type": "stream",
     "text": [
      "/opt/anaconda3/lib/python3.11/site-packages/sklearn/metrics/_regression.py:483: FutureWarning: 'squared' is deprecated in version 1.4 and will be removed in 1.6. To calculate the root mean squared error, use the function'root_mean_squared_error'.\n",
      "  warnings.warn(\n",
      "[I 2025-07-02 09:16:45,131] Trial 16 finished with value: 0.0014642696477079166 and parameters: {'learning_rate': 0.17970383821047559, 'max_depth': 13, 'num_leaves': 235, 'min_data_in_leaf': 42, 'subsample': 0.6279902048331136, 'colsample_bytree': 0.6731043135104116, 'feature_fraction': 0.7706821942207281, 'lambda_l1': 2.193598924362542, 'lambda_l2': 4.383521928819544}. Best is trial 10 with value: 0.001174279261785087.\n"
     ]
    },
    {
     "name": "stdout",
     "output_type": "stream",
     "text": [
      "Training until validation scores don't improve for 30 rounds\n",
      "Early stopping, best iteration is:\n",
      "[505]\tvalid's rmse: 0.00116979\n"
     ]
    },
    {
     "name": "stderr",
     "output_type": "stream",
     "text": [
      "/opt/anaconda3/lib/python3.11/site-packages/sklearn/metrics/_regression.py:483: FutureWarning: 'squared' is deprecated in version 1.4 and will be removed in 1.6. To calculate the root mean squared error, use the function'root_mean_squared_error'.\n",
      "  warnings.warn(\n",
      "[I 2025-07-02 09:17:43,023] Trial 17 finished with value: 0.001169793479539612 and parameters: {'learning_rate': 0.22967887181351865, 'max_depth': 16, 'num_leaves': 176, 'min_data_in_leaf': 124, 'subsample': 0.5596318403742315, 'colsample_bytree': 0.5654825986456615, 'feature_fraction': 0.940039989639881, 'lambda_l1': 0.01713961381718806, 'lambda_l2': 3.1133393998071384}. Best is trial 17 with value: 0.001169793479539612.\n"
     ]
    },
    {
     "name": "stdout",
     "output_type": "stream",
     "text": [
      "Training until validation scores don't improve for 30 rounds\n",
      "Early stopping, best iteration is:\n",
      "[420]\tvalid's rmse: 0.00137585\n"
     ]
    },
    {
     "name": "stderr",
     "output_type": "stream",
     "text": [
      "/opt/anaconda3/lib/python3.11/site-packages/sklearn/metrics/_regression.py:483: FutureWarning: 'squared' is deprecated in version 1.4 and will be removed in 1.6. To calculate the root mean squared error, use the function'root_mean_squared_error'.\n",
      "  warnings.warn(\n",
      "[I 2025-07-02 09:18:02,470] Trial 18 finished with value: 0.001375847855868767 and parameters: {'learning_rate': 0.23833241796100618, 'max_depth': 15, 'num_leaves': 110, 'min_data_in_leaf': 125, 'subsample': 0.6290739623046977, 'colsample_bytree': 0.5750006455304052, 'feature_fraction': 0.9311170508140453, 'lambda_l1': 1.4976480801092213, 'lambda_l2': 2.931243120832362}. Best is trial 17 with value: 0.001169793479539612.\n"
     ]
    },
    {
     "name": "stdout",
     "output_type": "stream",
     "text": [
      "Training until validation scores don't improve for 30 rounds\n",
      "Early stopping, best iteration is:\n",
      "[425]\tvalid's rmse: 0.00127933\n"
     ]
    },
    {
     "name": "stderr",
     "output_type": "stream",
     "text": [
      "/opt/anaconda3/lib/python3.11/site-packages/sklearn/metrics/_regression.py:483: FutureWarning: 'squared' is deprecated in version 1.4 and will be removed in 1.6. To calculate the root mean squared error, use the function'root_mean_squared_error'.\n",
      "  warnings.warn(\n",
      "[I 2025-07-02 09:18:28,271] Trial 19 finished with value: 0.0012793504258112646 and parameters: {'learning_rate': 0.24747360864766332, 'max_depth': 13, 'num_leaves': 174, 'min_data_in_leaf': 153, 'subsample': 0.7744388669646556, 'colsample_bytree': 0.6975258737971253, 'feature_fraction': 0.7106775430699341, 'lambda_l1': 0.7846617416075038, 'lambda_l2': 2.918956044001413}. Best is trial 17 with value: 0.001169793479539612.\n"
     ]
    },
    {
     "name": "stdout",
     "output_type": "stream",
     "text": [
      "Training until validation scores don't improve for 30 rounds\n",
      "Early stopping, best iteration is:\n",
      "[720]\tvalid's rmse: 0.00136424\n"
     ]
    },
    {
     "name": "stderr",
     "output_type": "stream",
     "text": [
      "/opt/anaconda3/lib/python3.11/site-packages/sklearn/metrics/_regression.py:483: FutureWarning: 'squared' is deprecated in version 1.4 and will be removed in 1.6. To calculate the root mean squared error, use the function'root_mean_squared_error'.\n",
      "  warnings.warn(\n",
      "[I 2025-07-02 09:18:59,613] Trial 20 finished with value: 0.0013642420969453683 and parameters: {'learning_rate': 0.12910985025799285, 'max_depth': 15, 'num_leaves': 193, 'min_data_in_leaf': 118, 'subsample': 0.6433193369802429, 'colsample_bytree': 0.6108894083349894, 'feature_fraction': 0.8302576024737875, 'lambda_l1': 1.6709753377295338, 'lambda_l2': 1.284786314600719}. Best is trial 17 with value: 0.001169793479539612.\n"
     ]
    },
    {
     "name": "stdout",
     "output_type": "stream",
     "text": [
      "Training until validation scores don't improve for 30 rounds\n",
      "Early stopping, best iteration is:\n",
      "[276]\tvalid's rmse: 0.00109008\n"
     ]
    },
    {
     "name": "stderr",
     "output_type": "stream",
     "text": [
      "/opt/anaconda3/lib/python3.11/site-packages/sklearn/metrics/_regression.py:483: FutureWarning: 'squared' is deprecated in version 1.4 and will be removed in 1.6. To calculate the root mean squared error, use the function'root_mean_squared_error'.\n",
      "  warnings.warn(\n",
      "[I 2025-07-02 09:19:35,386] Trial 21 finished with value: 0.001090083199204988 and parameters: {'learning_rate': 0.17593195210154478, 'max_depth': 16, 'num_leaves': 230, 'min_data_in_leaf': 67, 'subsample': 0.5512050842943625, 'colsample_bytree': 0.5307623061267132, 'feature_fraction': 0.9724710270688968, 'lambda_l1': 0.003638203582939829, 'lambda_l2': 4.3412214821943}. Best is trial 21 with value: 0.001090083199204988.\n"
     ]
    },
    {
     "name": "stdout",
     "output_type": "stream",
     "text": [
      "Training until validation scores don't improve for 30 rounds\n",
      "Early stopping, best iteration is:\n",
      "[476]\tvalid's rmse: 0.00111042\n"
     ]
    },
    {
     "name": "stderr",
     "output_type": "stream",
     "text": [
      "/opt/anaconda3/lib/python3.11/site-packages/sklearn/metrics/_regression.py:483: FutureWarning: 'squared' is deprecated in version 1.4 and will be removed in 1.6. To calculate the root mean squared error, use the function'root_mean_squared_error'.\n",
      "  warnings.warn(\n",
      "[I 2025-07-02 09:20:13,064] Trial 22 finished with value: 0.001110421984565484 and parameters: {'learning_rate': 0.17009267699329306, 'max_depth': 16, 'num_leaves': 225, 'min_data_in_leaf': 71, 'subsample': 0.5559253444623875, 'colsample_bytree': 0.5403329282799658, 'feature_fraction': 0.9405317592974269, 'lambda_l1': 0.39463934445796306, 'lambda_l2': 4.307684898196067}. Best is trial 21 with value: 0.001090083199204988.\n"
     ]
    },
    {
     "name": "stdout",
     "output_type": "stream",
     "text": [
      "Training until validation scores don't improve for 30 rounds\n",
      "Early stopping, best iteration is:\n",
      "[734]\tvalid's rmse: 0.00123871\n"
     ]
    },
    {
     "name": "stderr",
     "output_type": "stream",
     "text": [
      "/opt/anaconda3/lib/python3.11/site-packages/sklearn/metrics/_regression.py:483: FutureWarning: 'squared' is deprecated in version 1.4 and will be removed in 1.6. To calculate the root mean squared error, use the function'root_mean_squared_error'.\n",
      "  warnings.warn(\n",
      "[I 2025-07-02 09:21:06,641] Trial 23 finished with value: 0.0012387071567163926 and parameters: {'learning_rate': 0.15521488706205455, 'max_depth': 16, 'num_leaves': 222, 'min_data_in_leaf': 73, 'subsample': 0.5364771184067847, 'colsample_bytree': 0.5582389603821261, 'feature_fraction': 0.937274617528571, 'lambda_l1': 0.9346371789059406, 'lambda_l2': 4.230136921348132}. Best is trial 21 with value: 0.001090083199204988.\n"
     ]
    },
    {
     "name": "stdout",
     "output_type": "stream",
     "text": [
      "Training until validation scores don't improve for 30 rounds\n",
      "Early stopping, best iteration is:\n",
      "[804]\tvalid's rmse: 0.00108922\n"
     ]
    },
    {
     "name": "stderr",
     "output_type": "stream",
     "text": [
      "/opt/anaconda3/lib/python3.11/site-packages/sklearn/metrics/_regression.py:483: FutureWarning: 'squared' is deprecated in version 1.4 and will be removed in 1.6. To calculate the root mean squared error, use the function'root_mean_squared_error'.\n",
      "  warnings.warn(\n",
      "[I 2025-07-02 09:22:32,612] Trial 24 finished with value: 0.0010892238036200102 and parameters: {'learning_rate': 0.1698996346774407, 'max_depth': 13, 'num_leaves': 227, 'min_data_in_leaf': 72, 'subsample': 0.9725103330538538, 'colsample_bytree': 0.6346905256515123, 'feature_fraction': 0.8689741116377997, 'lambda_l1': 0.24063992917357932, 'lambda_l2': 3.372609181039029}. Best is trial 24 with value: 0.0010892238036200102.\n"
     ]
    },
    {
     "name": "stdout",
     "output_type": "stream",
     "text": [
      "Training until validation scores don't improve for 30 rounds\n",
      "Early stopping, best iteration is:\n",
      "[644]\tvalid's rmse: 0.00112185\n"
     ]
    },
    {
     "name": "stderr",
     "output_type": "stream",
     "text": [
      "/opt/anaconda3/lib/python3.11/site-packages/sklearn/metrics/_regression.py:483: FutureWarning: 'squared' is deprecated in version 1.4 and will be removed in 1.6. To calculate the root mean squared error, use the function'root_mean_squared_error'.\n",
      "  warnings.warn(\n",
      "[I 2025-07-02 09:23:27,216] Trial 25 finished with value: 0.0011218468700578443 and parameters: {'learning_rate': 0.17177996159037534, 'max_depth': 13, 'num_leaves': 227, 'min_data_in_leaf': 67, 'subsample': 0.9875202409660884, 'colsample_bytree': 0.7014743956132656, 'feature_fraction': 0.8805635788811653, 'lambda_l1': 0.36054188689878386, 'lambda_l2': 3.478769960790456}. Best is trial 24 with value: 0.0010892238036200102.\n"
     ]
    },
    {
     "name": "stdout",
     "output_type": "stream",
     "text": [
      "Training until validation scores don't improve for 30 rounds\n",
      "Early stopping, best iteration is:\n",
      "[938]\tvalid's rmse: 0.00126246\n"
     ]
    },
    {
     "name": "stderr",
     "output_type": "stream",
     "text": [
      "/opt/anaconda3/lib/python3.11/site-packages/sklearn/metrics/_regression.py:483: FutureWarning: 'squared' is deprecated in version 1.4 and will be removed in 1.6. To calculate the root mean squared error, use the function'root_mean_squared_error'.\n",
      "  warnings.warn(\n",
      "[I 2025-07-02 09:24:12,348] Trial 26 finished with value: 0.0012624641827835555 and parameters: {'learning_rate': 0.10305217875566741, 'max_depth': 12, 'num_leaves': 192, 'min_data_in_leaf': 76, 'subsample': 0.9611192353376037, 'colsample_bytree': 0.6357295467311126, 'feature_fraction': 0.8006477837958945, 'lambda_l1': 1.0510495691967665, 'lambda_l2': 4.536138190892915}. Best is trial 24 with value: 0.0010892238036200102.\n"
     ]
    },
    {
     "name": "stdout",
     "output_type": "stream",
     "text": [
      "Training until validation scores don't improve for 30 rounds\n",
      "Early stopping, best iteration is:\n",
      "[550]\tvalid's rmse: 0.00140279\n"
     ]
    },
    {
     "name": "stderr",
     "output_type": "stream",
     "text": [
      "/opt/anaconda3/lib/python3.11/site-packages/sklearn/metrics/_regression.py:483: FutureWarning: 'squared' is deprecated in version 1.4 and will be removed in 1.6. To calculate the root mean squared error, use the function'root_mean_squared_error'.\n",
      "  warnings.warn(\n",
      "[I 2025-07-02 09:24:34,779] Trial 27 finished with value: 0.00140279285420248 and parameters: {'learning_rate': 0.15950692119789162, 'max_depth': 14, 'num_leaves': 230, 'min_data_in_leaf': 108, 'subsample': 0.8307318979873539, 'colsample_bytree': 0.6190379135801028, 'feature_fraction': 0.9552863610421523, 'lambda_l1': 1.8083303667437043, 'lambda_l2': 4.048722560394273}. Best is trial 24 with value: 0.0010892238036200102.\n"
     ]
    },
    {
     "name": "stdout",
     "output_type": "stream",
     "text": [
      "Training until validation scores don't improve for 30 rounds\n",
      "Early stopping, best iteration is:\n",
      "[708]\tvalid's rmse: 0.00109727\n"
     ]
    },
    {
     "name": "stderr",
     "output_type": "stream",
     "text": [
      "/opt/anaconda3/lib/python3.11/site-packages/sklearn/metrics/_regression.py:483: FutureWarning: 'squared' is deprecated in version 1.4 and will be removed in 1.6. To calculate the root mean squared error, use the function'root_mean_squared_error'.\n",
      "  warnings.warn(\n",
      "[I 2025-07-02 09:25:24,810] Trial 28 finished with value: 0.001097272289710619 and parameters: {'learning_rate': 0.1201818984870786, 'max_depth': 11, 'num_leaves': 147, 'min_data_in_leaf': 56, 'subsample': 0.8751147562428059, 'colsample_bytree': 0.5398498753179266, 'feature_fraction': 0.9123205915141174, 'lambda_l1': 0.3298546413664763, 'lambda_l2': 3.457499342641211}. Best is trial 24 with value: 0.0010892238036200102.\n"
     ]
    },
    {
     "name": "stdout",
     "output_type": "stream",
     "text": [
      "Training until validation scores don't improve for 30 rounds\n",
      "Early stopping, best iteration is:\n",
      "[801]\tvalid's rmse: 0.00124085\n"
     ]
    },
    {
     "name": "stderr",
     "output_type": "stream",
     "text": [
      "/opt/anaconda3/lib/python3.11/site-packages/sklearn/metrics/_regression.py:483: FutureWarning: 'squared' is deprecated in version 1.4 and will be removed in 1.6. To calculate the root mean squared error, use the function'root_mean_squared_error'.\n",
      "  warnings.warn(\n",
      "[I 2025-07-02 09:26:07,988] Trial 29 finished with value: 0.0012408542627998763 and parameters: {'learning_rate': 0.09770799212620346, 'max_depth': 11, 'num_leaves': 105, 'min_data_in_leaf': 55, 'subsample': 0.8943057569987869, 'colsample_bytree': 0.660820194721474, 'feature_fraction': 0.8682860216856194, 'lambda_l1': 0.9391729602624839, 'lambda_l2': 3.426739994115603}. Best is trial 24 with value: 0.0010892238036200102.\n"
     ]
    },
    {
     "name": "stdout",
     "output_type": "stream",
     "text": [
      "📌 Mejores hiperparámetros para cluster 5:\n",
      "   learning_rate: 0.1698996346774407\n",
      "   max_depth: 13\n",
      "   num_leaves: 227\n",
      "   min_data_in_leaf: 72\n",
      "   subsample: 0.9725103330538538\n",
      "   colsample_bytree: 0.6346905256515123\n",
      "   feature_fraction: 0.8689741116377997\n",
      "   lambda_l1: 0.24063992917357932\n",
      "   lambda_l2: 3.372609181039029\n",
      "   objective: regression\n",
      "   metric: rmse\n",
      "   verbose: -1\n",
      "Training until validation scores don't improve for 50 rounds\n",
      "[100]\tvalid's rmse: 0.00126175\n",
      "[200]\tvalid's rmse: 0.00115031\n",
      "[300]\tvalid's rmse: 0.00111488\n",
      "[400]\tvalid's rmse: 0.00110108\n",
      "[500]\tvalid's rmse: 0.00109567\n",
      "[600]\tvalid's rmse: 0.00109203\n",
      "[700]\tvalid's rmse: 0.00109026\n",
      "[800]\tvalid's rmse: 0.0010894\n",
      "[900]\tvalid's rmse: 0.00108841\n",
      "[1000]\tvalid's rmse: 0.00108765\n",
      "Did not meet early stopping. Best iteration is:\n",
      "[1000]\tvalid's rmse: 0.00108765\n",
      "✅ Modelo guardado en lightgbm_cluster_5.txt\n"
     ]
    }
   ],
   "source": [
    "\n",
    "# Diccionario para guardar modelos entrenados\n",
    "modelos = {}\n",
    "\n",
    "# Entrenamiento por clúster\n",
    "for cluster_id in sorted(df_train['cluster_predicho'].unique()):\n",
    "    print(f\"\\n🔄 Entrenando modelo para cluster {cluster_id}...\")\n",
    "\n",
    "    # Subconjunto del cluster\n",
    "    df_cluster = df_train[df_train['cluster_predicho'] == cluster_id].copy()\n",
    "\n",
    "    # Asegurar que las categóricas estén como 'category'\n",
    "    for col in FEATURES_CATEGORICAS:\n",
    "        if col in df_cluster.columns:\n",
    "            df_cluster[col] = df_cluster[col].astype('category')\n",
    "\n",
    "    # Definir variables input y target\n",
    "    columnas_input = [col for col in df_cluster.columns if col not in EXCLUIR]\n",
    "    X = df_cluster[columnas_input]\n",
    "    y = df_cluster[TARGET]\n",
    "\n",
    "    # Separar en train y validación\n",
    "    X_train, X_val, y_train, y_val = train_test_split(\n",
    "        X, y, test_size=0.2, random_state=42\n",
    "    )\n",
    "\n",
    "    # Dataset LightGBM\n",
    "    lgb_train = lgb.Dataset(X_train, label=y_train, categorical_feature=FEATURES_CATEGORICAS, free_raw_data=False)\n",
    "    lgb_val = lgb.Dataset(X_val, label=y_val, reference=lgb_train, categorical_feature=FEATURES_CATEGORICAS, free_raw_data=False)\n",
    "\n",
    "    # Función objetivo para Optuna\n",
    "    def objective(trial):\n",
    "        param_grid = {\n",
    "            'objective': 'regression',\n",
    "            'metric': 'rmse',\n",
    "            'learning_rate': trial.suggest_float('learning_rate', 0.01, 0.3),\n",
    "            'max_depth': trial.suggest_int('max_depth', 6, 16),\n",
    "            'num_leaves': trial.suggest_int('num_leaves', 20, 255),\n",
    "            'min_data_in_leaf': trial.suggest_int('min_data_in_leaf', 20, 200),\n",
    "            'subsample': trial.suggest_float('subsample', 0.5, 1.0),\n",
    "            'colsample_bytree': trial.suggest_float('colsample_bytree', 0.5, 1.0),\n",
    "            'feature_fraction': trial.suggest_float('feature_fraction', 0.5, 1.0),\n",
    "            'lambda_l1': trial.suggest_float('lambda_l1', 0.0, 5.0),\n",
    "            'lambda_l2': trial.suggest_float('lambda_l2', 0.0, 5.0),\n",
    "            'verbose': -1\n",
    "        }\n",
    "\n",
    "        gbm = lgb.train(\n",
    "            param_grid,\n",
    "            lgb_train,\n",
    "            valid_sets=[lgb_val],\n",
    "            valid_names=['valid'],\n",
    "            num_boost_round=1000,\n",
    "            callbacks=[\n",
    "                lgb.early_stopping(stopping_rounds=30),\n",
    "                lgb.log_evaluation(period=0)\n",
    "            ]\n",
    "        )\n",
    "\n",
    "        preds = gbm.predict(X_val, num_iteration=gbm.best_iteration)\n",
    "        rmse = mean_squared_error(y_val, preds, squared=False)\n",
    "        return rmse\n",
    "\n",
    "    # Correr Optuna\n",
    "    study = optuna.create_study(direction=\"minimize\")\n",
    "    study.optimize(objective, n_trials=30)\n",
    "\n",
    "    # Entrenar modelo final con mejores hiperparámetros\n",
    "    best_params = study.best_params\n",
    "    best_params.update({\n",
    "        'objective': 'regression',\n",
    "        'metric': 'rmse',\n",
    "        'verbose': -1\n",
    "    })\n",
    "\n",
    "    print(f\"📌 Mejores hiperparámetros para cluster {cluster_id}:\")\n",
    "    for k, v in best_params.items():\n",
    "        print(f\"   {k}: {v}\")\n",
    "\n",
    "    model = lgb.train(\n",
    "        best_params,\n",
    "        lgb_train,\n",
    "        valid_sets=[lgb_val],\n",
    "        valid_names=['valid'],\n",
    "        num_boost_round=1000,\n",
    "        callbacks=[\n",
    "            lgb.early_stopping(stopping_rounds=50),\n",
    "            lgb.log_evaluation(period=100)\n",
    "        ]\n",
    "    )\n",
    "\n",
    "    # Guardar modelo\n",
    "    modelo_path = f'lightgbm_cluster_{cluster_id}.txt'\n",
    "    model.save_model(modelo_path)\n",
    "    modelos[cluster_id] = model\n",
    "    print(f\"✅ Modelo guardado en {modelo_path}\")\n"
   ]
  },
  {
   "cell_type": "code",
   "execution_count": 10,
   "id": "09d268a6",
   "metadata": {},
   "outputs": [],
   "source": [
    "# 🧱 Paso 1: Crear base para 202002 copiando la de 201912\n",
    "df_pred = df[df['periodo'] == 20191201].copy()\n",
    "df_pred['periodo'] = 20200201  # Modificar período\n"
   ]
  },
  {
   "cell_type": "code",
   "execution_count": 11,
   "id": "f2003765",
   "metadata": {},
   "outputs": [],
   "source": [
    "# 🧠 Paso 2: Cargar modelos por cluster\n",
    "modelos = {}\n",
    "for cluster_id in df_train['cluster_predicho'].unique():\n",
    "    path = f'lightgbm_cluster_{cluster_id}.txt'\n",
    "    modelos[cluster_id] = lgb.Booster(model_file=path)\n"
   ]
  },
  {
   "cell_type": "code",
   "execution_count": 12,
   "id": "3a6bab86",
   "metadata": {},
   "outputs": [
    {
     "name": "stdout",
     "output_type": "stream",
     "text": [
      "465660\n"
     ]
    }
   ],
   "source": [
    "print(len(df_pred))"
   ]
  },
  {
   "cell_type": "code",
   "execution_count": 13,
   "id": "71e33fd7",
   "metadata": {},
   "outputs": [
    {
     "name": "stdout",
     "output_type": "stream",
     "text": [
      "🔮 Prediciendo cluster 0...\n",
      "🔮 Prediciendo cluster 1...\n",
      "🔮 Prediciendo cluster 2...\n",
      "🔮 Prediciendo cluster 3...\n",
      "🔮 Prediciendo cluster 4...\n",
      "🔮 Prediciendo cluster 5...\n"
     ]
    }
   ],
   "source": [
    "# 🎯 Paso 3: Predecir por cluster\n",
    "predicciones = []\n",
    "for cluster_id in sorted(df_pred['cluster_predicho'].unique()):\n",
    "    print(f\"🔮 Prediciendo cluster {cluster_id}...\")\n",
    "    df_cluster = df_pred[df_pred['cluster_predicho'] == cluster_id].copy()\n",
    "\n",
    "    # Asegurar categorías\n",
    "    for col in FEATURES_CATEGORICAS:\n",
    "        if col in df_cluster.columns:\n",
    "            df_cluster[col] = df_cluster[col].astype('category')\n",
    "\n",
    "    columnas_input = [col for col in df_cluster.columns if col not in EXCLUIR]\n",
    "    X_pred = df_cluster[columnas_input]\n",
    "    modelo = modelos[cluster_id]\n",
    "    df_cluster['pred_tn'] = modelo.predict(X_pred)\n",
    "    predicciones.append(df_cluster)\n",
    "\n",
    "\n"
   ]
  },
  {
   "cell_type": "code",
   "execution_count": 14,
   "id": "6f31ed0d",
   "metadata": {},
   "outputs": [
    {
     "name": "stdout",
     "output_type": "stream",
     "text": [
      "✅ Archivo guardado: predicciones_202002_clusterv2.csv\n"
     ]
    }
   ],
   "source": [
    "# ✅ Paso final: unir predicciones, agrupar por product_id y exportar\n",
    "if predicciones:\n",
    "    df_resultado = pd.concat(predicciones)\n",
    "\n",
    "    # Agrupar por product_id y sumar las toneladas predichas\n",
    "    df_export = (\n",
    "        df_resultado.groupby('product_id', as_index=False)['tn']\n",
    "        .sum()\n",
    "        .sort_values('product_id')  # opcional, para orden prolijo\n",
    "    )\n",
    "\n",
    "    # Exportar archivo final\n",
    "    df_export.to_csv('../data/predicciones_202002_clusterv2.csv', index=False)\n",
    "    print(\"✅ Archivo guardado: predicciones_202002_clusterv2.csv\")\n",
    "else:\n",
    "    print(\"⚠️ No se generó ninguna predicción.\")\n"
   ]
  }
 ],
 "metadata": {
  "kernelspec": {
   "display_name": "base",
   "language": "python",
   "name": "python3"
  },
  "language_info": {
   "codemirror_mode": {
    "name": "ipython",
    "version": 3
   },
   "file_extension": ".py",
   "mimetype": "text/x-python",
   "name": "python",
   "nbconvert_exporter": "python",
   "pygments_lexer": "ipython3",
   "version": "3.11.5"
  }
 },
 "nbformat": 4,
 "nbformat_minor": 5
}
